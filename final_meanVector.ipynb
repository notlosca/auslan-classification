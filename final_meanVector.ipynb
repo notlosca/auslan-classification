{
 "cells": [
  {
   "cell_type": "code",
   "execution_count": null,
   "metadata": {},
   "outputs": [],
   "source": [
    "import pandas as pd\n",
    "import numpy as np\n",
    "import os\n",
    "import utils"
   ]
  },
  {
   "cell_type": "code",
   "execution_count": null,
   "metadata": {},
   "outputs": [],
   "source": [
    "features_1 = [\n",
    "    'sx_roll',\n",
    "    'sx_pitch',\n",
    "    'sx_yaw',\n",
    "    'sx_thumb',\n",
    "    'sx_x',\n",
    "    'sx_y',\n",
    "    'sx_z',\n",
    "    'sx_forefinger',\n",
    "    'sx_middle_finger',\n",
    "    'sx_ring_finger',\n",
    "    'sx_little_finger',\n",
    "    'dx_roll',\n",
    "    'dx_pitch',\n",
    "    'dx_yaw',\n",
    "    'dx_x',\n",
    "    'dx_y',\n",
    "    'dx_z',\n",
    "    'dx_thumb',\n",
    "    'dx_forefinger',\n",
    "    'dx_middle_finger',\n",
    "    'dx_ring_finger',\n",
    "    'dx_little_finger'\n",
    "    ]\n",
    "\n"
   ]
  },
  {
   "cell_type": "code",
   "execution_count": null,
   "metadata": {},
   "outputs": [],
   "source": [
    "path = \"./tctodd/\"\n",
    "dirs = os.listdir(path=path)\n",
    "weeks = sorted([i for i in dirs if i != \".DS_Store\"])\n",
    "filenames = sorted(os.listdir(path+weeks[1]))\n",
    "\n",
    "data = []\n",
    "labels = dict()\n",
    "label_cnt = 0\n",
    "\n",
    "for w in weeks:\n",
    "    temp_path = path+w+\"/\"\n",
    "    filenames = sorted(os.listdir(temp_path))\n",
    "    for fn in filenames:\n",
    "        label = fn.split('.')[0][:-2]\n",
    "        \n",
    "        if label not in labels:\n",
    "            labels[label] = label_cnt\n",
    "            label_cnt += 1\n",
    "            \n",
    "        data.append({'label':labels[label], 'time_series':pd.read_csv(temp_path+fn, header=None, sep='\\t',).values})\n",
    "        "
   ]
  },
  {
   "cell_type": "code",
   "execution_count": null,
   "metadata": {},
   "outputs": [],
   "source": [
    "df = pd.DataFrame(data, columns=['label', 'time_series'])\n",
    "print(df['label'].value_counts())\n",
    "df.head()"
   ]
  },
  {
   "cell_type": "code",
   "execution_count": null,
   "metadata": {},
   "outputs": [],
   "source": [
    "lengths = []\n",
    "for i in range(len(df)):\n",
    "    lengths.append(df.iloc[i]['time_series'].shape[0])\n",
    "print(np.mean(lengths))"
   ]
  },
  {
   "cell_type": "code",
   "execution_count": null,
   "metadata": {},
   "outputs": [],
   "source": [
    "import sklearn as sk\n",
    "from sklearn.model_selection import train_test_split\n",
    "seed = 0\n",
    "\n",
    "# Shuffle the dataframe\n",
    "shuffled_df = sk.utils.shuffle(df, random_state=seed)\n",
    "X_train, X_test, y_train, y_test = train_test_split(shuffled_df['time_series'], shuffled_df['label'], stratify=shuffled_df['label'],  train_size=.9, random_state=seed)"
   ]
  },
  {
   "cell_type": "code",
   "execution_count": null,
   "metadata": {},
   "outputs": [],
   "source": [
    "unique, counts = np.unique(y_train.values, return_counts=True)\n",
    "print(np.asarray((unique, counts)).T)"
   ]
  },
  {
   "cell_type": "code",
   "execution_count": null,
   "metadata": {},
   "outputs": [],
   "source": [
    "from utils import compute_mean_feature_vector\n",
    "X_train_mean_fv = compute_mean_feature_vector(X_train)\n",
    "X_test_mean_fv = compute_mean_feature_vector(X_test)"
   ]
  },
  {
   "cell_type": "code",
   "execution_count": null,
   "metadata": {},
   "outputs": [],
   "source": [
    "from sklearn.svm import SVC\n",
    "from sklearn.metrics import accuracy_score\n",
    "\n",
    "from sklearn.preprocessing import StandardScaler\n",
    "\n",
    "SC = StandardScaler()\n",
    "SC.fit(X_train_mean_fv)\n",
    "matrix_X_train_mean_fv_scaled = SC.transform(X_train_mean_fv)\n",
    "matrix_X_test_mean_fv_scaled = SC.transform(X_test_mean_fv)\n",
    "\n"
   ]
  },
  {
   "cell_type": "code",
   "execution_count": null,
   "metadata": {},
   "outputs": [],
   "source": [
    "import logging\n",
    "logging.basicConfig(filename=\"logfilename.log\", level=logging.INFO)\n"
   ]
  },
  {
   "cell_type": "code",
   "execution_count": null,
   "metadata": {},
   "outputs": [],
   "source": [
    "##MAnca il k fold (forse non lo teniamo)\n",
    "\n",
    "import itertools\n",
    "from tqdm import tqdm\n",
    "best_acc_score = 0\n",
    "best_combination = ''\n",
    "params = [['linear', 'poly', 'rbf', 'sigmoid'], [0.00001, 0.0001, 0.001, 0.01, 0.1, 1, 2, 5, 10], [0.00001, 0.0001, 0.001, 0.01, 0.1, 1, 2, 5, 10],[2, 3, 5, 6, 8, 9, 11, 13, 15, 17, 20, 25, 30]]\n",
    "params_comb = list(itertools.product(*params))\n",
    "max_iter=100\n",
    "for params in tqdm(params_comb, desc='calculating diff params combinations..'):\n",
    "    try:\n",
    "        svc = SVC(kernel=params[0], C=params[1], gamma = params[2], degree= params[3], max_iter=max_iter)\n",
    "        svc.fit(matrix_X_train_mean_fv_scaled, y_train.values)\n",
    "        predictions = svc.predict(matrix_X_test_mean_fv_scaled)\n",
    "        res = accuracy_score(y_test.values, predictions)\n",
    "        if res > best_acc_score:\n",
    "            best_acc_score = res\n",
    "            best_combination = f'kernel:{params[0]}, C={params[1]}, gamma={params[2]}, degree={params[3]}.'\n",
    "            logging.info(f'[SCORE] found new best acc score! {best_acc_score}, best combination: {best_combination}')\n",
    "    except:\n",
    "        logging.info(f'[SKIP] skipping the following parameters: kernel={params[0]}, C={params[1]}, gamma={params[2]}, degree={params[3]}')\n",
    "        continue\n",
    "print(f'best accuracy score: {best_acc_score}, best combination: {best_combination}')"
   ]
  }
 ],
 "metadata": {
  "language_info": {
   "name": "python"
  },
  "orig_nbformat": 4
 },
 "nbformat": 4,
 "nbformat_minor": 2
}
