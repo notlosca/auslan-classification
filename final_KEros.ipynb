{
 "cells": [
  {
   "cell_type": "code",
   "execution_count": 1,
   "metadata": {},
   "outputs": [],
   "source": [
    "import pandas as pd\n",
    "import numpy as np\n",
    "import os\n",
    "from utils import k_eros"
   ]
  },
  {
   "cell_type": "code",
   "execution_count": 2,
   "metadata": {},
   "outputs": [],
   "source": [
    "features_1 = [\n",
    "    'sx_x',\n",
    "    'sx_y',\n",
    "    'sx_z',\n",
    "    'sx_roll',\n",
    "    'sx_pitch',\n",
    "    'sx_yaw',\n",
    "    'sx_thumb',\n",
    "    'sx_forefinger',\n",
    "    'sx_middle_finger',\n",
    "    'sx_ring_finger',\n",
    "    'sx_little_finger',\n",
    "    'dx_x',\n",
    "    'dx_y',\n",
    "    'dx_z',\n",
    "    'dx_roll',\n",
    "    'dx_pitch',\n",
    "    'dx_yaw',\n",
    "    'dx_thumb',\n",
    "    'dx_forefinger',\n",
    "    'dx_middle_finger',\n",
    "    'dx_ring_finger',\n",
    "    'dx_little_finger'\n",
    "    ]\n",
    "\n"
   ]
  },
  {
   "cell_type": "code",
   "execution_count": 3,
   "metadata": {},
   "outputs": [],
   "source": [
    "path = \"./tctodd/\"\n",
    "#path = \"../../Desktop/MML Project/tctodd/\"\n",
    "dirs = os.listdir(path=path)\n",
    "weeks = sorted([i for i in dirs if i != \".DS_Store\"])\n",
    "filenames = sorted(os.listdir(path+weeks[1]))\n",
    "\n",
    "data = []\n",
    "labels = dict()\n",
    "label_cnt = 0\n",
    "\n",
    "for w in weeks:\n",
    "    temp_path = path+w+\"/\"\n",
    "    filenames = sorted(os.listdir(temp_path))\n",
    "    for fn in filenames:\n",
    "        label = fn.split('.')[0][:-2]\n",
    "        \n",
    "        if label not in labels:\n",
    "            labels[label] = label_cnt\n",
    "            label_cnt += 1\n",
    "            \n",
    "        data.append({'label':labels[label], 'time_series':pd.read_csv(temp_path+fn, header=None, sep='\\t',).values})\n",
    "        "
   ]
  },
  {
   "cell_type": "code",
   "execution_count": 4,
   "metadata": {},
   "outputs": [
    {
     "name": "stdout",
     "output_type": "stream",
     "text": [
      "0     27\n",
      "60    27\n",
      "69    27\n",
      "68    27\n",
      "67    27\n",
      "      ..\n",
      "29    27\n",
      "28    27\n",
      "27    27\n",
      "26    27\n",
      "94    27\n",
      "Name: label, Length: 95, dtype: int64\n"
     ]
    },
    {
     "data": {
      "text/html": [
       "<div>\n",
       "<style scoped>\n",
       "    .dataframe tbody tr th:only-of-type {\n",
       "        vertical-align: middle;\n",
       "    }\n",
       "\n",
       "    .dataframe tbody tr th {\n",
       "        vertical-align: top;\n",
       "    }\n",
       "\n",
       "    .dataframe thead th {\n",
       "        text-align: right;\n",
       "    }\n",
       "</style>\n",
       "<table border=\"1\" class=\"dataframe\">\n",
       "  <thead>\n",
       "    <tr style=\"text-align: right;\">\n",
       "      <th></th>\n",
       "      <th>label</th>\n",
       "      <th>time_series</th>\n",
       "    </tr>\n",
       "  </thead>\n",
       "  <tbody>\n",
       "    <tr>\n",
       "      <th>0</th>\n",
       "      <td>0</td>\n",
       "      <td>[[-0.064909, 0.034318, -0.043964, 0.626383, 0....</td>\n",
       "    </tr>\n",
       "    <tr>\n",
       "      <th>1</th>\n",
       "      <td>0</td>\n",
       "      <td>[[-0.107059, -0.126109, -0.053742, 0.612516, 0...</td>\n",
       "    </tr>\n",
       "    <tr>\n",
       "      <th>2</th>\n",
       "      <td>0</td>\n",
       "      <td>[[-0.061427, -0.082576, -0.102991, 0.735469, 0...</td>\n",
       "    </tr>\n",
       "    <tr>\n",
       "      <th>3</th>\n",
       "      <td>1</td>\n",
       "      <td>[[-0.128178, 0.02695, -0.050126, 0.455028, 0.4...</td>\n",
       "    </tr>\n",
       "    <tr>\n",
       "      <th>4</th>\n",
       "      <td>1</td>\n",
       "      <td>[[-0.143672, -0.144416, -0.047447, 0.660979, 0...</td>\n",
       "    </tr>\n",
       "  </tbody>\n",
       "</table>\n",
       "</div>"
      ],
      "text/plain": [
       "   label                                        time_series\n",
       "0      0  [[-0.064909, 0.034318, -0.043964, 0.626383, 0....\n",
       "1      0  [[-0.107059, -0.126109, -0.053742, 0.612516, 0...\n",
       "2      0  [[-0.061427, -0.082576, -0.102991, 0.735469, 0...\n",
       "3      1  [[-0.128178, 0.02695, -0.050126, 0.455028, 0.4...\n",
       "4      1  [[-0.143672, -0.144416, -0.047447, 0.660979, 0..."
      ]
     },
     "execution_count": 4,
     "metadata": {},
     "output_type": "execute_result"
    }
   ],
   "source": [
    "df = pd.DataFrame(data, columns=['label', 'time_series'])\n",
    "print(df['label'].value_counts())\n",
    "df.head()"
   ]
  },
  {
   "cell_type": "code",
   "execution_count": null,
   "metadata": {},
   "outputs": [],
   "source": [
    "from sklearn.model_selection import train_test_split\n",
    "X = df['time_series']\n",
    "y = df['label']\n",
    "seed = 0\n",
    "X_train, X_test, y_train, y_test = train_test_split(X, y,\n",
    "                                                    stratify=y, \n",
    "                                                    test_size=0.222222222222222, random_state=seed)\n",
    "X_train, X_test = X_train.reset_index(drop=True),X_test.reset_index(drop=True)\n",
    "y_train, y_test = y_train.reset_index(drop=True), y_test.reset_index(drop=True)"
   ]
  },
  {
   "cell_type": "code",
   "execution_count": null,
   "metadata": {},
   "outputs": [],
   "source": [
    "y_train.value_counts()"
   ]
  },
  {
   "cell_type": "code",
   "execution_count": null,
   "metadata": {},
   "outputs": [],
   "source": [
    "import sklearn as sk\n",
    "n_folds = 5\n",
    "skf = sk.model_selection.StratifiedKFold(n_splits=n_folds, shuffle=True, random_state=seed)"
   ]
  },
  {
   "cell_type": "markdown",
   "metadata": {},
   "source": [
    "## SVC"
   ]
  },
  {
   "cell_type": "code",
   "execution_count": 8,
   "metadata": {},
   "outputs": [],
   "source": [
    "import sklearn as sk\n",
    "from sklearn.svm import SVC\n",
    "from sklearn.metrics import accuracy_score\n",
    "from sklearn.model_selection import train_test_split\n",
    "import itertools\n",
    "from tqdm import tqdm\n",
    "\n",
    "seed = 0\n",
    "n_pcs = 54\n",
    "\n",
    "##LINEAR KERNEL\n",
    "params = [['linear'], [0.0001, 0.0005, 0.001, 0.005, 0.01, 1]]\n",
    "params_comb = list(itertools.product(*params))\n",
    "\n",
    "##RBF KERNEL\n",
    "params = [['rbf'], [0.0001, 0.0005, 0.001, 0.005, 0.01, 1], [0.001, 0.01, 1, 2, 5, 10]]\n",
    "params_comb += list(itertools.product(*params))\n",
    "\n",
    "##POLYNOMIAL KERNEL\n",
    "params = [['poly'], [1e-5, 0.0001, 0.0005, 0.001, 0.005, 0.01, 1], [0.001, 0.01, 1, 2, 5, 10], [3, 6, 10, 15, 20, 23, 25, 30], [0, 0.1, 0.5, 1, 5, 10]]\n",
    "params_comb += list(itertools.product(*params))"
   ]
  },
  {
   "cell_type": "code",
   "execution_count": 9,
   "metadata": {},
   "outputs": [
    {
     "name": "stderr",
     "output_type": "stream",
     "text": [
      "doing parameters search...:   0%|          | 1/2016 [00:00<16:04,  2.09it/s]"
     ]
    },
    {
     "name": "stdout",
     "output_type": "stream",
     "text": [
      "Found best combination! ('poly', 1e-05, 0.001, 3, 0) w. accuracy of 0.20622568093385213.\n"
     ]
    },
    {
     "name": "stderr",
     "output_type": "stream",
     "text": [
      "doing parameters search...:   0%|          | 7/2016 [00:03<15:54,  2.10it/s]"
     ]
    },
    {
     "name": "stdout",
     "output_type": "stream",
     "text": [
      "Found best combination! ('poly', 1e-05, 0.001, 6, 0) w. accuracy of 0.2140077821011673.\n"
     ]
    },
    {
     "name": "stderr",
     "output_type": "stream",
     "text": [
      "doing parameters search...:   1%|          | 17/2016 [00:08<15:45,  2.11it/s]"
     ]
    },
    {
     "name": "stdout",
     "output_type": "stream",
     "text": [
      "Found best combination! ('poly', 1e-05, 0.001, 10, 5) w. accuracy of 0.3424124513618677.\n"
     ]
    },
    {
     "name": "stderr",
     "output_type": "stream",
     "text": [
      "doing parameters search...:   1%|          | 18/2016 [00:08<13:35,  2.45it/s]"
     ]
    },
    {
     "name": "stdout",
     "output_type": "stream",
     "text": [
      "Found best combination! ('poly', 1e-05, 0.001, 10, 10) w. accuracy of 0.7431906614785992.\n"
     ]
    },
    {
     "name": "stderr",
     "output_type": "stream",
     "text": [
      "doing parameters search...:   5%|▌         | 108/2016 [00:49<13:33,  2.34it/s]"
     ]
    },
    {
     "name": "stdout",
     "output_type": "stream",
     "text": [
      "Found best combination! ('poly', 1e-05, 1, 6, 10) w. accuracy of 0.7587548638132295.\n"
     ]
    },
    {
     "name": "stderr",
     "output_type": "stream",
     "text": [
      "doing parameters search...:   6%|▌         | 113/2016 [00:51<12:16,  2.58it/s]"
     ]
    },
    {
     "name": "stdout",
     "output_type": "stream",
     "text": [
      "Found best combination! ('poly', 1e-05, 1, 10, 5) w. accuracy of 0.7898832684824902.\n"
     ]
    },
    {
     "name": "stderr",
     "output_type": "stream",
     "text": [
      "doing parameters search...:   6%|▌         | 125/2016 [00:56<11:55,  2.64it/s]"
     ]
    },
    {
     "name": "stdout",
     "output_type": "stream",
     "text": [
      "Found best combination! ('poly', 1e-05, 1, 20, 5) w. accuracy of 0.8054474708171206.\n"
     ]
    },
    {
     "name": "stderr",
     "output_type": "stream",
     "text": [
      "doing parameters search...:   6%|▋         | 131/2016 [00:58<11:50,  2.65it/s]"
     ]
    },
    {
     "name": "stdout",
     "output_type": "stream",
     "text": [
      "Found best combination! ('poly', 1e-05, 1, 23, 5) w. accuracy of 0.8171206225680934.\n"
     ]
    },
    {
     "name": "stderr",
     "output_type": "stream",
     "text": [
      "doing parameters search...:   7%|▋         | 136/2016 [01:00<13:44,  2.28it/s]"
     ]
    },
    {
     "name": "stdout",
     "output_type": "stream",
     "text": [
      "Found best combination! ('poly', 1e-05, 1, 25, 1) w. accuracy of 0.8365758754863813.\n"
     ]
    },
    {
     "name": "stderr",
     "output_type": "stream",
     "text": [
      "doing parameters search...:   7%|▋         | 142/2016 [01:02<13:45,  2.27it/s]"
     ]
    },
    {
     "name": "stdout",
     "output_type": "stream",
     "text": [
      "Found best combination! ('poly', 1e-05, 1, 30, 1) w. accuracy of 0.8754863813229572.\n"
     ]
    },
    {
     "name": "stderr",
     "output_type": "stream",
     "text": [
      "doing parameters search...:   9%|▊         | 172/2016 [01:15<13:17,  2.31it/s]"
     ]
    },
    {
     "name": "stdout",
     "output_type": "stream",
     "text": [
      "Found best combination! ('poly', 1e-05, 2, 20, 1) w. accuracy of 0.8793774319066148.\n"
     ]
    },
    {
     "name": "stderr",
     "output_type": "stream",
     "text": [
      "doing parameters search...:   9%|▉         | 178/2016 [01:17<13:14,  2.31it/s]"
     ]
    },
    {
     "name": "stdout",
     "output_type": "stream",
     "text": [
      "Found best combination! ('poly', 1e-05, 2, 23, 1) w. accuracy of 0.8871595330739299.\n"
     ]
    },
    {
     "name": "stderr",
     "output_type": "stream",
     "text": [
      "doing parameters search...:   9%|▉         | 184/2016 [01:19<13:23,  2.28it/s]"
     ]
    },
    {
     "name": "stdout",
     "output_type": "stream",
     "text": [
      "Found best combination! ('poly', 1e-05, 2, 25, 1) w. accuracy of 0.8988326848249028.\n"
     ]
    },
    {
     "name": "stderr",
     "output_type": "stream",
     "text": [
      "doing parameters search...:   9%|▉         | 190/2016 [01:22<13:33,  2.25it/s]"
     ]
    },
    {
     "name": "stdout",
     "output_type": "stream",
     "text": [
      "Found best combination! ('poly', 1e-05, 2, 30, 1) w. accuracy of 0.9066147859922179.\n"
     ]
    },
    {
     "name": "stderr",
     "output_type": "stream",
     "text": [
      "doing parameters search...:  11%|█         | 223/2016 [01:35<11:21,  2.63it/s]"
     ]
    },
    {
     "name": "stdout",
     "output_type": "stream",
     "text": [
      "Found best combination! ('poly', 1e-05, 5, 23, 0) w. accuracy of 0.9105058365758755.\n"
     ]
    },
    {
     "name": "stderr",
     "output_type": "stream",
     "text": [
      "doing parameters search...:  11%|█▏        | 229/2016 [01:37<11:20,  2.63it/s]"
     ]
    },
    {
     "name": "stdout",
     "output_type": "stream",
     "text": [
      "Found best combination! ('poly', 1e-05, 5, 25, 0) w. accuracy of 0.914396887159533.\n"
     ]
    },
    {
     "name": "stderr",
     "output_type": "stream",
     "text": [
      "doing parameters search...:  12%|█▏        | 235/2016 [01:40<11:16,  2.63it/s]"
     ]
    },
    {
     "name": "stdout",
     "output_type": "stream",
     "text": [
      "Found best combination! ('poly', 1e-05, 5, 30, 0) w. accuracy of 0.9299610894941635.\n"
     ]
    },
    {
     "name": "stderr",
     "output_type": "stream",
     "text": [
      "doing parameters search...: 100%|██████████| 2016/2016 [13:18<00:00,  2.53it/s]\n"
     ]
    }
   ],
   "source": [
    "acc_scores = np.zeros(len(params_comb))\n",
    "for train_index, val_index in skf.split(X_train, y_train):\n",
    "    X_train_cv = X_train.iloc[train_index]\n",
    "    y_train_cv = y_train.iloc[train_index]\n",
    "    X_val_cv = X_train.iloc[val_index]\n",
    "    y_val_cv = y_train.iloc[val_index]\n",
    "    X_train_matrix = np.vstack(X_train_cv)\n",
    "    means_train = np.mean(X_train_matrix, axis=0)\n",
    "    vars_train = np.var(X_train_matrix, axis=0)\n",
    "\n",
    "    S, v_list_train = k_eros.compute_S_matrix(X_train_cv, means_train, vars_train)\n",
    "    _, v_list_test = k_eros.compute_S_matrix(X_val_cv, means_train, vars_train)\n",
    "    w = k_eros.compute_weight_vector(S, algorithm=2)\n",
    "    K_eros_train_mc, V, _ = k_eros.perform_PCA(len(X_train_cv), weight_vector=w, v_list=v_list_train)\n",
    "    Y, _ = k_eros.project_test_data(len(X_train_cv), len(X_val_cv), w, v_list_train, v_list_test, K_eros_train_mc, V)\n",
    "    princ_components = V[:, :n_pcs]\n",
    "    test_princ_components = Y[:, :n_pcs]\n",
    "    for i, params in enumerate(tqdm(params_comb, desc='doing parameters search...')):\n",
    "        if len(params) == 2:\n",
    "            combination = tuple([params[0], params[1], 1, 3, 0])\n",
    "        elif len(params) == 3:\n",
    "            combination = tuple([params[0], params[1], params[2], 3, 0])\n",
    "        else:\n",
    "            combination = params\n",
    "        svc = SVC(kernel=combination[0], C=combination[1], gamma=combination[2], degree=combination[3], coef0=combination[4])#, max_iter=1000)\n",
    "        \n",
    "        svc.fit(princ_components, y_train_cv.values)\n",
    "        \n",
    "        predictions = svc.predict(test_princ_components)\n",
    "        res = accuracy_score(y_val_cv.values, predictions)\n",
    "        acc_scores[i] += res\n",
    "acc_scores = acc_scores / n_folds\n",
    "best_idx = np.argmax(acc_scores)    \n",
    "print(f'Found best combination! {params_comb[best_idx]} w. accuracy of {acc_scores[best_idx]}.')\n",
    "best_comb = params_comb[best_idx]"
   ]
  },
  {
   "cell_type": "code",
   "execution_count": 14,
   "metadata": {},
   "outputs": [
    {
     "name": "stdout",
     "output_type": "stream",
     "text": [
      "-27.699317411486145\n",
      "now PSD\n",
      "K eros mean centered is PSD\n",
      "K eros mean centered is PSD\n",
      "result of using 1 components: 0.00\n",
      "result of using 5 components: 0.20\n",
      "result of using 10 components: 0.54\n",
      "result of using 15 components: 0.56\n",
      "result of using 20 components: 0.70\n",
      "result of using 25 components: 0.75\n",
      "result of using 30 components: 0.81\n",
      "result of using 35 components: 0.82\n",
      "result of using 40 components: 0.85\n",
      "result of using 45 components: 0.86\n",
      "result of using 50 components: 0.88\n",
      "result of using 55 components: 0.89\n",
      "-27.965133013384865\n",
      "now PSD\n",
      "K eros mean centered is PSD\n",
      "K eros mean centered is PSD\n",
      "result of using 1 components: 0.01\n",
      "result of using 5 components: 0.19\n",
      "result of using 10 components: 0.50\n",
      "result of using 15 components: 0.54\n",
      "result of using 20 components: 0.66\n",
      "result of using 25 components: 0.71\n",
      "result of using 30 components: 0.82\n",
      "result of using 35 components: 0.82\n",
      "result of using 40 components: 0.88\n",
      "result of using 45 components: 0.88\n",
      "result of using 50 components: 0.91\n",
      "result of using 55 components: 0.91\n",
      "-27.80066850713274\n",
      "now PSD\n",
      "K eros mean centered is PSD\n",
      "K eros mean centered is PSD\n",
      "result of using 1 components: 0.01\n",
      "result of using 5 components: 0.23\n",
      "result of using 10 components: 0.56\n",
      "result of using 15 components: 0.64\n",
      "result of using 20 components: 0.71\n",
      "result of using 25 components: 0.73\n",
      "result of using 30 components: 0.82\n",
      "result of using 35 components: 0.87\n",
      "result of using 40 components: 0.89\n",
      "result of using 45 components: 0.88\n",
      "result of using 50 components: 0.91\n",
      "result of using 55 components: 0.91\n",
      "-27.49469146225962\n",
      "now PSD\n",
      "K eros mean centered is PSD\n",
      "K eros mean centered is PSD\n",
      "result of using 1 components: 0.01\n",
      "result of using 5 components: 0.22\n",
      "result of using 10 components: 0.57\n",
      "result of using 15 components: 0.61\n",
      "result of using 20 components: 0.69\n",
      "result of using 25 components: 0.73\n",
      "result of using 30 components: 0.81\n",
      "result of using 35 components: 0.83\n",
      "result of using 40 components: 0.84\n",
      "result of using 45 components: 0.84\n",
      "result of using 50 components: 0.86\n",
      "result of using 55 components: 0.87\n",
      "-27.54659577896942\n",
      "now PSD\n",
      "K eros mean centered is PSD\n",
      "K eros mean centered is PSD\n",
      "result of using 1 components: 0.01\n",
      "result of using 5 components: 0.25\n",
      "result of using 10 components: 0.56\n",
      "result of using 15 components: 0.62\n",
      "result of using 20 components: 0.72\n",
      "result of using 25 components: 0.75\n",
      "result of using 30 components: 0.86\n",
      "result of using 35 components: 0.87\n",
      "result of using 40 components: 0.90\n",
      "result of using 45 components: 0.89\n",
      "result of using 50 components: 0.92\n",
      "result of using 55 components: 0.93\n",
      "-27.61820750056072\n",
      "now PSD\n",
      "K eros mean centered is not PSD\n",
      "K eros mean centered is PSD\n",
      "result of using 1 components: 0.01\n",
      "result of using 5 components: 0.22\n",
      "result of using 10 components: 0.57\n",
      "result of using 15 components: 0.61\n",
      "result of using 20 components: 0.70\n",
      "result of using 25 components: 0.73\n",
      "result of using 30 components: 0.79\n",
      "result of using 35 components: 0.84\n",
      "result of using 40 components: 0.88\n",
      "result of using 45 components: 0.90\n",
      "result of using 50 components: 0.92\n",
      "result of using 55 components: 0.92\n",
      "-27.739814166907166\n",
      "now PSD\n",
      "K eros mean centered is PSD\n",
      "K eros mean centered is PSD\n",
      "result of using 1 components: 0.00\n",
      "result of using 5 components: 0.21\n",
      "result of using 10 components: 0.51\n",
      "result of using 15 components: 0.65\n",
      "result of using 20 components: 0.72\n",
      "result of using 25 components: 0.71\n",
      "result of using 30 components: 0.78\n",
      "result of using 35 components: 0.80\n",
      "result of using 40 components: 0.85\n",
      "result of using 45 components: 0.86\n",
      "result of using 50 components: 0.88\n",
      "result of using 55 components: 0.88\n",
      "-27.40713070793741\n",
      "now PSD\n",
      "K eros mean centered is PSD\n",
      "K eros mean centered is PSD\n",
      "result of using 1 components: 0.00\n",
      "result of using 5 components: 0.19\n",
      "result of using 10 components: 0.55\n",
      "result of using 15 components: 0.59\n",
      "result of using 20 components: 0.67\n",
      "result of using 25 components: 0.73\n",
      "result of using 30 components: 0.82\n",
      "result of using 35 components: 0.83\n",
      "result of using 40 components: 0.84\n",
      "result of using 45 components: 0.84\n",
      "result of using 50 components: 0.86\n",
      "result of using 55 components: 0.86\n",
      "-27.730006664333168\n",
      "now PSD\n",
      "K eros mean centered is not PSD\n",
      "K eros mean centered is PSD\n",
      "result of using 1 components: 0.00\n",
      "result of using 5 components: 0.21\n",
      "result of using 10 components: 0.59\n",
      "result of using 15 components: 0.62\n",
      "result of using 20 components: 0.74\n",
      "result of using 25 components: 0.79\n",
      "result of using 30 components: 0.86\n",
      "result of using 35 components: 0.89\n",
      "result of using 40 components: 0.89\n",
      "result of using 45 components: 0.90\n",
      "result of using 50 components: 0.91\n",
      "result of using 55 components: 0.91\n",
      "-27.69289686113509\n",
      "now PSD\n",
      "K eros mean centered is not PSD\n",
      "K eros mean centered is PSD\n",
      "result of using 1 components: 0.00\n",
      "result of using 5 components: 0.22\n",
      "result of using 10 components: 0.56\n",
      "result of using 15 components: 0.54\n",
      "result of using 20 components: 0.70\n",
      "result of using 25 components: 0.75\n",
      "result of using 30 components: 0.83\n",
      "result of using 35 components: 0.87\n",
      "result of using 40 components: 0.90\n",
      "result of using 45 components: 0.91\n",
      "result of using 50 components: 0.92\n",
      "result of using 55 components: 0.90\n",
      "Reached an accuracy of 0.8982383876459143.\n"
     ]
    }
   ],
   "source": [
    "n_princ_cs = [1, 5, 10, 15, 20, 25, 30, 35, 40, 45, 50, 54]\n",
    "res_per_pc = np.zeros(len(n_princ_cs))\n",
    "\n",
    "X_train_matrix = np.vstack(X_train)\n",
    "means_train = np.mean(X_train_matrix, axis=0)\n",
    "vars_train = np.var(X_train_matrix, axis=0)\n",
    "\n",
    "S, v_list_train = k_eros.compute_S_matrix(X_train, means_train, vars_train)\n",
    "_, v_list_test = k_eros.compute_S_matrix(X_test, means_train, vars_train)\n",
    "w = k_eros.compute_weight_vector(S, algorithm=2)\n",
    "K_eros_train_mc, V, eig_vals = k_eros.perform_PCA(len(X_train), weight_vector=w, v_list=v_list_train)\n",
    "Y, K_eros_test_mc = k_eros.project_test_data(len(X_train), len(X_test), w, v_list_train, v_list_test, K_eros_train_mc, V)\n",
    "svc = SVC(kernel=best_comb[0], C=best_comb[1], gamma=best_comb[2], degree=best_comb[3], coef0=best_comb[4])\n",
    "for i, n_pc in enumerate(n_princ_cs):\n",
    "    princ_components = V[:, :n_pc]\n",
    "    svc.fit(princ_components, y_train.values)\n",
    "    test_princ_components = Y[:, :n_pc]\n",
    "    predictions = svc.predict(test_princ_components)\n",
    "    res = accuracy_score(y_test.values, predictions)\n",
    "    res_per_pc[i] = res\n",
    "print(f'Reached an accuracy of {res_per_pc[-1]}.')\n",
    "svc_res_per_pc = res_per_pc\n"
   ]
  },
  {
   "cell_type": "markdown",
   "metadata": {},
   "source": [
    "## Random Forest Classifier"
   ]
  },
  {
   "cell_type": "code",
   "execution_count": 25,
   "metadata": {},
   "outputs": [],
   "source": [
    "from sklearn.ensemble import RandomForestClassifier\n",
    "from sklearn.model_selection import ParameterGrid\n",
    "import itertools\n",
    "from sklearn.svm import SVC\n",
    "from sklearn.metrics import accuracy_score\n",
    "from sklearn.preprocessing import StandardScaler\n",
    "from sklearn.decomposition import KernelPCA\n",
    "from tqdm import tqdm\n",
    "criterion = ['gini', 'entropy']\n",
    "n_estimators = [10, 25, 50, 100, 200]\n",
    "max_depth = [10, 20, 30, 50, 100]\n",
    "min_samples_split = [2, 6, 10] # minimum sample number to split a node\n",
    "min_samples_leaf = [1, 3, 4] # minimum sample number that can be stored in a leaf node\n",
    "params_grid = {\n",
    "    'criterion': criterion,\n",
    "    'n_estimators': n_estimators,\n",
    "    'max_depth': max_depth,\n",
    "    'min_samples_split': min_samples_split,\n",
    "    'min_samples_leaf': min_samples_leaf,\n",
    "}\n",
    "n_pcs = 54\n",
    "n_coords = 60\n",
    "params_list = list(ParameterGrid(params_grid))\n",
    "acc_scores = np.zeros(len(params_list))\n",
    "for train_index, val_index in skf.split(X_train, y_train):\n",
    "    X_train_cv = X_train.iloc[train_index]\n",
    "    y_train_cv = y_train.iloc[train_index]\n",
    "    X_val_cv = X_train.iloc[val_index]\n",
    "    y_val_cv = y_train.iloc[val_index]\n",
    "    X_train_matrix = np.vstack(X_train_cv)\n",
    "    means_train = np.mean(X_train_matrix, axis=0)\n",
    "    vars_train = np.var(X_train_matrix, axis=0)\n",
    "    S, v_list_train = k_eros.compute_S_matrix(X_train_cv, means_train, vars_train)\n",
    "    _, v_list_test = k_eros.compute_S_matrix(X_val_cv, means_train, vars_train)\n",
    "    w = k_eros.compute_weight_vector(S, algorithm=2)\n",
    "    K_eros_train_mc, V, eig_vals = k_eros.perform_PCA(len(X_train_cv), weight_vector=w, v_list=v_list_train)\n",
    "    Y, K_eros_test_mc = k_eros.project_test_data(len(X_train_cv), len(X_val_cv), w, v_list_train, v_list_test, K_eros_train_mc, V)\n",
    "    princ_components = V[:, :n_pcs]\n",
    "    test_princ_components = Y[:, :n_pcs]\n",
    "    for i, params in enumerate(tqdm(params_list)):\n",
    "        rf = RandomForestClassifier(criterion = params['criterion'], n_estimators=params['n_estimators'], max_depth=params['max_depth'], min_samples_split=params['min_samples_split'], min_samples_leaf=params['min_samples_leaf'])\n",
    "        rf.fit(princ_components, y_train_cv.values)\n",
    "        predictions = rf.predict(test_princ_components)\n",
    "        res = accuracy_score(y_val_cv.values, predictions)\n",
    "        acc_scores[i] += res\n",
    "acc_scores = acc_scores / n_folds\n",
    "best_idx = np.argmax(acc_scores)    \n",
    "print(f'Found best combination! {params_comb[best_idx]} w. accuracy of {acc_scores[best_idx]}.')\n",
    "best_comb = params_comb[best_idx]"
   ]
  },
  {
   "cell_type": "code",
   "execution_count": 30,
   "metadata": {},
   "outputs": [
    {
     "name": "stderr",
     "output_type": "stream",
     "text": [
      "Performing stratified 10-fold: 0it [00:00, ?it/s]"
     ]
    },
    {
     "name": "stdout",
     "output_type": "stream",
     "text": [
      "-27.699317411486145\n",
      "now PSD\n",
      "K eros mean centered is PSD\n",
      "K eros mean centered is PSD\n",
      "result of using 1 components: 0.02\n",
      "result of using 5 components: 0.09\n",
      "result of using 10 components: 0.33\n",
      "result of using 15 components: 0.34\n",
      "result of using 20 components: 0.46\n",
      "result of using 25 components: 0.53\n",
      "result of using 30 components: 0.54\n",
      "result of using 35 components: 0.59\n",
      "result of using 40 components: 0.58\n",
      "result of using 45 components: 0.59\n",
      "result of using 50 components: 0.63\n"
     ]
    },
    {
     "name": "stderr",
     "output_type": "stream",
     "text": [
      "Performing stratified 10-fold: 1it [04:39, 279.50s/it]"
     ]
    },
    {
     "name": "stdout",
     "output_type": "stream",
     "text": [
      "result of using 55 components: 0.60\n",
      "-27.965133013384865\n",
      "now PSD\n",
      "K eros mean centered is PSD\n",
      "K eros mean centered is PSD\n",
      "result of using 1 components: 0.02\n",
      "result of using 5 components: 0.09\n",
      "result of using 10 components: 0.30\n",
      "result of using 15 components: 0.37\n",
      "result of using 20 components: 0.42\n",
      "result of using 25 components: 0.49\n",
      "result of using 30 components: 0.56\n",
      "result of using 35 components: 0.56\n",
      "result of using 40 components: 0.62\n",
      "result of using 45 components: 0.58\n",
      "result of using 50 components: 0.63\n"
     ]
    },
    {
     "name": "stderr",
     "output_type": "stream",
     "text": [
      "Performing stratified 10-fold: 2it [09:30, 286.35s/it]"
     ]
    },
    {
     "name": "stdout",
     "output_type": "stream",
     "text": [
      "result of using 55 components: 0.64\n",
      "-27.80066850713274\n",
      "now PSD\n",
      "K eros mean centered is PSD\n",
      "K eros mean centered is PSD\n",
      "result of using 1 components: 0.02\n",
      "result of using 5 components: 0.12\n",
      "result of using 10 components: 0.33\n",
      "result of using 15 components: 0.43\n",
      "result of using 20 components: 0.45\n",
      "result of using 25 components: 0.46\n",
      "result of using 30 components: 0.58\n",
      "result of using 35 components: 0.59\n",
      "result of using 40 components: 0.59\n",
      "result of using 45 components: 0.61\n",
      "result of using 50 components: 0.65\n"
     ]
    },
    {
     "name": "stderr",
     "output_type": "stream",
     "text": [
      "Performing stratified 10-fold: 3it [14:25, 290.42s/it]"
     ]
    },
    {
     "name": "stdout",
     "output_type": "stream",
     "text": [
      "result of using 55 components: 0.64\n",
      "-27.49469146225962\n",
      "now PSD\n",
      "K eros mean centered is PSD\n",
      "K eros mean centered is PSD\n",
      "result of using 1 components: 0.02\n",
      "result of using 5 components: 0.15\n",
      "result of using 10 components: 0.34\n",
      "result of using 15 components: 0.40\n",
      "result of using 20 components: 0.43\n",
      "result of using 25 components: 0.42\n",
      "result of using 30 components: 0.51\n",
      "result of using 35 components: 0.53\n",
      "result of using 40 components: 0.56\n",
      "result of using 45 components: 0.59\n",
      "result of using 50 components: 0.63\n"
     ]
    },
    {
     "name": "stderr",
     "output_type": "stream",
     "text": [
      "Performing stratified 10-fold: 4it [19:18, 291.41s/it]"
     ]
    },
    {
     "name": "stdout",
     "output_type": "stream",
     "text": [
      "result of using 55 components: 0.61\n",
      "-27.54659577896942\n",
      "now PSD\n",
      "K eros mean centered is PSD\n",
      "K eros mean centered is PSD\n",
      "result of using 1 components: 0.02\n",
      "result of using 5 components: 0.11\n",
      "result of using 10 components: 0.33\n",
      "result of using 15 components: 0.46\n",
      "result of using 20 components: 0.46\n",
      "result of using 25 components: 0.48\n",
      "result of using 30 components: 0.55\n",
      "result of using 35 components: 0.57\n",
      "result of using 40 components: 0.62\n",
      "result of using 45 components: 0.57\n",
      "result of using 50 components: 0.63\n"
     ]
    },
    {
     "name": "stderr",
     "output_type": "stream",
     "text": [
      "Performing stratified 10-fold: 5it [24:17, 293.89s/it]"
     ]
    },
    {
     "name": "stdout",
     "output_type": "stream",
     "text": [
      "result of using 55 components: 0.60\n",
      "-27.61820750056072\n",
      "now PSD\n",
      "K eros mean centered is not PSD\n",
      "K eros mean centered is PSD\n",
      "result of using 1 components: 0.02\n",
      "result of using 5 components: 0.11\n",
      "result of using 10 components: 0.33\n",
      "result of using 15 components: 0.36\n",
      "result of using 20 components: 0.42\n",
      "result of using 25 components: 0.46\n",
      "result of using 30 components: 0.52\n",
      "result of using 35 components: 0.56\n",
      "result of using 40 components: 0.60\n",
      "result of using 45 components: 0.62\n",
      "result of using 50 components: 0.57\n"
     ]
    },
    {
     "name": "stderr",
     "output_type": "stream",
     "text": [
      "Performing stratified 10-fold: 6it [29:16, 295.62s/it]"
     ]
    },
    {
     "name": "stdout",
     "output_type": "stream",
     "text": [
      "result of using 55 components: 0.59\n",
      "-27.739814166907166\n",
      "now PSD\n",
      "K eros mean centered is PSD\n",
      "K eros mean centered is PSD\n",
      "result of using 1 components: 0.02\n",
      "result of using 5 components: 0.09\n",
      "result of using 10 components: 0.29\n",
      "result of using 15 components: 0.37\n",
      "result of using 20 components: 0.40\n",
      "result of using 25 components: 0.45\n",
      "result of using 30 components: 0.59\n",
      "result of using 35 components: 0.59\n",
      "result of using 40 components: 0.60\n",
      "result of using 45 components: 0.61\n",
      "result of using 50 components: 0.63\n"
     ]
    },
    {
     "name": "stderr",
     "output_type": "stream",
     "text": [
      "Performing stratified 10-fold: 7it [34:14, 296.57s/it]"
     ]
    },
    {
     "name": "stdout",
     "output_type": "stream",
     "text": [
      "result of using 55 components: 0.66\n",
      "-27.40713070793741\n",
      "now PSD\n",
      "K eros mean centered is PSD\n",
      "K eros mean centered is PSD\n",
      "result of using 1 components: 0.02\n",
      "result of using 5 components: 0.11\n",
      "result of using 10 components: 0.33\n",
      "result of using 15 components: 0.39\n",
      "result of using 20 components: 0.43\n",
      "result of using 25 components: 0.45\n",
      "result of using 30 components: 0.50\n",
      "result of using 35 components: 0.55\n",
      "result of using 40 components: 0.59\n",
      "result of using 45 components: 0.62\n",
      "result of using 50 components: 0.58\n"
     ]
    },
    {
     "name": "stderr",
     "output_type": "stream",
     "text": [
      "Performing stratified 10-fold: 8it [39:11, 296.81s/it]"
     ]
    },
    {
     "name": "stdout",
     "output_type": "stream",
     "text": [
      "result of using 55 components: 0.64\n",
      "-27.730006664333168\n",
      "now PSD\n",
      "K eros mean centered is not PSD\n",
      "K eros mean centered is PSD\n",
      "result of using 1 components: 0.02\n",
      "result of using 5 components: 0.11\n",
      "result of using 10 components: 0.37\n",
      "result of using 15 components: 0.36\n",
      "result of using 20 components: 0.41\n",
      "result of using 25 components: 0.45\n",
      "result of using 30 components: 0.57\n",
      "result of using 35 components: 0.58\n",
      "result of using 40 components: 0.58\n",
      "result of using 45 components: 0.64\n",
      "result of using 50 components: 0.70\n"
     ]
    },
    {
     "name": "stderr",
     "output_type": "stream",
     "text": [
      "Performing stratified 10-fold: 9it [44:21, 300.87s/it]"
     ]
    },
    {
     "name": "stdout",
     "output_type": "stream",
     "text": [
      "result of using 55 components: 0.65\n",
      "-27.69289686113509\n",
      "now PSD\n",
      "K eros mean centered is not PSD\n",
      "K eros mean centered is PSD\n",
      "result of using 1 components: 0.02\n",
      "result of using 5 components: 0.09\n",
      "result of using 10 components: 0.36\n",
      "result of using 15 components: 0.33\n",
      "result of using 20 components: 0.40\n",
      "result of using 25 components: 0.50\n",
      "result of using 30 components: 0.55\n",
      "result of using 35 components: 0.57\n",
      "result of using 40 components: 0.58\n",
      "result of using 45 components: 0.66\n",
      "result of using 50 components: 0.67\n"
     ]
    },
    {
     "name": "stderr",
     "output_type": "stream",
     "text": [
      "Performing stratified 10-fold: 10it [49:25, 296.52s/it]"
     ]
    },
    {
     "name": "stdout",
     "output_type": "stream",
     "text": [
      "result of using 55 components: 0.62\n",
      "Reached an accuracy of 0.6269136065175097.\n"
     ]
    },
    {
     "name": "stderr",
     "output_type": "stream",
     "text": [
      "\n"
     ]
    }
   ],
   "source": [
    "#for the best params combination il valore dell accuracy per 10Kfold\n",
    "n_princ_cs = [1, 5, 10, 15, 20, 25, 30, 35, 40, 45, 50, 55]\n",
    "res_per_pc = np.zeros(len(n_princ_cs))\n",
    "X_train_matrix = np.vstack(X_train)\n",
    "means_train = np.mean(X_train_matrix, axis=0)\n",
    "vars_train = np.var(X_train_matrix, axis=0)\n",
    "\n",
    "S, v_list_train = k_eros.compute_S_matrix(X_train, means_train, vars_train)\n",
    "_, v_list_test = k_eros.compute_S_matrix(X_test, means_train, vars_train)\n",
    "w = k_eros.compute_weight_vector(S, algorithm=2)\n",
    "K_eros_train_mc, V, eig_vals = k_eros.perform_PCA(len(X_train), weight_vector=w, v_list=v_list_train)\n",
    "Y, K_eros_test_mc = k_eros.project_test_data(len(X_train), len(X_test), w, v_list_train, v_list_test, K_eros_train_mc, V)\n",
    "rf = RandomForestClassifier(**best_comb)\n",
    "for i, n_pc in enumerate(n_princ_cs):\n",
    "    princ_components = V[:, :n_pc]\n",
    "    rf.fit(princ_components, y_train.values)\n",
    "    test_princ_components = Y[:, :n_pc]\n",
    "    predictions = rf.predict(test_princ_components)\n",
    "    res = accuracy_score(y_test.values, predictions)\n",
    "    res_per_pc[i] += res\n",
    "\n",
    "print(f'Reached an accuracy of {res_per_pc[-1]}.')\n",
    "rf_res_per_pc = res_per_pc"
   ]
  },
  {
   "cell_type": "code",
   "execution_count": 32,
   "metadata": {},
   "outputs": [
    {
     "name": "stdout",
     "output_type": "stream",
     "text": [
      "SVC accuracy x n principal components:  [0.00389409 0.21480575 0.55088765 0.59844662 0.7009834  0.7376292\n",
      " 0.8202669  0.84639622 0.87173517 0.87603204 0.89552073 0.89823839]\n",
      "RF accuracy x n principal components:  [0.02105119 0.10642479 0.33139135 0.38007812 0.42842899 0.46938382\n",
      " 0.54814719 0.56881384 0.59258876 0.61056815 0.6327441  0.62691361]\n"
     ]
    }
   ],
   "source": [
    "print('SVC accuracy x n principal components: ', svc_res_per_pc)\n",
    "print('RF accuracy x n principal components: ', rf_res_per_pc)"
   ]
  }
 ],
 "metadata": {
  "kernelspec": {
   "display_name": "Python 3.9.13 ('data_science')",
   "language": "python",
   "name": "python3"
  },
  "language_info": {
   "codemirror_mode": {
    "name": "ipython",
    "version": 3
   },
   "file_extension": ".py",
   "mimetype": "text/x-python",
   "name": "python",
   "nbconvert_exporter": "python",
   "pygments_lexer": "ipython3",
   "version": "3.9.13"
  },
  "orig_nbformat": 4,
  "vscode": {
   "interpreter": {
    "hash": "391ddcc66a8b67209ee4ca14a5da0cf1073041a687facbd61882e6753a3822ab"
   }
  }
 },
 "nbformat": 4,
 "nbformat_minor": 2
}
