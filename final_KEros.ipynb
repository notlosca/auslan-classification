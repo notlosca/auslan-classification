{
 "cells": [
  {
   "cell_type": "code",
   "execution_count": 1,
   "metadata": {},
   "outputs": [],
   "source": [
    "import pandas as pd\n",
    "import numpy as np\n",
    "import os\n",
    "from utils import k_eros"
   ]
  },
  {
   "cell_type": "code",
   "execution_count": 3,
   "metadata": {},
   "outputs": [],
   "source": [
    "features = [\n",
    "    'sx_x',\n",
    "    'sx_y',\n",
    "    'sx_z',\n",
    "    'sx_roll',\n",
    "    'sx_pitch',\n",
    "    'sx_yaw',\n",
    "    'sx_thumb',\n",
    "    'sx_forefinger',\n",
    "    'sx_middle_finger',\n",
    "    'sx_ring_finger',\n",
    "    'sx_little_finger',\n",
    "    'dx_x',\n",
    "    'dx_y',\n",
    "    'dx_z',\n",
    "    'dx_roll',\n",
    "    'dx_pitch',\n",
    "    'dx_yaw',\n",
    "    'dx_thumb',\n",
    "    'dx_forefinger',\n",
    "    'dx_middle_finger',\n",
    "    'dx_ring_finger',\n",
    "    'dx_little_finger'\n",
    "    ]"
   ]
  },
  {
   "cell_type": "code",
   "execution_count": 4,
   "metadata": {},
   "outputs": [],
   "source": [
    "path = \"./tctodd/\"\n",
    "#path = \"../../Desktop/MML Project/tctodd/\"\n",
    "dirs = os.listdir(path=path)\n",
    "weeks = sorted([i for i in dirs if i != \".DS_Store\"])\n",
    "filenames = sorted(os.listdir(path+weeks[1]))\n",
    "\n",
    "data = []\n",
    "labels = dict()\n",
    "label_cnt = 0\n",
    "\n",
    "for w in weeks:\n",
    "    temp_path = path+w+\"/\"\n",
    "    filenames = sorted(os.listdir(temp_path))\n",
    "    for fn in filenames:\n",
    "        label = fn.split('.')[0][:-2]\n",
    "        \n",
    "        if label not in labels:\n",
    "            labels[label] = label_cnt\n",
    "            label_cnt += 1\n",
    "            \n",
    "        data.append({'label':labels[label], 'time_series':pd.read_csv(temp_path+fn, header=None, sep='\\t',).values})\n",
    "        "
   ]
  },
  {
   "cell_type": "code",
   "execution_count": 5,
   "metadata": {},
   "outputs": [
    {
     "name": "stdout",
     "output_type": "stream",
     "text": [
      "0     27\n",
      "60    27\n",
      "69    27\n",
      "68    27\n",
      "67    27\n",
      "      ..\n",
      "29    27\n",
      "28    27\n",
      "27    27\n",
      "26    27\n",
      "94    27\n",
      "Name: label, Length: 95, dtype: int64\n"
     ]
    },
    {
     "data": {
      "text/html": [
       "<div>\n",
       "<style scoped>\n",
       "    .dataframe tbody tr th:only-of-type {\n",
       "        vertical-align: middle;\n",
       "    }\n",
       "\n",
       "    .dataframe tbody tr th {\n",
       "        vertical-align: top;\n",
       "    }\n",
       "\n",
       "    .dataframe thead th {\n",
       "        text-align: right;\n",
       "    }\n",
       "</style>\n",
       "<table border=\"1\" class=\"dataframe\">\n",
       "  <thead>\n",
       "    <tr style=\"text-align: right;\">\n",
       "      <th></th>\n",
       "      <th>label</th>\n",
       "      <th>time_series</th>\n",
       "    </tr>\n",
       "  </thead>\n",
       "  <tbody>\n",
       "    <tr>\n",
       "      <th>0</th>\n",
       "      <td>0</td>\n",
       "      <td>[[-0.064909, 0.034318, -0.043964, 0.626383, 0....</td>\n",
       "    </tr>\n",
       "    <tr>\n",
       "      <th>1</th>\n",
       "      <td>0</td>\n",
       "      <td>[[-0.107059, -0.126109, -0.053742, 0.612516, 0...</td>\n",
       "    </tr>\n",
       "    <tr>\n",
       "      <th>2</th>\n",
       "      <td>0</td>\n",
       "      <td>[[-0.061427, -0.082576, -0.102991, 0.735469, 0...</td>\n",
       "    </tr>\n",
       "    <tr>\n",
       "      <th>3</th>\n",
       "      <td>1</td>\n",
       "      <td>[[-0.128178, 0.02695, -0.050126, 0.455028, 0.4...</td>\n",
       "    </tr>\n",
       "    <tr>\n",
       "      <th>4</th>\n",
       "      <td>1</td>\n",
       "      <td>[[-0.143672, -0.144416, -0.047447, 0.660979, 0...</td>\n",
       "    </tr>\n",
       "  </tbody>\n",
       "</table>\n",
       "</div>"
      ],
      "text/plain": [
       "   label                                        time_series\n",
       "0      0  [[-0.064909, 0.034318, -0.043964, 0.626383, 0....\n",
       "1      0  [[-0.107059, -0.126109, -0.053742, 0.612516, 0...\n",
       "2      0  [[-0.061427, -0.082576, -0.102991, 0.735469, 0...\n",
       "3      1  [[-0.128178, 0.02695, -0.050126, 0.455028, 0.4...\n",
       "4      1  [[-0.143672, -0.144416, -0.047447, 0.660979, 0..."
      ]
     },
     "execution_count": 5,
     "metadata": {},
     "output_type": "execute_result"
    }
   ],
   "source": [
    "df = pd.DataFrame(data, columns=['label', 'time_series'])\n",
    "print(df['label'].value_counts())\n",
    "df.head()"
   ]
  },
  {
   "cell_type": "code",
   "execution_count": 6,
   "metadata": {},
   "outputs": [],
   "source": [
    "from sklearn.model_selection import train_test_split\n",
    "X = df['time_series']\n",
    "y = df['label']\n",
    "seed = 0\n",
    "X_train, X_test, y_train, y_test = train_test_split(X, y,\n",
    "                                                    stratify=y, \n",
    "                                                    test_size=0.222222222222222, random_state=seed) # to have 21 and 6 examples in, respectively, train and test set\n",
    "X_train, X_test = X_train.reset_index(drop=True),X_test.reset_index(drop=True)\n",
    "y_train, y_test = y_train.reset_index(drop=True), y_test.reset_index(drop=True)"
   ]
  },
  {
   "cell_type": "code",
   "execution_count": 7,
   "metadata": {},
   "outputs": [
    {
     "data": {
      "text/plain": [
       "19    21\n",
       "23    21\n",
       "8     21\n",
       "61    21\n",
       "44    21\n",
       "      ..\n",
       "53    21\n",
       "9     21\n",
       "64    21\n",
       "93    21\n",
       "94    21\n",
       "Name: label, Length: 95, dtype: int64"
      ]
     },
     "execution_count": 7,
     "metadata": {},
     "output_type": "execute_result"
    }
   ],
   "source": [
    "y_train.value_counts()"
   ]
  },
  {
   "cell_type": "code",
   "execution_count": 8,
   "metadata": {},
   "outputs": [],
   "source": [
    "import sklearn as sk\n",
    "n_folds = 5\n",
    "skf = sk.model_selection.StratifiedKFold(n_splits=n_folds, shuffle=True, random_state=seed)"
   ]
  },
  {
   "cell_type": "markdown",
   "metadata": {},
   "source": [
    "## SVC"
   ]
  },
  {
   "cell_type": "code",
   "execution_count": 9,
   "metadata": {},
   "outputs": [],
   "source": [
    "import sklearn as sk\n",
    "from sklearn.svm import SVC\n",
    "from sklearn.metrics import accuracy_score\n",
    "from sklearn.model_selection import train_test_split\n",
    "import itertools\n",
    "from tqdm import tqdm\n",
    "\n",
    "seed = 0\n",
    "n_pcs = 54\n",
    "\n",
    "##LINEAR KERNEL\n",
    "params = [['linear'], [0.0001, 0.0005, 0.001, 0.005, 0.01, 1]]\n",
    "params_comb = list(itertools.product(*params))\n",
    "\n",
    "##RBF KERNEL\n",
    "params = [['rbf'], [0.0001, 0.0005, 0.001, 0.005, 0.01, 1], [0.001, 0.01, 1, 2, 5, 10]]\n",
    "params_comb += list(itertools.product(*params))\n",
    "\n",
    "##POLYNOMIAL KERNEL\n",
    "params = [['poly'], [1e-5, 0.0001, 0.0005, 0.001, 0.005, 0.01, 1], [0.001, 0.01, 1, 2, 5, 10], [3, 6, 10, 15, 20, 23, 25, 30], [0, 0.1, 0.5, 1, 5, 10]]\n",
    "params_comb += list(itertools.product(*params))"
   ]
  },
  {
   "cell_type": "code",
   "execution_count": 10,
   "metadata": {},
   "outputs": [
    {
     "name": "stderr",
     "output_type": "stream",
     "text": [
      "doing parameters search...: 100%|██████████| 2058/2058 [08:00<00:00,  4.29it/s]\n",
      "doing parameters search...: 100%|██████████| 2058/2058 [08:24<00:00,  4.08it/s]\n",
      "doing parameters search...: 100%|██████████| 2058/2058 [08:37<00:00,  3.97it/s]\n",
      "doing parameters search...: 100%|██████████| 2058/2058 [08:40<00:00,  3.95it/s]\n",
      "doing parameters search...: 100%|██████████| 2058/2058 [08:38<00:00,  3.97it/s]"
     ]
    },
    {
     "name": "stdout",
     "output_type": "stream",
     "text": [
      "Found best combination! ('poly', 1e-05, 5, 30, 0) w. accuracy of 0.8842105263157896.\n"
     ]
    },
    {
     "name": "stderr",
     "output_type": "stream",
     "text": [
      "\n"
     ]
    }
   ],
   "source": [
    "acc_scores = np.zeros(len(params_comb))\n",
    "for train_index, val_index in skf.split(X_train, y_train):\n",
    "    X_train_cv = X_train.iloc[train_index]\n",
    "    y_train_cv = y_train.iloc[train_index]\n",
    "    X_val_cv = X_train.iloc[val_index]\n",
    "    y_val_cv = y_train.iloc[val_index]\n",
    "    X_train_matrix = np.vstack(X_train_cv)\n",
    "    means_train = np.mean(X_train_matrix, axis=0)\n",
    "    vars_train = np.var(X_train_matrix, axis=0)\n",
    "\n",
    "    S, v_list_train = k_eros.compute_S_matrix(X_train_cv, means_train, vars_train)\n",
    "    _, v_list_test = k_eros.compute_S_matrix(X_val_cv, means_train, vars_train)\n",
    "    w = k_eros.compute_weight_vector(S, algorithm=2)\n",
    "    K_eros_train_mc, V, _ = k_eros.perform_PCA(len(X_train_cv), weight_vector=w, v_list=v_list_train)\n",
    "    Y, _ = k_eros.project_test_data(len(X_train_cv), len(X_val_cv), w, v_list_train, v_list_test, K_eros_train_mc, V)\n",
    "    princ_components = V[:, :n_pcs]\n",
    "    test_princ_components = Y[:, :n_pcs]\n",
    "    for i, params in enumerate(tqdm(params_comb, desc='doing parameters search...')):\n",
    "        if len(params) == 2:\n",
    "            combination = tuple([params[0], params[1], 1, 3, 0])\n",
    "        elif len(params) == 3:\n",
    "            combination = tuple([params[0], params[1], params[2], 3, 0])\n",
    "        else:\n",
    "            combination = params\n",
    "        svc = SVC(kernel=combination[0], C=combination[1], gamma=combination[2], degree=combination[3], coef0=combination[4])#, max_iter=1000)\n",
    "        \n",
    "        svc.fit(princ_components, y_train_cv.values)\n",
    "        \n",
    "        predictions = svc.predict(test_princ_components)\n",
    "        res = accuracy_score(y_val_cv.values, predictions)\n",
    "        acc_scores[i] += res\n",
    "acc_scores = acc_scores / n_folds\n",
    "best_idx = np.argmax(acc_scores)    \n",
    "print(f'Found best combination! {params_comb[best_idx]} w. accuracy of {acc_scores[best_idx]}.')\n",
    "best_comb = params_comb[best_idx]"
   ]
  },
  {
   "cell_type": "code",
   "execution_count": 11,
   "metadata": {},
   "outputs": [
    {
     "name": "stdout",
     "output_type": "stream",
     "text": [
      "Reached an accuracy of 0.9.\n",
      "svc_res_per_pc: [0.01052632 0.21403509 0.56842105 0.61052632 0.70877193 0.75438596\n",
      " 0.82631579 0.84736842 0.86491228 0.8754386  0.89298246 0.9       ]\n"
     ]
    }
   ],
   "source": [
    "n_princ_cs = [1, 5, 10, 15, 20, 25, 30, 35, 40, 45, 50, 54]\n",
    "res_per_pc = np.zeros(len(n_princ_cs))\n",
    "\n",
    "X_train_matrix = np.vstack(X_train)\n",
    "means_train = np.mean(X_train_matrix, axis=0)\n",
    "vars_train = np.var(X_train_matrix, axis=0)\n",
    "\n",
    "S, v_list_train = k_eros.compute_S_matrix(X_train, means_train, vars_train)\n",
    "_, v_list_test = k_eros.compute_S_matrix(X_test, means_train, vars_train)\n",
    "w = k_eros.compute_weight_vector(S, algorithm=2)\n",
    "K_eros_train_mc, V, eig_vals = k_eros.perform_PCA(len(X_train), weight_vector=w, v_list=v_list_train)\n",
    "Y, K_eros_test_mc = k_eros.project_test_data(len(X_train), len(X_test), w, v_list_train, v_list_test, K_eros_train_mc, V)\n",
    "svc = SVC(kernel=best_comb[0], C=best_comb[1], gamma=best_comb[2], degree=best_comb[3], coef0=best_comb[4])\n",
    "for i, n_pc in enumerate(n_princ_cs):\n",
    "    princ_components = V[:, :n_pc]\n",
    "    svc.fit(princ_components, y_train.values)\n",
    "    test_princ_components = Y[:, :n_pc]\n",
    "    predictions = svc.predict(test_princ_components)\n",
    "    res = accuracy_score(y_test.values, predictions)\n",
    "    res_per_pc[i] = res\n",
    "print(f'Reached an accuracy of {res_per_pc[-1]}.')\n",
    "svc_res_per_pc = res_per_pc\n",
    "print(f\"svc_res_per_pc: {svc_res_per_pc}\")"
   ]
  },
  {
   "cell_type": "markdown",
   "metadata": {},
   "source": [
    "## Random Forest Classifier"
   ]
  },
  {
   "cell_type": "code",
   "execution_count": 12,
   "metadata": {},
   "outputs": [
    {
     "name": "stderr",
     "output_type": "stream",
     "text": [
      "100%|██████████| 450/450 [14:04<00:00,  1.88s/it]\n",
      "100%|██████████| 450/450 [13:59<00:00,  1.87s/it]\n",
      "100%|██████████| 450/450 [14:12<00:00,  1.89s/it]\n",
      "100%|██████████| 450/450 [14:21<00:00,  1.91s/it]\n",
      "100%|██████████| 450/450 [14:16<00:00,  1.90s/it]"
     ]
    },
    {
     "name": "stdout",
     "output_type": "stream",
     "text": [
      "Found best combination! ('poly', 0.0001, 0.01, 30, 5) w. accuracy of 0.6481203007518797.\n"
     ]
    },
    {
     "name": "stderr",
     "output_type": "stream",
     "text": [
      "\n"
     ]
    }
   ],
   "source": [
    "from sklearn.ensemble import RandomForestClassifier\n",
    "from sklearn.model_selection import ParameterGrid\n",
    "import itertools\n",
    "from sklearn.svm import SVC\n",
    "from sklearn.metrics import accuracy_score\n",
    "from sklearn.preprocessing import StandardScaler\n",
    "from sklearn.decomposition import KernelPCA\n",
    "from tqdm import tqdm\n",
    "criterion = ['gini', 'entropy']\n",
    "n_estimators = [10, 25, 50, 100, 200]\n",
    "max_depth = [10, 20, 30, 50, 100]\n",
    "min_samples_split = [2, 6, 10] # minimum sample number to split a node\n",
    "min_samples_leaf = [1, 3, 4] # minimum sample number that can be stored in a leaf node\n",
    "params_grid = {\n",
    "    'criterion': criterion,\n",
    "    'n_estimators': n_estimators,\n",
    "    'max_depth': max_depth,\n",
    "    'min_samples_split': min_samples_split,\n",
    "    'min_samples_leaf': min_samples_leaf,\n",
    "}\n",
    "n_pcs = 54\n",
    "n_coords = 60\n",
    "params_list = list(ParameterGrid(params_grid))\n",
    "acc_scores = np.zeros(len(params_list))\n",
    "for train_index, val_index in skf.split(X_train, y_train):\n",
    "    X_train_cv = X_train.iloc[train_index]\n",
    "    y_train_cv = y_train.iloc[train_index]\n",
    "    X_val_cv = X_train.iloc[val_index]\n",
    "    y_val_cv = y_train.iloc[val_index]\n",
    "    X_train_matrix = np.vstack(X_train_cv)\n",
    "    means_train = np.mean(X_train_matrix, axis=0)\n",
    "    vars_train = np.var(X_train_matrix, axis=0)\n",
    "    S, v_list_train = k_eros.compute_S_matrix(X_train_cv, means_train, vars_train)\n",
    "    _, v_list_test = k_eros.compute_S_matrix(X_val_cv, means_train, vars_train)\n",
    "    w = k_eros.compute_weight_vector(S, algorithm=2)\n",
    "    K_eros_train_mc, V, eig_vals = k_eros.perform_PCA(len(X_train_cv), weight_vector=w, v_list=v_list_train)\n",
    "    Y, K_eros_test_mc = k_eros.project_test_data(len(X_train_cv), len(X_val_cv), w, v_list_train, v_list_test, K_eros_train_mc, V)\n",
    "    princ_components = V[:, :n_pcs]\n",
    "    test_princ_components = Y[:, :n_pcs]\n",
    "    for i, params in enumerate(tqdm(params_list)):\n",
    "        rf = RandomForestClassifier(criterion = params['criterion'], n_estimators=params['n_estimators'], max_depth=params['max_depth'], min_samples_split=params['min_samples_split'], min_samples_leaf=params['min_samples_leaf'])\n",
    "        rf.fit(princ_components, y_train_cv.values)\n",
    "        predictions = rf.predict(test_princ_components)\n",
    "        res = accuracy_score(y_val_cv.values, predictions)\n",
    "        acc_scores[i] += res\n",
    "acc_scores = acc_scores / n_folds\n",
    "best_idx = np.argmax(acc_scores)    \n",
    "print(f'Found best combination! {params_list[best_idx]} w. accuracy of {acc_scores[best_idx]}.')\n",
    "best_comb = params_list[best_idx]"
   ]
  },
  {
   "cell_type": "code",
   "execution_count": 15,
   "metadata": {},
   "outputs": [
    {
     "name": "stdout",
     "output_type": "stream",
     "text": [
      "Found best combination! {'criterion': 'entropy', 'max_depth': 100, 'min_samples_leaf': 3, 'min_samples_split': 2, 'n_estimators': 200} w. accuracy of 0.6481203007518797.\n"
     ]
    },
    {
     "data": {
      "text/plain": [
       "{'criterion': 'entropy',\n",
       " 'max_depth': 100,\n",
       " 'min_samples_leaf': 3,\n",
       " 'min_samples_split': 2,\n",
       " 'n_estimators': 200}"
      ]
     },
     "execution_count": 15,
     "metadata": {},
     "output_type": "execute_result"
    }
   ],
   "source": [
    "print(f'Found best combination! {params_list[best_idx]} w. accuracy of {acc_scores[best_idx]}.')\n",
    "best_comb = params_list[best_idx]\n",
    "params_list[best_idx]"
   ]
  },
  {
   "cell_type": "code",
   "execution_count": 16,
   "metadata": {},
   "outputs": [
    {
     "name": "stdout",
     "output_type": "stream",
     "text": [
      "Reached an accuracy of 0.6649122807017543.\n",
      "rf_res_per_pc: [0.02105263 0.09649123 0.3245614  0.39824561 0.46491228 0.46666667\n",
      " 0.54736842 0.58596491 0.61052632 0.62807018 0.63859649 0.66491228]\n"
     ]
    }
   ],
   "source": [
    "#for the best params combination il valore dell accuracy per 10Kfold\n",
    "n_princ_cs = [1, 5, 10, 15, 20, 25, 30, 35, 40, 45, 50, 55]\n",
    "res_per_pc = np.zeros(len(n_princ_cs))\n",
    "X_train_matrix = np.vstack(X_train)\n",
    "means_train = np.mean(X_train_matrix, axis=0)\n",
    "vars_train = np.var(X_train_matrix, axis=0)\n",
    "\n",
    "S, v_list_train = k_eros.compute_S_matrix(X_train, means_train, vars_train)\n",
    "_, v_list_test = k_eros.compute_S_matrix(X_test, means_train, vars_train)\n",
    "w = k_eros.compute_weight_vector(S, algorithm=2)\n",
    "K_eros_train_mc, V, eig_vals = k_eros.perform_PCA(len(X_train), weight_vector=w, v_list=v_list_train)\n",
    "Y, K_eros_test_mc = k_eros.project_test_data(len(X_train), len(X_test), w, v_list_train, v_list_test, K_eros_train_mc, V)\n",
    "rf = RandomForestClassifier(**best_comb)\n",
    "for i, n_pc in enumerate(n_princ_cs):\n",
    "    princ_components = V[:, :n_pc]\n",
    "    rf.fit(princ_components, y_train.values)\n",
    "    test_princ_components = Y[:, :n_pc]\n",
    "    predictions = rf.predict(test_princ_components)\n",
    "    res = accuracy_score(y_test.values, predictions)\n",
    "    res_per_pc[i] += res\n",
    "\n",
    "print(f'Reached an accuracy of {res_per_pc[-1]}.')\n",
    "rf_res_per_pc = res_per_pc\n",
    "print(f'rf_res_per_pc: {rf_res_per_pc}')"
   ]
  },
  {
   "cell_type": "code",
   "execution_count": 17,
   "metadata": {},
   "outputs": [
    {
     "name": "stdout",
     "output_type": "stream",
     "text": [
      "SVC accuracy x n principal components:  [0.01052632 0.21403509 0.56842105 0.61052632 0.70877193 0.75438596\n",
      " 0.82631579 0.84736842 0.86491228 0.8754386  0.89298246 0.9       ]\n",
      "RF accuracy x n principal components:  [0.02105263 0.09649123 0.3245614  0.39824561 0.46491228 0.46666667\n",
      " 0.54736842 0.58596491 0.61052632 0.62807018 0.63859649 0.66491228]\n"
     ]
    }
   ],
   "source": [
    "print('SVC accuracy x n principal components: ', svc_res_per_pc)\n",
    "print('RF accuracy x n principal components: ', rf_res_per_pc)"
   ]
  }
 ],
 "metadata": {
  "kernelspec": {
   "display_name": "Python 3.9.13 ('data_science')",
   "language": "python",
   "name": "python3"
  },
  "language_info": {
   "codemirror_mode": {
    "name": "ipython",
    "version": 3
   },
   "file_extension": ".py",
   "mimetype": "text/x-python",
   "name": "python",
   "nbconvert_exporter": "python",
   "pygments_lexer": "ipython3",
   "version": "3.9.13"
  },
  "orig_nbformat": 4,
  "vscode": {
   "interpreter": {
    "hash": "391ddcc66a8b67209ee4ca14a5da0cf1073041a687facbd61882e6753a3822ab"
   }
  }
 },
 "nbformat": 4,
 "nbformat_minor": 2
}
