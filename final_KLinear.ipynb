{
 "cells": [
  {
   "cell_type": "code",
   "execution_count": 1,
   "metadata": {},
   "outputs": [
    {
     "name": "stderr",
     "output_type": "stream",
     "text": [
      "<frozen importlib._bootstrap>:219: RuntimeWarning: numpy.ufunc size changed, may indicate binary incompatibility. Expected 192 from C header, got 216 from PyObject\n"
     ]
    }
   ],
   "source": [
    "import pandas as pd\n",
    "import numpy as np\n",
    "import os\n",
    "import utils"
   ]
  },
  {
   "cell_type": "code",
   "execution_count": 2,
   "metadata": {},
   "outputs": [],
   "source": [
    "#path = \"./tctodd/\"\n",
    "path = \"../../Desktop/MML Project/tctodd/\"\n",
    "dirs = os.listdir(path=path)\n",
    "weeks = sorted([i for i in dirs if i != \".DS_Store\"])\n",
    "filenames = sorted(os.listdir(path+weeks[1]))\n",
    "\n",
    "data = []\n",
    "labels = dict()\n",
    "label_cnt = 0\n",
    "\n",
    "for w in weeks:\n",
    "    temp_path = path+w+\"/\"\n",
    "    filenames = sorted(os.listdir(temp_path))\n",
    "    for fn in filenames:\n",
    "        label = fn.split('.')[0][:-2]\n",
    "        \n",
    "        if label not in labels:\n",
    "            labels[label] = label_cnt\n",
    "            label_cnt += 1\n",
    "            \n",
    "        data.append({'label':labels[label], 'time_series':pd.read_csv(temp_path+fn, header=None, sep='\\t',).values})\n",
    "        "
   ]
  },
  {
   "cell_type": "code",
   "execution_count": 3,
   "metadata": {},
   "outputs": [
    {
     "name": "stdout",
     "output_type": "stream",
     "text": [
      "93    27\n",
      "68    27\n",
      "50    27\n",
      "52    27\n",
      "54    27\n",
      "      ..\n",
      "35    27\n",
      "37    27\n",
      "39    27\n",
      "41    27\n",
      "0     27\n",
      "Name: label, Length: 95, dtype: int64\n"
     ]
    },
    {
     "data": {
      "text/html": [
       "<div>\n",
       "<style scoped>\n",
       "    .dataframe tbody tr th:only-of-type {\n",
       "        vertical-align: middle;\n",
       "    }\n",
       "\n",
       "    .dataframe tbody tr th {\n",
       "        vertical-align: top;\n",
       "    }\n",
       "\n",
       "    .dataframe thead th {\n",
       "        text-align: right;\n",
       "    }\n",
       "</style>\n",
       "<table border=\"1\" class=\"dataframe\">\n",
       "  <thead>\n",
       "    <tr style=\"text-align: right;\">\n",
       "      <th></th>\n",
       "      <th>label</th>\n",
       "      <th>time_series</th>\n",
       "    </tr>\n",
       "  </thead>\n",
       "  <tbody>\n",
       "    <tr>\n",
       "      <th>0</th>\n",
       "      <td>0</td>\n",
       "      <td>[[-0.06490900000000001, 0.034318, -0.043963999...</td>\n",
       "    </tr>\n",
       "    <tr>\n",
       "      <th>1</th>\n",
       "      <td>0</td>\n",
       "      <td>[[-0.10705899999999999, -0.126109, -0.053742, ...</td>\n",
       "    </tr>\n",
       "    <tr>\n",
       "      <th>2</th>\n",
       "      <td>0</td>\n",
       "      <td>[[-0.061426999999999995, -0.082576, -0.1029910...</td>\n",
       "    </tr>\n",
       "    <tr>\n",
       "      <th>3</th>\n",
       "      <td>1</td>\n",
       "      <td>[[-0.128178, 0.02695, -0.050126, 0.455028, 0.4...</td>\n",
       "    </tr>\n",
       "    <tr>\n",
       "      <th>4</th>\n",
       "      <td>1</td>\n",
       "      <td>[[-0.143672, -0.14441600000000002, -0.047447, ...</td>\n",
       "    </tr>\n",
       "  </tbody>\n",
       "</table>\n",
       "</div>"
      ],
      "text/plain": [
       "   label                                        time_series\n",
       "0      0  [[-0.06490900000000001, 0.034318, -0.043963999...\n",
       "1      0  [[-0.10705899999999999, -0.126109, -0.053742, ...\n",
       "2      0  [[-0.061426999999999995, -0.082576, -0.1029910...\n",
       "3      1  [[-0.128178, 0.02695, -0.050126, 0.455028, 0.4...\n",
       "4      1  [[-0.143672, -0.14441600000000002, -0.047447, ..."
      ]
     },
     "execution_count": 3,
     "metadata": {},
     "output_type": "execute_result"
    }
   ],
   "source": [
    "df = pd.DataFrame(data, columns=['label', 'time_series'])\n",
    "print(df['label'].value_counts())\n",
    "df.head()"
   ]
  },
  {
   "cell_type": "code",
   "execution_count": 4,
   "metadata": {},
   "outputs": [
    {
     "name": "stderr",
     "output_type": "stream",
     "text": [
      "<frozen importlib._bootstrap>:219: RuntimeWarning: numpy.ufunc size changed, may indicate binary incompatibility. Expected 192 from C header, got 216 from PyObject\n",
      "<frozen importlib._bootstrap>:219: RuntimeWarning: numpy.ufunc size changed, may indicate binary incompatibility. Expected 192 from C header, got 216 from PyObject\n",
      "<frozen importlib._bootstrap>:219: RuntimeWarning: numpy.ufunc size changed, may indicate binary incompatibility. Expected 192 from C header, got 216 from PyObject\n"
     ]
    }
   ],
   "source": [
    "X = df['time_series']\n",
    "y = df['label']\n",
    "from sklearn.preprocessing import StandardScaler\n",
    "from sklearn.decomposition import KernelPCA\n",
    "from utils import *\n",
    "seed = 0\n",
    "n_coords = 60\n",
    "X_interp = interpolate_data(X, n_coords)\n",
    "X_interp = concatenate_examples(X_interp)\n",
    "\n",
    "\n",
    "SC = StandardScaler()\n",
    "SC.fit(X_interp)\n",
    "X_interp = SC.transform(X_interp)\n",
    "kpca = KernelPCA(n_components=None, kernel='linear')\n",
    "\n",
    "principal_comps = kpca.fit_transform(X_interp)\n",
    "explained_variance = np.var(principal_comps, axis=0)\n",
    "explained_variance_ratio = explained_variance / np.sum(explained_variance)"
   ]
  },
  {
   "cell_type": "code",
   "execution_count": 5,
   "metadata": {},
   "outputs": [
    {
     "data": {
      "image/png": "[encoded data removed]",
      "text/plain": [
       "<Figure size 432x288 with 1 Axes>"
      ]
     },
     "metadata": {
      "needs_background": "light"
     },
     "output_type": "display_data"
    }
   ],
   "source": [
    "import matplotlib.pyplot as plt\n",
    "cum_sum_eigenvalues = np.cumsum(explained_variance_ratio)\n",
    "plt.bar(range(0,len(explained_variance_ratio[:70])), explained_variance_ratio[:70], alpha=0.5, align='center', label='Individual explained variance')\n",
    "plt.step(range(0,len(cum_sum_eigenvalues[:70])), cum_sum_eigenvalues[:70], where='mid',label='Cumulative explained variance')\n",
    "plt.ylabel('Explained variance ratio')\n",
    "plt.xlabel('Principal component index')\n",
    "plt.legend(loc='best')\n",
    "plt.tight_layout()\n",
    "plt.show()"
   ]
  },
  {
   "cell_type": "code",
   "execution_count": 6,
   "metadata": {},
   "outputs": [
    {
     "name": "stdout",
     "output_type": "stream",
     "text": [
      "first 55 dims 0.9512066945872513 var explained\n"
     ]
    }
   ],
   "source": [
    "print(f'first 55 dims {cum_sum_eigenvalues[54]} var explained')"
   ]
  },
  {
   "cell_type": "code",
   "execution_count": 9,
   "metadata": {},
   "outputs": [
    {
     "name": "stderr",
     "output_type": "stream",
     "text": [
      "doing parameters search...:   4%|▎         | 55/1554 [01:06<30:20,  1.21s/it]\n"
     ]
    },
    {
     "ename": "KeyboardInterrupt",
     "evalue": "",
     "output_type": "error",
     "traceback": [
      "\u001b[1;31m---------------------------------------------------------------------------\u001b[0m",
      "\u001b[1;31mKeyboardInterrupt\u001b[0m                         Traceback (most recent call last)",
      "\u001b[1;32m<ipython-input-9-0343312d6abb>\u001b[0m in \u001b[0;36m<module>\u001b[1;34m\u001b[0m\n\u001b[0;32m     55\u001b[0m     \u001b[0msvc\u001b[0m \u001b[1;33m=\u001b[0m \u001b[0mSVC\u001b[0m\u001b[1;33m(\u001b[0m\u001b[0mkernel\u001b[0m\u001b[1;33m=\u001b[0m\u001b[0mcombination\u001b[0m\u001b[1;33m[\u001b[0m\u001b[1;36m0\u001b[0m\u001b[1;33m]\u001b[0m\u001b[1;33m,\u001b[0m \u001b[0mC\u001b[0m\u001b[1;33m=\u001b[0m\u001b[0mcombination\u001b[0m\u001b[1;33m[\u001b[0m\u001b[1;36m1\u001b[0m\u001b[1;33m]\u001b[0m\u001b[1;33m,\u001b[0m \u001b[0mgamma\u001b[0m\u001b[1;33m=\u001b[0m\u001b[0mcombination\u001b[0m\u001b[1;33m[\u001b[0m\u001b[1;36m2\u001b[0m\u001b[1;33m]\u001b[0m\u001b[1;33m,\u001b[0m \u001b[0mdegree\u001b[0m\u001b[1;33m=\u001b[0m\u001b[0mcombination\u001b[0m\u001b[1;33m[\u001b[0m\u001b[1;36m3\u001b[0m\u001b[1;33m]\u001b[0m\u001b[1;33m,\u001b[0m \u001b[0mcoef0\u001b[0m\u001b[1;33m=\u001b[0m\u001b[0mcombination\u001b[0m\u001b[1;33m[\u001b[0m\u001b[1;36m4\u001b[0m\u001b[1;33m]\u001b[0m\u001b[1;33m)\u001b[0m\u001b[1;33m\u001b[0m\u001b[1;33m\u001b[0m\u001b[0m\n\u001b[0;32m     56\u001b[0m     \u001b[0mprinc_components\u001b[0m \u001b[1;33m=\u001b[0m \u001b[0mprincipal_comps_train\u001b[0m\u001b[1;33m[\u001b[0m\u001b[1;33m:\u001b[0m\u001b[1;33m,\u001b[0m \u001b[1;33m:\u001b[0m\u001b[0mn_pcs\u001b[0m\u001b[1;33m]\u001b[0m\u001b[1;33m\u001b[0m\u001b[1;33m\u001b[0m\u001b[0m\n\u001b[1;32m---> 57\u001b[1;33m     \u001b[0msvc\u001b[0m\u001b[1;33m.\u001b[0m\u001b[0mfit\u001b[0m\u001b[1;33m(\u001b[0m\u001b[0mprinc_components\u001b[0m\u001b[1;33m,\u001b[0m \u001b[0my_train\u001b[0m\u001b[1;33m.\u001b[0m\u001b[0mvalues\u001b[0m\u001b[1;33m)\u001b[0m\u001b[1;33m\u001b[0m\u001b[1;33m\u001b[0m\u001b[0m\n\u001b[0m\u001b[0;32m     58\u001b[0m     \u001b[0mtest_princ_components\u001b[0m \u001b[1;33m=\u001b[0m \u001b[0mprincipal_comps_test\u001b[0m\u001b[1;33m[\u001b[0m\u001b[1;33m:\u001b[0m\u001b[1;33m,\u001b[0m \u001b[1;33m:\u001b[0m\u001b[0mn_pcs\u001b[0m\u001b[1;33m]\u001b[0m\u001b[1;33m\u001b[0m\u001b[1;33m\u001b[0m\u001b[0m\n\u001b[0;32m     59\u001b[0m     \u001b[0mpredictions\u001b[0m \u001b[1;33m=\u001b[0m \u001b[0msvc\u001b[0m\u001b[1;33m.\u001b[0m\u001b[0mpredict\u001b[0m\u001b[1;33m(\u001b[0m\u001b[0mtest_princ_components\u001b[0m\u001b[1;33m)\u001b[0m\u001b[1;33m\u001b[0m\u001b[1;33m\u001b[0m\u001b[0m\n",
      "\u001b[1;32mc:\\Users\\andre\\anaconda3\\lib\\site-packages\\sklearn\\svm\\_base.py\u001b[0m in \u001b[0;36mfit\u001b[1;34m(self, X, y, sample_weight)\u001b[0m\n\u001b[0;32m    215\u001b[0m \u001b[1;33m\u001b[0m\u001b[0m\n\u001b[0;32m    216\u001b[0m         \u001b[0mseed\u001b[0m \u001b[1;33m=\u001b[0m \u001b[0mrnd\u001b[0m\u001b[1;33m.\u001b[0m\u001b[0mrandint\u001b[0m\u001b[1;33m(\u001b[0m\u001b[0mnp\u001b[0m\u001b[1;33m.\u001b[0m\u001b[0miinfo\u001b[0m\u001b[1;33m(\u001b[0m\u001b[1;34m'i'\u001b[0m\u001b[1;33m)\u001b[0m\u001b[1;33m.\u001b[0m\u001b[0mmax\u001b[0m\u001b[1;33m)\u001b[0m\u001b[1;33m\u001b[0m\u001b[1;33m\u001b[0m\u001b[0m\n\u001b[1;32m--> 217\u001b[1;33m         \u001b[0mfit\u001b[0m\u001b[1;33m(\u001b[0m\u001b[0mX\u001b[0m\u001b[1;33m,\u001b[0m \u001b[0my\u001b[0m\u001b[1;33m,\u001b[0m \u001b[0msample_weight\u001b[0m\u001b[1;33m,\u001b[0m \u001b[0msolver_type\u001b[0m\u001b[1;33m,\u001b[0m \u001b[0mkernel\u001b[0m\u001b[1;33m,\u001b[0m \u001b[0mrandom_seed\u001b[0m\u001b[1;33m=\u001b[0m\u001b[0mseed\u001b[0m\u001b[1;33m)\u001b[0m\u001b[1;33m\u001b[0m\u001b[1;33m\u001b[0m\u001b[0m\n\u001b[0m\u001b[0;32m    218\u001b[0m         \u001b[1;31m# see comment on the other call to np.iinfo in this file\u001b[0m\u001b[1;33m\u001b[0m\u001b[1;33m\u001b[0m\u001b[1;33m\u001b[0m\u001b[0m\n\u001b[0;32m    219\u001b[0m \u001b[1;33m\u001b[0m\u001b[0m\n",
      "\u001b[1;32mc:\\Users\\andre\\anaconda3\\lib\\site-packages\\sklearn\\svm\\_base.py\u001b[0m in \u001b[0;36m_dense_fit\u001b[1;34m(self, X, y, sample_weight, solver_type, kernel, random_seed)\u001b[0m\n\u001b[0;32m    266\u001b[0m         \u001b[0mself\u001b[0m\u001b[1;33m.\u001b[0m\u001b[0msupport_\u001b[0m\u001b[1;33m,\u001b[0m \u001b[0mself\u001b[0m\u001b[1;33m.\u001b[0m\u001b[0msupport_vectors_\u001b[0m\u001b[1;33m,\u001b[0m \u001b[0mself\u001b[0m\u001b[1;33m.\u001b[0m\u001b[0m_n_support\u001b[0m\u001b[1;33m,\u001b[0m\u001b[0;31m \u001b[0m\u001b[0;31m\\\u001b[0m\u001b[1;33m\u001b[0m\u001b[1;33m\u001b[0m\u001b[0m\n\u001b[0;32m    267\u001b[0m             \u001b[0mself\u001b[0m\u001b[1;33m.\u001b[0m\u001b[0mdual_coef_\u001b[0m\u001b[1;33m,\u001b[0m \u001b[0mself\u001b[0m\u001b[1;33m.\u001b[0m\u001b[0mintercept_\u001b[0m\u001b[1;33m,\u001b[0m \u001b[0mself\u001b[0m\u001b[1;33m.\u001b[0m\u001b[0m_probA\u001b[0m\u001b[1;33m,\u001b[0m\u001b[0;31m \u001b[0m\u001b[0;31m\\\u001b[0m\u001b[1;33m\u001b[0m\u001b[1;33m\u001b[0m\u001b[0m\n\u001b[1;32m--> 268\u001b[1;33m             self._probB, self.fit_status_ = libsvm.fit(\n\u001b[0m\u001b[0;32m    269\u001b[0m                 \u001b[0mX\u001b[0m\u001b[1;33m,\u001b[0m \u001b[0my\u001b[0m\u001b[1;33m,\u001b[0m\u001b[1;33m\u001b[0m\u001b[1;33m\u001b[0m\u001b[0m\n\u001b[0;32m    270\u001b[0m                 \u001b[0msvm_type\u001b[0m\u001b[1;33m=\u001b[0m\u001b[0msolver_type\u001b[0m\u001b[1;33m,\u001b[0m \u001b[0msample_weight\u001b[0m\u001b[1;33m=\u001b[0m\u001b[0msample_weight\u001b[0m\u001b[1;33m,\u001b[0m\u001b[1;33m\u001b[0m\u001b[1;33m\u001b[0m\u001b[0m\n",
      "\u001b[1;31mKeyboardInterrupt\u001b[0m: "
     ]
    }
   ],
   "source": [
    "import sklearn as sk\n",
    "import itertools\n",
    "from sklearn.model_selection import train_test_split\n",
    "from sklearn.svm import SVC\n",
    "from sklearn.metrics import accuracy_score\n",
    "from sklearn.preprocessing import StandardScaler\n",
    "from sklearn.decomposition import KernelPCA\n",
    "from utils import *\n",
    "from tqdm import tqdm\n",
    "seed = 0\n",
    "\n",
    "\n",
    "X = df['time_series']\n",
    "y = df['label']\n",
    "\n",
    "\n",
    "\n",
    "n_pcs = 55\n",
    "n_coords = 60\n",
    "##LINEAR KERNEL\n",
    "params = [['linear'], [0.0001, 0.0005, 0.001, 0.005, 0.01, 1]]\n",
    "params_comb = list(itertools.product(*params))\n",
    "##RBF KERNEL\n",
    "params = [['rbf'], [0.0001, 0.0005, 0.001, 0.005, 0.01, 1], [0.001, 0.01, 1, 2, 5, 10]]\n",
    "params_comb += list(itertools.product(*params))\n",
    "##POLYNOMIAL KERNEL\n",
    "params = [['poly'], [0.0001, 0.0005, 0.001, 0.005, 0.01, 1], [0.001, 0.01, 1, 2, 5, 10], [3, 6, 10, 15, 20, 25, 30], [0, 0.1, 0.5, 1, 5, 10]]\n",
    "params_comb += list(itertools.product(*params))\n",
    "best_comb = ''\n",
    "best_acc = 0\n",
    "X_train, X_test, y_train, y_test = train_test_split(X, y,\n",
    "                                                    stratify=y, \n",
    "                                                    test_size=0.1, random_state=seed)\n",
    "X_train_interp, X_test_interp = interpolate_data(X_train, n_coords), interpolate_data(X_test, n_coords)\n",
    "X_train_interp = concatenate_examples(X_train_interp)\n",
    "X_test_interp = concatenate_examples(X_test_interp)\n",
    "\n",
    "\n",
    "SC = StandardScaler()\n",
    "SC.fit(X_train_interp)\n",
    "X_train_interp = SC.transform(X_train_interp)\n",
    "X_test_interp = SC.transform(X_test_interp)\n",
    "\n",
    "kpca = KernelPCA(n_components=None, kernel='linear')\n",
    "\n",
    "principal_comps_train = kpca.fit_transform(X_train_interp)\n",
    "principal_comps_test = kpca.transform(X_test_interp)\n",
    "for params in tqdm(params_comb, desc='doing parameters search...'):\n",
    "    if len(params) == 2:\n",
    "        combination = tuple([params[0], params[1], 1, 3, 0])\n",
    "    elif len(params) == 3:\n",
    "        combination = tuple([params[0], params[1], params[2], 3, 0])\n",
    "    else:\n",
    "        combination = params\n",
    "    svc = SVC(kernel=combination[0], C=combination[1], gamma=combination[2], degree=combination[3], coef0=combination[4])\n",
    "    princ_components = principal_comps_train[:, :n_pcs]\n",
    "    svc.fit(princ_components, y_train.values)\n",
    "    test_princ_components = principal_comps_test[:, :n_pcs]\n",
    "    predictions = svc.predict(test_princ_components)\n",
    "    res = accuracy_score(y_test.values, predictions)\n",
    "    if res > best_acc:\n",
    "        best_acc = res\n",
    "        best_comb = combination\n",
    "        print(f'Found best combination! {best_comb} w. accuracy of {best_acc}.')"
   ]
  },
  {
   "cell_type": "code",
   "execution_count": null,
   "metadata": {},
   "outputs": [],
   "source": [
    "#for the best params combination il valore dell accuracy per 10Kfold\n",
    "skf = sk.model_selection.StratifiedKFold(n_splits=10, shuffle=True, random_state=seed)\n",
    "mean_accuracy = 0\n",
    "n_princ_cs = [1, 5, 10, 15, 20, 25, 30, 35, 40, 45, 50, 55]\n",
    "res_per_pc = np.zeros(len(n_princ_cs))\n",
    "for train_index, test_index in skf.split(X, y):\n",
    "    X_train = X[train_index]\n",
    "    y_train = y[train_index]\n",
    "    X_test = X[test_index]\n",
    "    y_test = y[test_index]\n",
    "    X_train_interp, X_test_interp = interpolate_data(X_train, n_coords), interpolate_data(X_test, n_coords)\n",
    "    X_train_interp = concatenate_examples(X_train_interp)\n",
    "    X_test_interp = concatenate_examples(X_test_interp)\n",
    "    SC = StandardScaler()\n",
    "    SC.fit(X_train_interp)\n",
    "    X_train_interp = SC.transform(X_train_interp)\n",
    "    X_test_interp = SC.transform(X_test_interp)\n",
    "\n",
    "    kpca = KernelPCA(n_components=None, kernel='linear')\n",
    "\n",
    "    principal_comps_train = kpca.fit_transform(X_train_interp)\n",
    "    principal_comps_test = kpca.transform(X_test_interp)\n",
    "    svc = SVC(kernel=best_comb[0], C=best_comb[1], gamma=best_comb[2], degree=best_comb[3], coef0=best_comb[4])\n",
    "    for i, n_pc in enumerate(n_princ_cs):\n",
    "        princ_components = principal_comps_train[:, :n_pc]\n",
    "        svc.fit(princ_components, y_train.values)\n",
    "        test_princ_components = principal_comps_test[:, :n_pc]\n",
    "        predictions = svc.predict(test_princ_components)\n",
    "        res = accuracy_score(y_test.values, predictions)\n",
    "        res_per_pc[i] += res\n",
    "print(f'Reached an accuracy of {res_per_pc[-1]/10}.')\n",
    "svc_res_per_pc = res_per_pc/10\n"
   ]
  },
  {
   "cell_type": "code",
   "execution_count": null,
   "metadata": {},
   "outputs": [],
   "source": [
    "from sklearn.ensemble import RandomForestClassifier\n",
    "from sklearn.model_selection import ParameterGrid\n",
    "criterion = ['gini', 'entropy']\n",
    "n_estimators = [10, 25, 50, 100, 200]\n",
    "max_depth = [10, 20, 30, 50, 100]\n",
    "min_samples_split = [2, 6, 10] # minimum sample number to split a node\n",
    "min_samples_leaf = [1, 3, 4] # minimum sample number that can be stored in a leaf node\n",
    "params_grid = {'n_estimators': n_estimators,\n",
    "'max_depth': max_depth,\n",
    "'min_samples_split': min_samples_split,\n",
    "'min_samples_leaf': min_samples_leaf,\n",
    "}\n",
    "X_train, X_test, y_train, y_test = train_test_split(X, y,stratify=y, test_size=0.1, seed=seed)\n",
    "best_comb = ''\n",
    "best_acc = 0\n",
    "X_train_interp, X_test_interp = interpolate_data(X_train, n_coords), interpolate_data(X_test, n_coords)\n",
    "X_train_interp = concatenate_examples(X_train_interp)\n",
    "X_test_interp = concatenate_examples(X_test_interp)\n",
    "\n",
    "\n",
    "SC = StandardScaler()\n",
    "SC.fit(X_train_interp)\n",
    "X_train_interp = SC.transform(X_train_interp)\n",
    "X_test_interp = SC.transform(X_test_interp)\n",
    "\n",
    "kpca = KernelPCA(n_components=None, kernel='linear')\n",
    "\n",
    "principal_comps_train = kpca.fit_transform(X_train_interp)\n",
    "principal_comps_test = kpca.transform(X_test_interp)\n",
    "for params in list(ParameterGrid(params_grid)):\n",
    "    \n",
    "    rf = RandomForestClassifier(*params)\n",
    "    princ_components = principal_comps_train[:, :n_pcs]\n",
    "    rf.fit(princ_components, y_train.values)\n",
    "    test_princ_components = principal_comps_test[:, :n_pcs]\n",
    "    predictions = rf.predict(test_princ_components)\n",
    "    res = accuracy_score(y_test.values, predictions)\n",
    "    if res > best_acc:\n",
    "        best_acc = res\n",
    "        best_comb = params\n",
    "        print(f'Found best combination! {best_comb} w. accuracy of {best_acc}.')\n",
    "    \n",
    "\n"
   ]
  },
  {
   "cell_type": "code",
   "execution_count": null,
   "metadata": {},
   "outputs": [],
   "source": [
    "#for the best params combination il valore dell accuracy per 10Kfold\n",
    "skf = sk.model_selection.StratifiedKFold(n_splits=10, shuffle=True, random_state=seed)\n",
    "n_princ_cs = [1, 5, 10, 15, 20, 25, 30, 35, 40, 45, 50, 55]\n",
    "res_per_pc = np.zeros(len(n_princ_cs))\n",
    "for train_index, test_index in skf.split(X, y):\n",
    "    X_train = X[train_index]\n",
    "    y_train = y[train_index]\n",
    "    X_test = X[test_index]\n",
    "    y_test = y[test_index]\n",
    "    X_train_interp, X_test_interp = interpolate_data(X_train, n_coords), interpolate_data(X_test, n_coords)\n",
    "    X_train_interp = concatenate_examples(X_train_interp)\n",
    "    X_test_interp = concatenate_examples(X_test_interp)\n",
    "    SC = StandardScaler()\n",
    "    SC.fit(X_train_interp)\n",
    "    X_train_interp = SC.transform(X_train_interp)\n",
    "    X_test_interp = SC.transform(X_test_interp)\n",
    "\n",
    "    kpca = KernelPCA(n_components=None, kernel='linear')\n",
    "\n",
    "    principal_comps_train = kpca.fit_transform(X_train_interp)\n",
    "    principal_comps_test = kpca.transform(X_test_interp)\n",
    "    rf = RandomForestClassifier(*best_comb)\n",
    "    \n",
    "    for i, n_pc in enumerate(n_princ_cs):\n",
    "        princ_components = principal_comps_train[:, :n_pc]\n",
    "        rf.fit(princ_components, y_train.values)\n",
    "        test_princ_components = principal_comps_test[:, :n_pc]\n",
    "        predictions = rf.predict(test_princ_components)\n",
    "        res = accuracy_score(y_test.values, predictions)\n",
    "        res_per_pc[i] += res\n",
    "\n",
    "print(f'Reached an accuracy of {res_per_pc[-1]/10}.')\n",
    "rf_res_per_pc = res_per_pc/10\n"
   ]
  },
  {
   "cell_type": "code",
   "execution_count": null,
   "metadata": {},
   "outputs": [],
   "source": [
    "print('SVC accuracy x n principal components: ', svc_res_per_pc)\n",
    "print('RF accuracy x n principal components: ', rf_res_per_pc)"
   ]
  }
 ],
 "metadata": {
  "kernelspec": {
   "display_name": "Python 3.8.3 ('base')",
   "language": "python",
   "name": "python3"
  },
  "language_info": {
   "codemirror_mode": {
    "name": "ipython",
    "version": 3
   },
   "file_extension": ".py",
   "mimetype": "text/x-python",
   "name": "python",
   "nbconvert_exporter": "python",
   "pygments_lexer": "ipython3",
   "version": "3.8.3"
  },
  "orig_nbformat": 4,
  "vscode": {
   "interpreter": {
    "hash": "c4f92193806e2908606a5f23edd55a5282f2f433b73b1c504507f9256ed9f0b4"
   }
  }
 },
 "nbformat": 4,
 "nbformat_minor": 2
}
