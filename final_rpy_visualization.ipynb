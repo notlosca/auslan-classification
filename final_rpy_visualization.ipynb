{
 "cells": [
  {
   "cell_type": "code",
   "execution_count": 1,
   "metadata": {},
   "outputs": [],
   "source": [
    "import pandas as pd\n",
    "import numpy as np\n",
    "import seaborn as sns\n",
    "import os\n",
    "import utils\n",
    "\n",
    "\n",
    "features_1 = [\n",
    "    'sx_x',\n",
    "    'sx_y',\n",
    "    'sx_z',\n",
    "    'sx_roll',\n",
    "    'sx_pitch',\n",
    "    'sx_yaw',\n",
    "    'sx_thumb',\n",
    "    'sx_forefinger',\n",
    "    'sx_middle_finger',\n",
    "    'sx_ring_finger',\n",
    "    'sx_little_finger',\n",
    "    'dx_x',\n",
    "    'dx_y',\n",
    "    'dx_z',\n",
    "    'dx_roll',\n",
    "    'dx_pitch',\n",
    "    'dx_yaw',\n",
    "    'dx_thumb',\n",
    "    'dx_forefinger',\n",
    "    'dx_middle_finger',\n",
    "    'dx_ring_finger',\n",
    "    'dx_little_finger'\n",
    "    ]\n"
   ]
  },
  {
   "cell_type": "code",
   "execution_count": 2,
   "metadata": {},
   "outputs": [],
   "source": [
    "path = \"./tctodd/\"\n",
    "dirs = os.listdir(path=path)\n",
    "weeks = sorted([i for i in dirs if i != \".DS_Store\"])\n",
    "filenames = sorted(os.listdir(path+weeks[1]))\n",
    "\n",
    "data = []\n",
    "labels = dict()\n",
    "label_cnt = 0\n",
    "\n",
    "for w in weeks:\n",
    "    temp_path = path+w+\"/\"\n",
    "    filenames = sorted(os.listdir(temp_path))\n",
    "    for fn in filenames:\n",
    "        label = fn.split('.')[0][:-2]\n",
    "        \n",
    "        if label not in labels:\n",
    "            labels[label] = label_cnt\n",
    "            label_cnt += 1\n",
    "            \n",
    "        data.append({'label':labels[label], 'time_series':pd.read_csv(temp_path+fn, header=None, sep='\\t',).values})\n",
    "        "
   ]
  },
  {
   "cell_type": "code",
   "execution_count": 3,
   "metadata": {},
   "outputs": [],
   "source": [
    "df = pd.DataFrame(data, columns=['label', 'time_series'])"
   ]
  },
  {
   "cell_type": "code",
   "execution_count": 4,
   "metadata": {},
   "outputs": [],
   "source": [
    "X = df['time_series']\n",
    "y = df['label']\n",
    "seed = 0"
   ]
  },
  {
   "cell_type": "code",
   "execution_count": 5,
   "metadata": {},
   "outputs": [],
   "source": [
    "one = labels['hello'] # one-handed\n",
    "two = labels['God'] #two-handed\n",
    "spec_two = labels['where'] #specular two-handed\n",
    "\n",
    "one_mask = df['label'] == one\n",
    "two_mask = df['label'] == two\n",
    "spec_two_mask = df['label'] == spec_two\n",
    "\n",
    "one_data = df[one_mask].iloc[0]['time_series']\n",
    "two_data = df[two_mask].iloc[0]['time_series']\n",
    "spec_two_data = df[spec_two_mask].iloc[0]['time_series']"
   ]
  },
  {
   "cell_type": "code",
   "execution_count": 6,
   "metadata": {},
   "outputs": [
    {
     "data": {
      "text/plain": [
       "(62, 3)"
      ]
     },
     "execution_count": 6,
     "metadata": {},
     "output_type": "execute_result"
    }
   ],
   "source": [
    "n_features_per_hand = 11\n",
    "one_data[:,3+n_features_per_hand:6+n_features_per_hand].shape"
   ]
  },
  {
   "cell_type": "markdown",
   "metadata": {},
   "source": [
    "### Versor visualization\n",
    "$$\n",
    "\\hat{i}, \\hat{j}, \\hat{k}\n",
    "$$"
   ]
  },
  {
   "cell_type": "code",
   "execution_count": 8,
   "metadata": {},
   "outputs": [
    {
     "data": {
      "image/png": "[encoded data removed]",
      "text/plain": [
       "<Figure size 864x720 with 1 Axes>"
      ]
     },
     "metadata": {
      "needs_background": "light"
     },
     "output_type": "display_data"
    }
   ],
   "source": [
    "import matplotlib.pyplot as plt\n",
    "from mpl_toolkits.mplot3d import Axes3D\n",
    "import matplotlib\n",
    "import numpy as np\n",
    "from utils import rotation\n",
    "    \n",
    "soa = np.array([[1, 0, 0], [0, 1, 0],\n",
    "                [0, 0, 1]])\n",
    "\n",
    "origin = np.array([[0, 0, 0],[0, 0, 0],[0, 0, 0]]) # origin point\n",
    "\n",
    "\n",
    "roll = 0\n",
    "pitch = 0\n",
    "yaw = 0\n",
    "\n",
    "U, V, W = zip(*soa)\n",
    "UVW = np.array([U, V, W])\n",
    "fig = plt.figure(figsize=(12,10))\n",
    "ax = fig.add_subplot(projection='3d')\n",
    "\n",
    "sx_R = rotation.rotation_matrix(roll, pitch, yaw)\n",
    "\n",
    "UVW = sx_R.round()@np.array([U, V, W])\n",
    "\n",
    "ax.quiver(*origin, *UVW[:,0], color=['r'], length=1, normalize=True, label='pitch axis', arrow_length_ratio=0.1, linewidths=3)\n",
    "ax.quiver(*origin, *UVW[:,1], color=['g'], length=1, normalize=True, label='roll axis', arrow_length_ratio=0.1, linewidths=3)\n",
    "ax.quiver(*origin, *UVW[:,2], color=['b'], length=1, normalize=True, label='yaw axis', arrow_length_ratio=0.1, linewidths=3)\n",
    "\n",
    "ax.set_xlim([-1,1])\n",
    "ax.set_ylim([-1,1])\n",
    "ax.set_zlim([-1,1])\n",
    "ax.set_xlabel('X')\n",
    "ax.set_ylabel('Y')\n",
    "ax.set_zlabel('Z')\n",
    "plt.legend()\n",
    "plt.axis('off')\n",
    "plt.title(\"ENU framework\")\n",
    "#plt.savefig(\"ENU_framework.png\", format='png', dpi=500)\n",
    "plt.show()"
   ]
  },
  {
   "cell_type": "markdown",
   "metadata": {},
   "source": [
    "### If images are already written and you want to change the FPS rate in the video, use this cell"
   ]
  },
  {
   "cell_type": "code",
   "execution_count": null,
   "metadata": {},
   "outputs": [],
   "source": [
    "import cv2\n",
    "import numpy as np\n",
    "import glob\n",
    "\n",
    "folder_name = ''    # ex: god_gif\n",
    "output_folder = ''  # ex: video\n",
    "title = ''          # ex: rpy_god_mirror\n",
    "\n",
    "fps_rate = 15\n",
    "\n",
    "img_array = []\n",
    "imgs = []\n",
    "for filename in glob.glob(f'{folder_name}/*.png'):\n",
    "    imgs.append(filename)\n",
    "for filename in sorted(imgs):\n",
    "    img = cv2.imread(filename)\n",
    "    height, width, layers = img.shape\n",
    "    size = (width,height)\n",
    "    img_array.append(img)\n",
    "\n",
    "\n",
    "out = cv2.VideoWriter(f'{output_folder}/{title}.mp4',cv2.VideoWriter_fourcc(*'mp4v'), fps_rate, size)\n",
    " \n",
    "for i in range(len(img_array)):\n",
    "    out.write(img_array[i])\n",
    "out.release()"
   ]
  },
  {
   "cell_type": "markdown",
   "metadata": {},
   "source": [
    "# Hello sign (one-handed)"
   ]
  },
  {
   "cell_type": "code",
   "execution_count": null,
   "metadata": {},
   "outputs": [],
   "source": [
    "from utils import visualization\n",
    "sx_plot_dict = {'marker':'s', 'markersize':7, 'color':'tab:green', 'alpha':1, 'linestyle':'dotted', 'label':'sx'}\n",
    "dx_plot_dict = {'marker':'s', 'markersize':7, 'color':'tab:red', 'alpha':1, 'linestyle':'dotted', 'label':'dx'}\n",
    "visualization.plot_frames(one_data, lim=.3, sign='hello', folder='hello_gif', sx_plot_dict=sx_plot_dict, dx_plot_dict=dx_plot_dict, plot_axis=True)\n",
    "\n",
    "import cv2\n",
    "import numpy as np\n",
    "import glob\n",
    "\n",
    "img_array = []\n",
    "imgs = []\n",
    "for filename in glob.glob('hello_gif/*.png'):\n",
    "    imgs.append(filename)\n",
    "for filename in sorted(imgs):\n",
    "    img = cv2.imread(filename)\n",
    "    height, width, layers = img.shape\n",
    "    size = (width,height)\n",
    "    img_array.append(img)\n",
    "\n",
    "\n",
    "out = cv2.VideoWriter('video/rpy_hello_mirror.mp4',cv2.VideoWriter_fourcc(*'mp4v'), 15, size)\n",
    " \n",
    "for i in range(len(img_array)):\n",
    "    out.write(img_array[i])\n",
    "out.release()"
   ]
  },
  {
   "cell_type": "markdown",
   "metadata": {},
   "source": [
    "# God sign (two-handed)"
   ]
  },
  {
   "cell_type": "code",
   "execution_count": null,
   "metadata": {},
   "outputs": [],
   "source": [
    "from utils import visualization\n",
    "sx_plot_dict = {'marker':'s', 'markersize':7, 'color':'tab:green', 'alpha':1, 'linestyle':'dotted', 'label':'sx'}\n",
    "dx_plot_dict = {'marker':'s', 'markersize':7, 'color':'tab:red', 'alpha':1, 'linestyle':'dotted', 'label':'dx'}\n",
    "visualization.plot_frames(two_data, lim=.3, sign='God', folder='god_gif', sx_plot_dict=sx_plot_dict, dx_plot_dict=dx_plot_dict, plot_axis=True)\n",
    "\n",
    "import cv2\n",
    "import numpy as np\n",
    "import glob\n",
    "\n",
    "img_array = []\n",
    "imgs = []\n",
    "for filename in glob.glob('god_gif/*.png'):\n",
    "    imgs.append(filename)\n",
    "for filename in sorted(imgs):\n",
    "    img = cv2.imread(filename)\n",
    "    height, width, layers = img.shape\n",
    "    size = (width,height)\n",
    "    img_array.append(img)\n",
    "\n",
    "\n",
    "out = cv2.VideoWriter('video/rpy_god_mirror.mp4',cv2.VideoWriter_fourcc(*'mp4v'), 15, size)\n",
    " \n",
    "for i in range(len(img_array)):\n",
    "    out.write(img_array[i])\n",
    "out.release()"
   ]
  },
  {
   "cell_type": "markdown",
   "metadata": {},
   "source": [
    "# Where sign (specular two-handed)"
   ]
  },
  {
   "cell_type": "code",
   "execution_count": null,
   "metadata": {},
   "outputs": [],
   "source": [
    "from utils import visualization\n",
    "sx_plot_dict = {'marker':'s', 'markersize':7, 'color':'tab:green', 'alpha':1, 'linestyle':'dotted', 'label':'sx'}\n",
    "dx_plot_dict = {'marker':'s', 'markersize':7, 'color':'tab:red', 'alpha':1, 'linestyle':'dotted', 'label':'dx'}\n",
    "visualization.plot_frames(spec_two_data, lim=.3, sign='where', folder='where_gif', sx_plot_dict=sx_plot_dict, dx_plot_dict=dx_plot_dict, plot_axis=True)\n",
    "\n",
    "import cv2\n",
    "import numpy as np\n",
    "import glob\n",
    "\n",
    "img_array = []\n",
    "imgs = []\n",
    "for filename in glob.glob('where_gif/*.png'):\n",
    "    imgs.append(filename)\n",
    "for filename in sorted(imgs):\n",
    "    img = cv2.imread(filename)\n",
    "    height, width, layers = img.shape\n",
    "    size = (width,height)\n",
    "    img_array.append(img)\n",
    "\n",
    "\n",
    "out = cv2.VideoWriter('video/rpy_where_mirror.mp4',cv2.VideoWriter_fourcc(*'mp4v'), 15, size)\n",
    " \n",
    "for i in range(len(img_array)):\n",
    "    out.write(img_array[i])\n",
    "out.release()"
   ]
  },
  {
   "cell_type": "code",
   "execution_count": null,
   "metadata": {},
   "outputs": [],
   "source": []
  }
 ],
 "metadata": {
  "kernelspec": {
   "display_name": "Python 3.9.13 ('data_science')",
   "language": "python",
   "name": "python3"
  },
  "language_info": {
   "codemirror_mode": {
    "name": "ipython",
    "version": 3
   },
   "file_extension": ".py",
   "mimetype": "text/x-python",
   "name": "python",
   "nbconvert_exporter": "python",
   "pygments_lexer": "ipython3",
   "version": "3.9.13"
  },
  "orig_nbformat": 4,
  "vscode": {
   "interpreter": {
    "hash": "391ddcc66a8b67209ee4ca14a5da0cf1073041a687facbd61882e6753a3822ab"
   }
  }
 },
 "nbformat": 4,
 "nbformat_minor": 2
}
