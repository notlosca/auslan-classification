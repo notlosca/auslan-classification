{
 "cells": [
  {
   "cell_type": "code",
   "execution_count": 2,
   "metadata": {},
   "outputs": [],
   "source": [
    "import pandas as pd\n",
    "import numpy as np\n",
    "import os\n",
    "import utils"
   ]
  },
  {
   "cell_type": "code",
   "execution_count": 3,
   "metadata": {},
   "outputs": [],
   "source": [
    "path = \"./tctodd/\"\n",
    "#path = \"../../Desktop/MML Project/tctodd/\"\n",
    "dirs = os.listdir(path=path)\n",
    "weeks = sorted([i for i in dirs if i != \".DS_Store\"])\n",
    "filenames = sorted(os.listdir(path+weeks[1]))\n",
    "\n",
    "data = []\n",
    "labels = dict()\n",
    "label_cnt = 0\n",
    "\n",
    "for w in weeks:\n",
    "    temp_path = path+w+\"/\"\n",
    "    filenames = sorted(os.listdir(temp_path))\n",
    "    for fn in filenames:\n",
    "        label = fn.split('.')[0][:-2]\n",
    "        \n",
    "        if label not in labels:\n",
    "            labels[label] = label_cnt\n",
    "            label_cnt += 1\n",
    "            \n",
    "        data.append({'label':labels[label], 'time_series':pd.read_csv(temp_path+fn, header=None, sep='\\t',).values})\n",
    "        "
   ]
  },
  {
   "cell_type": "code",
   "execution_count": 4,
   "metadata": {},
   "outputs": [],
   "source": [
    "df = pd.DataFrame(data, columns=['label', 'time_series'])\n",
    "seed = 0"
   ]
  },
  {
   "cell_type": "code",
   "execution_count": 5,
   "metadata": {},
   "outputs": [
    {
     "name": "stdout",
     "output_type": "stream",
     "text": [
      "Shape of new interpolated and stacked X is (2565,)\n"
     ]
    }
   ],
   "source": [
    "X = df['time_series']\n",
    "y = df['label']\n",
    "\n",
    "n_coords = 60\n",
    "X_interp = utils.interpolate_data(X, n_coords)\n",
    "X_interp_concatenated = utils.concatenate_examples(X_interp)\n",
    "\n",
    "print(f\"Shape of new interpolated and stacked X is {X_interp.shape}\")"
   ]
  },
  {
   "cell_type": "markdown",
   "metadata": {},
   "source": [
    "# TimeSeriesForest"
   ]
  },
  {
   "cell_type": "code",
   "execution_count": 56,
   "metadata": {},
   "outputs": [
    {
     "name": "stdout",
     "output_type": "stream",
     "text": [
      "Score of the plain TimeSeriesForestClassifier without cross-validation is 0.6264591439688716\n"
     ]
    }
   ],
   "source": [
    "from sktime.classification.interval_based import TimeSeriesForestClassifier\n",
    "from sklearn.model_selection import train_test_split\n",
    "from sklearn.metrics import accuracy_score\n",
    "\n",
    "X_train, X_test, y_train, y_test = train_test_split(X_interp_concatenated, y,\n",
    "                                                    stratify=y, \n",
    "                                                    test_size=0.1, random_state=seed)\n",
    "\n",
    "ts_forest = TimeSeriesForestClassifier(random_state=seed)\n",
    "\n",
    "ts_forest.fit(X_train, y_train)\n",
    "preds = ts_forest.predict(X_test)\n",
    "score = accuracy_score(y_test, preds)\n",
    "print(f\"Score of the plain TimeSeriesForestClassifier without cross-validation is {score}\")"
   ]
  },
  {
   "cell_type": "markdown",
   "metadata": {},
   "source": [
    "-------\n",
    "# 1-Nearest Neighbor + DTW"
   ]
  },
  {
   "cell_type": "code",
   "execution_count": 1,
   "metadata": {},
   "outputs": [
    {
     "ename": "NameError",
     "evalue": "name 'X' is not defined",
     "output_type": "error",
     "traceback": [
      "\u001b[0;31m---------------------------------------------------------------------------\u001b[0m",
      "\u001b[0;31mNameError\u001b[0m                                 Traceback (most recent call last)",
      "\u001b[1;32m/Users/lorenzo/Documents/Lorenzo/Università/Magistrale/I anno/01_Mathematics in ML/Project/auslan/auslan-classification/time_series_algorithms.ipynb Cell 8\u001b[0m in \u001b[0;36m<cell line: 5>\u001b[0;34m()\u001b[0m\n\u001b[1;32m      <a href='vscode-notebook-cell:/Users/lorenzo/Documents/Lorenzo/Universit%C3%A0/Magistrale/I%20anno/01_Mathematics%20in%20ML/Project/auslan/auslan-classification/time_series_algorithms.ipynb#X24sZmlsZQ%3D%3D?line=1'>2</a>\u001b[0m \u001b[39mimport\u001b[39;00m \u001b[39mtime\u001b[39;00m\n\u001b[1;32m      <a href='vscode-notebook-cell:/Users/lorenzo/Documents/Lorenzo/Universit%C3%A0/Magistrale/I%20anno/01_Mathematics%20in%20ML/Project/auslan/auslan-classification/time_series_algorithms.ipynb#X24sZmlsZQ%3D%3D?line=2'>3</a>\u001b[0m \u001b[39mimport\u001b[39;00m \u001b[39mos\u001b[39;00m\n\u001b[0;32m----> <a href='vscode-notebook-cell:/Users/lorenzo/Documents/Lorenzo/Universit%C3%A0/Magistrale/I%20anno/01_Mathematics%20in%20ML/Project/auslan/auslan-classification/time_series_algorithms.ipynb#X24sZmlsZQ%3D%3D?line=4'>5</a>\u001b[0m X\n",
      "\u001b[0;31mNameError\u001b[0m: name 'X' is not defined"
     ]
    }
   ],
   "source": [
    "from sktime.classification.distance_based import KNeighborsTimeSeriesClassifier\n",
    "import time\n",
    "import os\n",
    "\n",
    "X"
   ]
  },
  {
   "cell_type": "markdown",
   "metadata": {},
   "source": [
    "# NN-DTW with interpolated data"
   ]
  },
  {
   "cell_type": "code",
   "execution_count": 55,
   "metadata": {},
   "outputs": [
    {
     "name": "stdout",
     "output_type": "stream",
     "text": [
      "The new shape is (22, 60)\n",
      "Starting prediction\n",
      "Score of the plain 1-NeighborTimeSeriesClassifier without cross-validation is 0.8132295719844358\n"
     ]
    },
    {
     "data": {
      "text/plain": [
       "0"
      ]
     },
     "execution_count": 55,
     "metadata": {},
     "output_type": "execute_result"
    }
   ],
   "source": [
    "from sktime.classification.distance_based import KNeighborsTimeSeriesClassifier\n",
    "import time\n",
    "import os\n",
    "\n",
    "# to match KNeighborsTimeSeriesClassifier requirements, we need predictors x time instants\n",
    "X_interp_new = X_interp.apply(lambda x: x.T)\n",
    "print(\"The new shape is\", X_interp_new[0].shape)\n",
    "\n",
    "X_train, X_test, y_train, y_test = train_test_split(X_interp_new, y,\n",
    "                                                    stratify=y, \n",
    "                                                    test_size=0.1, random_state=seed)\n",
    "X_train_3d = np.stack([i for i in X_train])\n",
    "X_test_3d = np.stack([i for i in X_test])\n",
    "\n",
    "nn_dtw = KNeighborsTimeSeriesClassifier()\n",
    "\n",
    "\n",
    "t0_fit = time.time()\n",
    "nn_dtw.fit(X_train_3d, y_train)\n",
    "t1_fit = time.time() - t0_fit\n",
    "\n",
    "os.system(f'say \"Ci ha impiegato {t1_fit} secondi per fittare 1-NeighborTimeSeriesClassifier\"')\n",
    "\n",
    "print(\"Starting prediction\")\n",
    "t0_pred = time.time()\n",
    "preds = nn_dtw.predict(X_test_3d)\n",
    "t1_pred = time.time() - t0_pred\n",
    "score = accuracy_score(y_test, preds)\n",
    "os.system(f'say \"Ci ha impiegato {t1_pred} secondi per predire\"')\n",
    "\n",
    "print(f\"Score of the plain 1-NeighborTimeSeriesClassifier without cross-validation is {score}\")\n",
    "\n",
    "os.system(f'say \"Accuracy calcolata pari a {score}. Ci sono voluti {t1_fit + t1_pred} secondi per fittare e predire.\"')"
   ]
  },
  {
   "cell_type": "markdown",
   "metadata": {},
   "source": [
    "--------\n",
    "# Time Series SVC (to check)"
   ]
  },
  {
   "cell_type": "code",
   "execution_count": 29,
   "metadata": {},
   "outputs": [
    {
     "data": {
      "text/plain": [
       "(2565,)"
      ]
     },
     "execution_count": 29,
     "metadata": {},
     "output_type": "execute_result"
    }
   ],
   "source": [
    "from tslearn.svm import TimeSeriesSVC\n",
    "\n",
    "n_coords = 60\n",
    "X_interp = utils.interpolate_data(X, n_coords)\n",
    "X_interp.shape"
   ]
  },
  {
   "cell_type": "code",
   "execution_count": 40,
   "metadata": {},
   "outputs": [],
   "source": [
    "X_train, X_test, y_train, y_test = train_test_split(X_interp, y,\n",
    "                                                    stratify=y, \n",
    "                                                    test_size=0.1, random_state=seed)\n",
    "X_train_3d = np.stack([i for i in X_train])\n",
    "X_test_3d = np.stack([i for i in X_test])\n"
   ]
  },
  {
   "cell_type": "code",
   "execution_count": 43,
   "metadata": {},
   "outputs": [
    {
     "data": {
      "text/plain": [
       "((2308, 60, 22), (257, 60, 22))"
      ]
     },
     "execution_count": 43,
     "metadata": {},
     "output_type": "execute_result"
    }
   ],
   "source": [
    "X_train_3d.shape, X_test_3d.shape"
   ]
  },
  {
   "cell_type": "code",
   "execution_count": 41,
   "metadata": {},
   "outputs": [
    {
     "ename": "ValueError",
     "evalue": "Found input variables with inconsistent numbers of samples: [2308, 2565]",
     "output_type": "error",
     "traceback": [
      "\u001b[0;31m---------------------------------------------------------------------------\u001b[0m",
      "\u001b[0;31mValueError\u001b[0m                                Traceback (most recent call last)",
      "\u001b[1;32m/Users/lorenzo/Documents/Lorenzo/Università/Magistrale/I anno/01_Mathematics in ML/Project/auslan/auslan-classification/time_series_algorithms.ipynb Cell 12\u001b[0m in \u001b[0;36m<cell line: 2>\u001b[0;34m()\u001b[0m\n\u001b[1;32m      <a href='vscode-notebook-cell:/Users/lorenzo/Documents/Lorenzo/Universit%C3%A0/Magistrale/I%20anno/01_Mathematics%20in%20ML/Project/auslan/auslan-classification/time_series_algorithms.ipynb#X14sZmlsZQ%3D%3D?line=0'>1</a>\u001b[0m ts_svc \u001b[39m=\u001b[39m TimeSeriesSVC(random_state\u001b[39m=\u001b[39mseed)\n\u001b[0;32m----> <a href='vscode-notebook-cell:/Users/lorenzo/Documents/Lorenzo/Universit%C3%A0/Magistrale/I%20anno/01_Mathematics%20in%20ML/Project/auslan/auslan-classification/time_series_algorithms.ipynb#X14sZmlsZQ%3D%3D?line=1'>2</a>\u001b[0m ts_svc\u001b[39m.\u001b[39;49mfit(X_train_3d, y)\n\u001b[1;32m      <a href='vscode-notebook-cell:/Users/lorenzo/Documents/Lorenzo/Universit%C3%A0/Magistrale/I%20anno/01_Mathematics%20in%20ML/Project/auslan/auslan-classification/time_series_algorithms.ipynb#X14sZmlsZQ%3D%3D?line=3'>4</a>\u001b[0m preds \u001b[39m=\u001b[39m ts_svc\u001b[39m.\u001b[39mpredict(X_test_3d)\n\u001b[1;32m      <a href='vscode-notebook-cell:/Users/lorenzo/Documents/Lorenzo/Universit%C3%A0/Magistrale/I%20anno/01_Mathematics%20in%20ML/Project/auslan/auslan-classification/time_series_algorithms.ipynb#X14sZmlsZQ%3D%3D?line=5'>6</a>\u001b[0m score \u001b[39m=\u001b[39m accuracy_score(y_test, preds)\n",
      "File \u001b[0;32m~/ENTER/envs/data_science/lib/python3.9/site-packages/tslearn/svm/svm.py:276\u001b[0m, in \u001b[0;36mTimeSeriesSVC.fit\u001b[0;34m(self, X, y, sample_weight)\u001b[0m\n\u001b[1;32m    261\u001b[0m \u001b[39mdef\u001b[39;00m \u001b[39mfit\u001b[39m(\u001b[39mself\u001b[39m, X, y, sample_weight\u001b[39m=\u001b[39m\u001b[39mNone\u001b[39;00m):\n\u001b[1;32m    262\u001b[0m     \u001b[39m\"\"\"Fit the SVM model according to the given training data.\u001b[39;00m\n\u001b[1;32m    263\u001b[0m \n\u001b[1;32m    264\u001b[0m \u001b[39m    Parameters\u001b[39;00m\n\u001b[0;32m   (...)\u001b[0m\n\u001b[1;32m    274\u001b[0m \u001b[39m        classifier to put more emphasis on these points.\u001b[39;00m\n\u001b[1;32m    275\u001b[0m \u001b[39m    \"\"\"\u001b[39;00m\n\u001b[0;32m--> 276\u001b[0m     sklearn_X, y \u001b[39m=\u001b[39m \u001b[39mself\u001b[39;49m\u001b[39m.\u001b[39;49m_preprocess_sklearn(X, y, fit_time\u001b[39m=\u001b[39;49m\u001b[39mTrue\u001b[39;49;00m)\n\u001b[1;32m    278\u001b[0m     \u001b[39mself\u001b[39m\u001b[39m.\u001b[39msvm_estimator_ \u001b[39m=\u001b[39m SVC(\n\u001b[1;32m    279\u001b[0m         C\u001b[39m=\u001b[39m\u001b[39mself\u001b[39m\u001b[39m.\u001b[39mC, kernel\u001b[39m=\u001b[39m\u001b[39mself\u001b[39m\u001b[39m.\u001b[39mestimator_kernel_, degree\u001b[39m=\u001b[39m\u001b[39mself\u001b[39m\u001b[39m.\u001b[39mdegree,\n\u001b[1;32m    280\u001b[0m         gamma\u001b[39m=\u001b[39m\u001b[39mself\u001b[39m\u001b[39m.\u001b[39mgamma_, coef0\u001b[39m=\u001b[39m\u001b[39mself\u001b[39m\u001b[39m.\u001b[39mcoef0, shrinking\u001b[39m=\u001b[39m\u001b[39mself\u001b[39m\u001b[39m.\u001b[39mshrinking,\n\u001b[0;32m   (...)\u001b[0m\n\u001b[1;32m    285\u001b[0m         random_state\u001b[39m=\u001b[39m\u001b[39mself\u001b[39m\u001b[39m.\u001b[39mrandom_state\n\u001b[1;32m    286\u001b[0m     )\n\u001b[1;32m    287\u001b[0m     \u001b[39mself\u001b[39m\u001b[39m.\u001b[39msvm_estimator_\u001b[39m.\u001b[39mfit(sklearn_X, y, sample_weight\u001b[39m=\u001b[39msample_weight)\n",
      "File \u001b[0;32m~/ENTER/envs/data_science/lib/python3.9/site-packages/tslearn/svm/svm.py:24\u001b[0m, in \u001b[0;36mTimeSeriesSVMMixin._preprocess_sklearn\u001b[0;34m(self, X, y, fit_time)\u001b[0m\n\u001b[1;32m     21\u001b[0m     X \u001b[39m=\u001b[39m check_array(X, allow_nd\u001b[39m=\u001b[39m\u001b[39mTrue\u001b[39;00m,\n\u001b[1;32m     22\u001b[0m                     force_all_finite\u001b[39m=\u001b[39mforce_all_finite)\n\u001b[1;32m     23\u001b[0m \u001b[39melse\u001b[39;00m:\n\u001b[0;32m---> 24\u001b[0m     X, y \u001b[39m=\u001b[39m check_X_y(X, y, allow_nd\u001b[39m=\u001b[39;49m\u001b[39mTrue\u001b[39;49;00m,\n\u001b[1;32m     25\u001b[0m                      force_all_finite\u001b[39m=\u001b[39;49mforce_all_finite)\n\u001b[1;32m     26\u001b[0m X \u001b[39m=\u001b[39m to_time_series_dataset(X)\n\u001b[1;32m     28\u001b[0m \u001b[39mif\u001b[39;00m fit_time:\n",
      "File \u001b[0;32m~/ENTER/envs/data_science/lib/python3.9/site-packages/sklearn/utils/validation.py:1092\u001b[0m, in \u001b[0;36mcheck_X_y\u001b[0;34m(X, y, accept_sparse, accept_large_sparse, dtype, order, copy, force_all_finite, ensure_2d, allow_nd, multi_output, ensure_min_samples, ensure_min_features, y_numeric, estimator)\u001b[0m\n\u001b[1;32m   1074\u001b[0m X \u001b[39m=\u001b[39m check_array(\n\u001b[1;32m   1075\u001b[0m     X,\n\u001b[1;32m   1076\u001b[0m     accept_sparse\u001b[39m=\u001b[39maccept_sparse,\n\u001b[0;32m   (...)\u001b[0m\n\u001b[1;32m   1087\u001b[0m     input_name\u001b[39m=\u001b[39m\u001b[39m\"\u001b[39m\u001b[39mX\u001b[39m\u001b[39m\"\u001b[39m,\n\u001b[1;32m   1088\u001b[0m )\n\u001b[1;32m   1090\u001b[0m y \u001b[39m=\u001b[39m _check_y(y, multi_output\u001b[39m=\u001b[39mmulti_output, y_numeric\u001b[39m=\u001b[39my_numeric, estimator\u001b[39m=\u001b[39mestimator)\n\u001b[0;32m-> 1092\u001b[0m check_consistent_length(X, y)\n\u001b[1;32m   1094\u001b[0m \u001b[39mreturn\u001b[39;00m X, y\n",
      "File \u001b[0;32m~/ENTER/envs/data_science/lib/python3.9/site-packages/sklearn/utils/validation.py:387\u001b[0m, in \u001b[0;36mcheck_consistent_length\u001b[0;34m(*arrays)\u001b[0m\n\u001b[1;32m    385\u001b[0m uniques \u001b[39m=\u001b[39m np\u001b[39m.\u001b[39munique(lengths)\n\u001b[1;32m    386\u001b[0m \u001b[39mif\u001b[39;00m \u001b[39mlen\u001b[39m(uniques) \u001b[39m>\u001b[39m \u001b[39m1\u001b[39m:\n\u001b[0;32m--> 387\u001b[0m     \u001b[39mraise\u001b[39;00m \u001b[39mValueError\u001b[39;00m(\n\u001b[1;32m    388\u001b[0m         \u001b[39m\"\u001b[39m\u001b[39mFound input variables with inconsistent numbers of samples: \u001b[39m\u001b[39m%r\u001b[39;00m\u001b[39m\"\u001b[39m\n\u001b[1;32m    389\u001b[0m         \u001b[39m%\u001b[39m [\u001b[39mint\u001b[39m(l) \u001b[39mfor\u001b[39;00m l \u001b[39min\u001b[39;00m lengths]\n\u001b[1;32m    390\u001b[0m     )\n",
      "\u001b[0;31mValueError\u001b[0m: Found input variables with inconsistent numbers of samples: [2308, 2565]"
     ]
    }
   ],
   "source": [
    "ts_svc = TimeSeriesSVC(random_state=seed)\n",
    "ts_svc.fit(X_train_3d, y)\n",
    "\n",
    "preds = ts_svc.predict(X_test_3d)\n",
    "\n",
    "score = accuracy_score(y_test, preds)\n",
    "\n",
    "print(score)"
   ]
  },
  {
   "cell_type": "code",
   "execution_count": 44,
   "metadata": {},
   "outputs": [],
   "source": [
    "from tslearn.generators import random_walk_blobs\n",
    "X, y = random_walk_blobs(n_ts_per_blob=10, sz=64, d=2, n_blobs=2)"
   ]
  },
  {
   "cell_type": "code",
   "execution_count": 45,
   "metadata": {},
   "outputs": [
    {
     "data": {
      "text/plain": [
       "(20, 64, 2)"
      ]
     },
     "execution_count": 45,
     "metadata": {},
     "output_type": "execute_result"
    }
   ],
   "source": [
    "X.shape"
   ]
  },
  {
   "cell_type": "code",
   "execution_count": 46,
   "metadata": {},
   "outputs": [
    {
     "data": {
      "text/plain": [
       "array([[[ -1.24371017,   2.8175088 ],\n",
       "        [ -0.3578046 ,  -2.20753332],\n",
       "        [  1.41337159,  -0.73974462],\n",
       "        ...,\n",
       "        [ -3.36882881, -21.20823503],\n",
       "        [ -3.29372155, -20.21661323],\n",
       "        [ -4.81592338, -20.36023248]],\n",
       "\n",
       "       [[ -0.2575385 ,  -0.62689972],\n",
       "        [  0.77218854,   0.73222972],\n",
       "        [ -0.24277063,   1.78714711],\n",
       "        ...,\n",
       "        [ -1.79575173, -19.73295393],\n",
       "        [ -4.36792466, -21.28876755],\n",
       "        [ -3.45534101, -21.96970223]],\n",
       "\n",
       "       [[  0.98962533,   0.09721761],\n",
       "        [ -0.95298098,  -1.07086234],\n",
       "        [  1.54133056,   0.47432605],\n",
       "        ...,\n",
       "        [ -2.67400058, -18.7400684 ],\n",
       "        [ -2.36978663, -21.46818139],\n",
       "        [ -4.88710341, -21.71974484]],\n",
       "\n",
       "       ...,\n",
       "\n",
       "       [[  2.32789245,  -2.00302668],\n",
       "        [  1.10170244,  -1.58934998],\n",
       "        [  2.49968093,  -0.21379147],\n",
       "        ...,\n",
       "        [  0.41458057,   2.58617679],\n",
       "        [  1.19690119,   3.31199788],\n",
       "        [ -0.56349961,   3.29777117]],\n",
       "\n",
       "       [[  1.51178112,  -0.83555029],\n",
       "        [  2.8940374 ,  -1.63081569],\n",
       "        [  3.52817887,  -0.36858089],\n",
       "        ...,\n",
       "        [ -1.53842201,   4.22037011],\n",
       "        [  0.45056812,   3.49704125],\n",
       "        [ -0.29243548,   4.1342383 ]],\n",
       "\n",
       "       [[  1.53957549,  -2.51153016],\n",
       "        [  1.62021153,  -0.95933161],\n",
       "        [  3.84333644,  -0.04153517],\n",
       "        ...,\n",
       "        [  0.73526106,   3.83595275],\n",
       "        [  1.84360833,   2.58522654],\n",
       "        [ -0.29083059,   3.19725958]]])"
      ]
     },
     "execution_count": 46,
     "metadata": {},
     "output_type": "execute_result"
    }
   ],
   "source": [
    "X"
   ]
  },
  {
   "cell_type": "code",
   "execution_count": null,
   "metadata": {},
   "outputs": [],
   "source": []
  }
 ],
 "metadata": {
  "kernelspec": {
   "display_name": "Python 3.9.13 ('data_science')",
   "language": "python",
   "name": "python3"
  },
  "language_info": {
   "codemirror_mode": {
    "name": "ipython",
    "version": 3
   },
   "file_extension": ".py",
   "mimetype": "text/x-python",
   "name": "python",
   "nbconvert_exporter": "python",
   "pygments_lexer": "ipython3",
   "version": "3.9.13"
  },
  "orig_nbformat": 4,
  "vscode": {
   "interpreter": {
    "hash": "391ddcc66a8b67209ee4ca14a5da0cf1073041a687facbd61882e6753a3822ab"
   }
  }
 },
 "nbformat": 4,
 "nbformat_minor": 2
}
