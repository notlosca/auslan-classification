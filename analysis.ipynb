{
 "cells": [
  {
   "cell_type": "markdown",
   "metadata": {},
   "source": [
    "# Dataset analysis"
   ]
  },
  {
   "cell_type": "code",
   "execution_count": 1,
   "metadata": {},
   "outputs": [],
   "source": [
    "import pandas as pd\n",
    "import numpy as np\n",
    "import seaborn as sns\n",
    "import os\n",
    "import utils"
   ]
  },
  {
   "cell_type": "code",
   "execution_count": 45,
   "metadata": {},
   "outputs": [],
   "source": [
    "features = [\n",
    "    'sx_x',\n",
    "    'sx_y',\n",
    "    'sx_z',\n",
    "    'sx_roll',\n",
    "    'sx_pitch',\n",
    "    'sx_yaw',\n",
    "    'sx_thumb',\n",
    "    'sx_forefinger',\n",
    "    'sx_middle_finger',\n",
    "    'sx_ring_finger',\n",
    "    'sx_little_finger',\n",
    "    'dx_x',\n",
    "    'dx_y',\n",
    "    'dx_z',\n",
    "    'dx_roll',\n",
    "    'dx_pitch',\n",
    "    'dx_yaw',\n",
    "    'dx_thumb',\n",
    "    'dx_forefinger',\n",
    "    'dx_middle_finger',\n",
    "    'dx_ring_finger',\n",
    "    'dx_little_finger'\n",
    "    ]"
   ]
  },
  {
   "cell_type": "code",
   "execution_count": 46,
   "metadata": {},
   "outputs": [
    {
     "name": "stdout",
     "output_type": "stream",
     "text": [
      "thank-1.tsd\n",
      "Average duration of each time-series for week 1: 54.463157894736845\n"
     ]
    },
    {
     "data": {
      "text/html": [
       "<div>\n",
       "<style scoped>\n",
       "    .dataframe tbody tr th:only-of-type {\n",
       "        vertical-align: middle;\n",
       "    }\n",
       "\n",
       "    .dataframe tbody tr th {\n",
       "        vertical-align: top;\n",
       "    }\n",
       "\n",
       "    .dataframe thead th {\n",
       "        text-align: right;\n",
       "    }\n",
       "</style>\n",
       "<table border=\"1\" class=\"dataframe\">\n",
       "  <thead>\n",
       "    <tr style=\"text-align: right;\">\n",
       "      <th></th>\n",
       "      <th>dx_x</th>\n",
       "      <th>sx_x</th>\n",
       "    </tr>\n",
       "  </thead>\n",
       "  <tbody>\n",
       "    <tr>\n",
       "      <th>0</th>\n",
       "      <td>-0.065836</td>\n",
       "      <td>-0.045284</td>\n",
       "    </tr>\n",
       "    <tr>\n",
       "      <th>1</th>\n",
       "      <td>-0.083517</td>\n",
       "      <td>-0.042292</td>\n",
       "    </tr>\n",
       "    <tr>\n",
       "      <th>2</th>\n",
       "      <td>-0.083874</td>\n",
       "      <td>-0.041399</td>\n",
       "    </tr>\n",
       "    <tr>\n",
       "      <th>3</th>\n",
       "      <td>-0.092269</td>\n",
       "      <td>-0.041801</td>\n",
       "    </tr>\n",
       "    <tr>\n",
       "      <th>4</th>\n",
       "      <td>-0.108700</td>\n",
       "      <td>-0.040997</td>\n",
       "    </tr>\n",
       "    <tr>\n",
       "      <th>5</th>\n",
       "      <td>-0.070613</td>\n",
       "      <td>-0.039211</td>\n",
       "    </tr>\n",
       "    <tr>\n",
       "      <th>6</th>\n",
       "      <td>-0.062755</td>\n",
       "      <td>-0.039970</td>\n",
       "    </tr>\n",
       "    <tr>\n",
       "      <th>7</th>\n",
       "      <td>-0.073114</td>\n",
       "      <td>-0.040640</td>\n",
       "    </tr>\n",
       "    <tr>\n",
       "      <th>8</th>\n",
       "      <td>-0.072310</td>\n",
       "      <td>-0.039256</td>\n",
       "    </tr>\n",
       "    <tr>\n",
       "      <th>9</th>\n",
       "      <td>-0.072533</td>\n",
       "      <td>-0.038943</td>\n",
       "    </tr>\n",
       "    <tr>\n",
       "      <th>10</th>\n",
       "      <td>-0.056370</td>\n",
       "      <td>-0.039970</td>\n",
       "    </tr>\n",
       "  </tbody>\n",
       "</table>\n",
       "</div>"
      ],
      "text/plain": [
       "        dx_x      sx_x\n",
       "0  -0.065836 -0.045284\n",
       "1  -0.083517 -0.042292\n",
       "2  -0.083874 -0.041399\n",
       "3  -0.092269 -0.041801\n",
       "4  -0.108700 -0.040997\n",
       "5  -0.070613 -0.039211\n",
       "6  -0.062755 -0.039970\n",
       "7  -0.073114 -0.040640\n",
       "8  -0.072310 -0.039256\n",
       "9  -0.072533 -0.038943\n",
       "10 -0.056370 -0.039970"
      ]
     },
     "execution_count": 46,
     "metadata": {},
     "output_type": "execute_result"
    }
   ],
   "source": [
    "path = \"tctodd/\"\n",
    "dirs = os.listdir(path=path)\n",
    "weeks = sorted([i for i in dirs if i != \".DS_Store\"])\n",
    "filenames = sorted(os.listdir(path+weeks[1]))\n",
    "print(\"thank-1.tsd\")\n",
    "s = 0\n",
    "for filename in filenames:\n",
    "    s += len(pd.read_csv(path+weeks[1]+\"/\"+filename, names=features, sep='\\t',))\n",
    "print(\"Average duration of each time-series for week 1:\",s/len(filenames))\n",
    "df = pd.read_csv(path+weeks[1]+\"/\"+\"thank-1.tsd\", names=features, sep='\\t',)\n",
    "df.head(11)[['dx_x', 'sx_x']]"
   ]
  },
  {
   "cell_type": "code",
   "execution_count": 47,
   "metadata": {},
   "outputs": [
    {
     "name": "stdout",
     "output_type": "stream",
     "text": [
      "sx_x:,\t-0.045, \t-0.040, \t-0.039\n",
      "sx_y:,\t-0.080, \t-0.078, \t-0.076\n",
      "sx_z:,\t-0.072, \t-0.070, \t-0.068\n",
      "sx_roll:,\t0.475, \t0.478, \t0.481\n",
      "sx_pitch:,\t0.346, \t0.348, \t0.350\n",
      "sx_yaw:,\t0.557, \t0.559, \t0.560\n",
      "sx_thumb:,\t0.000, \t0.167, \t0.241\n",
      "sx_forefinger:,\t0.000, \t0.000, \t0.000\n",
      "sx_middle_finger:,\t0.000, \t0.000, \t0.000\n",
      "sx_ring_finger:,\t0.000, \t0.000, \t0.000\n",
      "sx_little_finger:,\t0.052, \t0.052, \t0.057\n",
      "dx_x:,\t-0.109, \t0.011, \t0.065\n",
      "dx_y:,\t-0.079, \t-0.003, \t0.270\n",
      "dx_z:,\t-0.081, \t-0.046, \t0.127\n",
      "dx_roll:,\t0.063, \t0.346, \t0.456\n",
      "dx_pitch:,\t0.356, \t0.472, \t0.834\n",
      "dx_yaw:,\t0.476, \t0.530, \t0.770\n",
      "dx_thumb:,\t0.000, \t0.069, \t0.141\n",
      "dx_forefinger:,\t0.000, \t0.000, \t0.000\n",
      "dx_middle_finger:,\t0.000, \t0.002, \t0.032\n",
      "dx_ring_finger:,\t0.000, \t0.000, \t0.000\n",
      "dx_little_finger:,\t0.000, \t0.033, \t0.088\n"
     ]
    }
   ],
   "source": [
    "for i in df.columns:\n",
    "    print(f\"{i}:,\\t{np.min(df[i]):.3f}, \\t{np.mean(df[i]):.3f}, \\t{np.max(df[i]):.3f}\")\n",
    "    #print(f\"{i}:,\\t{np.mean(df[i]):.3f}, \\t{np.std(df[i]):.3f}\")"
   ]
  },
  {
   "cell_type": "code",
   "execution_count": 48,
   "metadata": {},
   "outputs": [
    {
     "data": {
      "text/plain": [
       "['tctodd1',\n",
       " 'tctodd2',\n",
       " 'tctodd3',\n",
       " 'tctodd4',\n",
       " 'tctodd5',\n",
       " 'tctodd6',\n",
       " 'tctodd7',\n",
       " 'tctodd8',\n",
       " 'tctodd9']"
      ]
     },
     "execution_count": 48,
     "metadata": {},
     "output_type": "execute_result"
    }
   ],
   "source": [
    "weeks"
   ]
  },
  {
   "cell_type": "code",
   "execution_count": 54,
   "metadata": {},
   "outputs": [
    {
     "data": {
      "text/html": [
       "<div>\n",
       "<style scoped>\n",
       "    .dataframe tbody tr th:only-of-type {\n",
       "        vertical-align: middle;\n",
       "    }\n",
       "\n",
       "    .dataframe tbody tr th {\n",
       "        vertical-align: top;\n",
       "    }\n",
       "\n",
       "    .dataframe thead th {\n",
       "        text-align: right;\n",
       "    }\n",
       "</style>\n",
       "<table border=\"1\" class=\"dataframe\">\n",
       "  <thead>\n",
       "    <tr style=\"text-align: right;\">\n",
       "      <th></th>\n",
       "      <th>sx_x</th>\n",
       "      <th>dx_x</th>\n",
       "      <th>sx_y</th>\n",
       "      <th>dx_y</th>\n",
       "      <th>sx_z</th>\n",
       "      <th>dx_z</th>\n",
       "    </tr>\n",
       "  </thead>\n",
       "  <tbody>\n",
       "    <tr>\n",
       "      <th>30</th>\n",
       "      <td>0.348067</td>\n",
       "      <td>0.446654</td>\n",
       "      <td>0.558666</td>\n",
       "      <td>0.360518</td>\n",
       "      <td>0.161137</td>\n",
       "      <td>0.480483</td>\n",
       "    </tr>\n",
       "    <tr>\n",
       "      <th>31</th>\n",
       "      <td>0.349239</td>\n",
       "      <td>0.446190</td>\n",
       "      <td>0.558812</td>\n",
       "      <td>0.360958</td>\n",
       "      <td>0.161137</td>\n",
       "      <td>0.480996</td>\n",
       "    </tr>\n",
       "    <tr>\n",
       "      <th>32</th>\n",
       "      <td>0.349092</td>\n",
       "      <td>0.445860</td>\n",
       "      <td>0.558324</td>\n",
       "      <td>0.361446</td>\n",
       "      <td>0.161137</td>\n",
       "      <td>0.480947</td>\n",
       "    </tr>\n",
       "    <tr>\n",
       "      <th>33</th>\n",
       "      <td>0.348897</td>\n",
       "      <td>0.445238</td>\n",
       "      <td>0.558153</td>\n",
       "      <td>0.361519</td>\n",
       "      <td>0.161137</td>\n",
       "      <td>0.481118</td>\n",
       "    </tr>\n",
       "    <tr>\n",
       "      <th>34</th>\n",
       "      <td>0.349068</td>\n",
       "      <td>0.444688</td>\n",
       "      <td>0.558568</td>\n",
       "      <td>0.361055</td>\n",
       "      <td>0.161137</td>\n",
       "      <td>0.481607</td>\n",
       "    </tr>\n",
       "    <tr>\n",
       "      <th>35</th>\n",
       "      <td>0.349361</td>\n",
       "      <td>0.444224</td>\n",
       "      <td>0.558702</td>\n",
       "      <td>0.360933</td>\n",
       "      <td>0.161137</td>\n",
       "      <td>0.482156</td>\n",
       "    </tr>\n",
       "    <tr>\n",
       "      <th>36</th>\n",
       "      <td>0.348775</td>\n",
       "      <td>0.444017</td>\n",
       "      <td>0.558409</td>\n",
       "      <td>0.360518</td>\n",
       "      <td>0.161137</td>\n",
       "      <td>0.482168</td>\n",
       "    </tr>\n",
       "    <tr>\n",
       "      <th>37</th>\n",
       "      <td>0.347993</td>\n",
       "      <td>0.443822</td>\n",
       "      <td>0.558678</td>\n",
       "      <td>0.359102</td>\n",
       "      <td>0.161137</td>\n",
       "      <td>0.482144</td>\n",
       "    </tr>\n",
       "    <tr>\n",
       "      <th>38</th>\n",
       "      <td>0.348091</td>\n",
       "      <td>0.443443</td>\n",
       "      <td>0.559069</td>\n",
       "      <td>0.358223</td>\n",
       "      <td>0.161137</td>\n",
       "      <td>0.482778</td>\n",
       "    </tr>\n",
       "    <tr>\n",
       "      <th>39</th>\n",
       "      <td>0.348457</td>\n",
       "      <td>0.443016</td>\n",
       "      <td>0.559142</td>\n",
       "      <td>0.357613</td>\n",
       "      <td>0.161137</td>\n",
       "      <td>0.483364</td>\n",
       "    </tr>\n",
       "    <tr>\n",
       "      <th>40</th>\n",
       "      <td>0.347945</td>\n",
       "      <td>0.442833</td>\n",
       "      <td>0.558763</td>\n",
       "      <td>0.356856</td>\n",
       "      <td>0.166870</td>\n",
       "      <td>0.483193</td>\n",
       "    </tr>\n",
       "    <tr>\n",
       "      <th>41</th>\n",
       "      <td>0.347530</td>\n",
       "      <td>0.442698</td>\n",
       "      <td>0.558776</td>\n",
       "      <td>0.356221</td>\n",
       "      <td>0.172603</td>\n",
       "      <td>0.483413</td>\n",
       "    </tr>\n",
       "    <tr>\n",
       "      <th>42</th>\n",
       "      <td>0.348604</td>\n",
       "      <td>0.442247</td>\n",
       "      <td>0.559130</td>\n",
       "      <td>0.356246</td>\n",
       "      <td>0.169163</td>\n",
       "      <td>0.484365</td>\n",
       "    </tr>\n",
       "    <tr>\n",
       "      <th>43</th>\n",
       "      <td>0.348433</td>\n",
       "      <td>0.441795</td>\n",
       "      <td>0.558690</td>\n",
       "      <td>0.356465</td>\n",
       "      <td>0.123298</td>\n",
       "      <td>0.484304</td>\n",
       "    </tr>\n",
       "    <tr>\n",
       "      <th>44</th>\n",
       "      <td>0.348140</td>\n",
       "      <td>0.441526</td>\n",
       "      <td>0.558446</td>\n",
       "      <td>0.356587</td>\n",
       "      <td>0.040740</td>\n",
       "      <td>0.484280</td>\n",
       "    </tr>\n",
       "    <tr>\n",
       "      <th>45</th>\n",
       "      <td>0.349068</td>\n",
       "      <td>0.440892</td>\n",
       "      <td>0.558690</td>\n",
       "      <td>0.356441</td>\n",
       "      <td>0.001390</td>\n",
       "      <td>0.484768</td>\n",
       "    </tr>\n",
       "  </tbody>\n",
       "</table>\n",
       "</div>"
      ],
      "text/plain": [
       "        sx_x      dx_x      sx_y      dx_y      sx_z      dx_z\n",
       "30  0.348067  0.446654  0.558666  0.360518  0.161137  0.480483\n",
       "31  0.349239  0.446190  0.558812  0.360958  0.161137  0.480996\n",
       "32  0.349092  0.445860  0.558324  0.361446  0.161137  0.480947\n",
       "33  0.348897  0.445238  0.558153  0.361519  0.161137  0.481118\n",
       "34  0.349068  0.444688  0.558568  0.361055  0.161137  0.481607\n",
       "35  0.349361  0.444224  0.558702  0.360933  0.161137  0.482156\n",
       "36  0.348775  0.444017  0.558409  0.360518  0.161137  0.482168\n",
       "37  0.347993  0.443822  0.558678  0.359102  0.161137  0.482144\n",
       "38  0.348091  0.443443  0.559069  0.358223  0.161137  0.482778\n",
       "39  0.348457  0.443016  0.559142  0.357613  0.161137  0.483364\n",
       "40  0.347945  0.442833  0.558763  0.356856  0.166870  0.483193\n",
       "41  0.347530  0.442698  0.558776  0.356221  0.172603  0.483413\n",
       "42  0.348604  0.442247  0.559130  0.356246  0.169163  0.484365\n",
       "43  0.348433  0.441795  0.558690  0.356465  0.123298  0.484304\n",
       "44  0.348140  0.441526  0.558446  0.356587  0.040740  0.484280\n",
       "45  0.349068  0.440892  0.558690  0.356441  0.001390  0.484768"
      ]
     },
     "execution_count": 54,
     "metadata": {},
     "output_type": "execute_result"
    }
   ],
   "source": [
    "features_1 = [\n",
    "    'sx_roll',\n",
    "    'sx_pitch',\n",
    "    'sx_yaw',\n",
    "    'sx_thumb',\n",
    "    'sx_x',\n",
    "    'sx_y',\n",
    "    'sx_z',\n",
    "    'sx_forefinger',\n",
    "    'sx_middle_finger',\n",
    "    'sx_ring_finger',\n",
    "    'sx_little_finger',\n",
    "    'dx_roll',\n",
    "    'dx_pitch',\n",
    "    'dx_yaw',\n",
    "    'dx_x',\n",
    "    'dx_y',\n",
    "    'dx_z',\n",
    "    'dx_thumb',\n",
    "    'dx_forefinger',\n",
    "    'dx_middle_finger',\n",
    "    'dx_ring_finger',\n",
    "    'dx_little_finger'\n",
    "    ]\n",
    "\n",
    "df_inv = pd.read_csv(path+weeks[1]+\"/\"+\"thank-1.tsd\", names=features_1, sep='\\t',)\n",
    "df_inv.iloc[30:46][['sx_x', 'dx_x', 'sx_y', 'dx_y', 'sx_z', 'dx_z']]"
   ]
  },
  {
   "cell_type": "code",
   "execution_count": 50,
   "metadata": {},
   "outputs": [
    {
     "name": "stdout",
     "output_type": "stream",
     "text": [
      "sx_roll:,\t-0.040, \t0.001\n",
      "sx_pitch:,\t-0.078, \t0.001\n",
      "sx_yaw:,\t-0.070, \t0.001\n",
      "sx_thumb:,\t0.478, \t0.001\n",
      "sx_x:,\t0.348, \t0.001\n",
      "sx_y:,\t0.559, \t0.000\n",
      "sx_z:,\t0.167, \t0.075\n",
      "sx_forefinger:,\t0.000, \t0.000\n",
      "sx_middle_finger:,\t0.000, \t0.000\n",
      "sx_ring_finger:,\t0.000, \t0.000\n",
      "sx_little_finger:,\t0.052, \t0.001\n",
      "dx_roll:,\t0.011, \t0.053\n",
      "dx_pitch:,\t-0.003, \t0.104\n",
      "dx_yaw:,\t-0.046, \t0.043\n",
      "dx_x:,\t0.346, \t0.153\n",
      "dx_y:,\t0.472, \t0.163\n",
      "dx_z:,\t0.530, \t0.078\n",
      "dx_thumb:,\t0.069, \t0.061\n",
      "dx_forefinger:,\t0.000, \t0.000\n",
      "dx_middle_finger:,\t0.002, \t0.007\n",
      "dx_ring_finger:,\t0.000, \t0.000\n",
      "dx_little_finger:,\t0.033, \t0.028\n"
     ]
    }
   ],
   "source": [
    "for i in df_inv.columns:\n",
    "    #print(f\"{i}:,\\t{np.min(df_inv[i]):.3f}, \\t{np.max(df_inv[i]):.3f}\")\n",
    "    print(f\"{i}:,\\t{np.mean(df_inv[i]):.3f}, \\t{np.std(df_inv[i]):.3f}\")"
   ]
  },
  {
   "cell_type": "code",
   "execution_count": 80,
   "metadata": {},
   "outputs": [],
   "source": [
    "path = \"tctodd/\"\n",
    "dirs = os.listdir(path=path)\n",
    "weeks = sorted([i for i in dirs if i != \".DS_Store\"])\n",
    "filenames = sorted(os.listdir(path+weeks[1]))\n",
    "\n",
    "data = []\n",
    "labels = dict()\n",
    "label_cnt = 0\n",
    "\n",
    "for w in weeks:\n",
    "    temp_path = path+w+\"/\"\n",
    "    filenames = sorted(os.listdir(temp_path))\n",
    "    for fn in filenames:\n",
    "        label = fn.split('.')[0][:-2]\n",
    "        \n",
    "        if label not in labels:\n",
    "            labels[label] = label_cnt\n",
    "            label_cnt += 1\n",
    "            \n",
    "        data.append({'label':labels[label], 'time_series':pd.read_csv(temp_path+fn, header=None, sep='\\t',).values})\n",
    "        "
   ]
  },
  {
   "cell_type": "markdown",
   "metadata": {},
   "source": [
    "Had to change her label in tctodd1 in his_hers. Otherwise 96 labels instead of 95.\n",
    "vedere se le varie label di his_hers sono statisticamente simili (che vuol dire statisticamente? boh guardiamo media e dev. std)"
   ]
  },
  {
   "cell_type": "code",
   "execution_count": 85,
   "metadata": {},
   "outputs": [
    {
     "data": {
      "text/html": [
       "<div>\n",
       "<style scoped>\n",
       "    .dataframe tbody tr th:only-of-type {\n",
       "        vertical-align: middle;\n",
       "    }\n",
       "\n",
       "    .dataframe tbody tr th {\n",
       "        vertical-align: top;\n",
       "    }\n",
       "\n",
       "    .dataframe thead th {\n",
       "        text-align: right;\n",
       "    }\n",
       "</style>\n",
       "<table border=\"1\" class=\"dataframe\">\n",
       "  <thead>\n",
       "    <tr style=\"text-align: right;\">\n",
       "      <th></th>\n",
       "      <th>label</th>\n",
       "      <th>time_series</th>\n",
       "    </tr>\n",
       "  </thead>\n",
       "  <tbody>\n",
       "    <tr>\n",
       "      <th>0</th>\n",
       "      <td>0</td>\n",
       "      <td>[[-0.064909, 0.034318, -0.043964, 0.626383, 0....</td>\n",
       "    </tr>\n",
       "    <tr>\n",
       "      <th>1</th>\n",
       "      <td>0</td>\n",
       "      <td>[[-0.107059, -0.126109, -0.053742, 0.612516, 0...</td>\n",
       "    </tr>\n",
       "    <tr>\n",
       "      <th>2</th>\n",
       "      <td>0</td>\n",
       "      <td>[[-0.061427, -0.082576, -0.102991, 0.735469, 0...</td>\n",
       "    </tr>\n",
       "    <tr>\n",
       "      <th>3</th>\n",
       "      <td>1</td>\n",
       "      <td>[[-0.128178, 0.02695, -0.050126, 0.455028, 0.4...</td>\n",
       "    </tr>\n",
       "    <tr>\n",
       "      <th>4</th>\n",
       "      <td>1</td>\n",
       "      <td>[[-0.143672, -0.144416, -0.047447, 0.660979, 0...</td>\n",
       "    </tr>\n",
       "  </tbody>\n",
       "</table>\n",
       "</div>"
      ],
      "text/plain": [
       "   label                                        time_series\n",
       "0      0  [[-0.064909, 0.034318, -0.043964, 0.626383, 0....\n",
       "1      0  [[-0.107059, -0.126109, -0.053742, 0.612516, 0...\n",
       "2      0  [[-0.061427, -0.082576, -0.102991, 0.735469, 0...\n",
       "3      1  [[-0.128178, 0.02695, -0.050126, 0.455028, 0.4...\n",
       "4      1  [[-0.143672, -0.144416, -0.047447, 0.660979, 0..."
      ]
     },
     "execution_count": 85,
     "metadata": {},
     "output_type": "execute_result"
    }
   ],
   "source": [
    "df = pd.DataFrame(data, columns=['label', 'time_series'])\n",
    "df['label'].value_counts()\n",
    "df.head()"
   ]
  },
  {
   "cell_type": "markdown",
   "metadata": {},
   "source": [
    "-------------"
   ]
  },
  {
   "cell_type": "code",
   "execution_count": null,
   "metadata": {},
   "outputs": [],
   "source": []
  },
  {
   "cell_type": "code",
   "execution_count": null,
   "metadata": {},
   "outputs": [],
   "source": []
  },
  {
   "cell_type": "code",
   "execution_count": 2,
   "metadata": {},
   "outputs": [
    {
     "data": {
      "text/html": [
       "<div>\n",
       "<style scoped>\n",
       "    .dataframe tbody tr th:only-of-type {\n",
       "        vertical-align: middle;\n",
       "    }\n",
       "\n",
       "    .dataframe tbody tr th {\n",
       "        vertical-align: top;\n",
       "    }\n",
       "\n",
       "    .dataframe thead th {\n",
       "        text-align: right;\n",
       "    }\n",
       "</style>\n",
       "<table border=\"1\" class=\"dataframe\">\n",
       "  <thead>\n",
       "    <tr style=\"text-align: right;\">\n",
       "      <th></th>\n",
       "      <th>label</th>\n",
       "      <th>time_series</th>\n",
       "    </tr>\n",
       "  </thead>\n",
       "  <tbody>\n",
       "    <tr>\n",
       "      <th>0</th>\n",
       "      <td>6</td>\n",
       "      <td>[{'BallAcceleration': 1636.7987723122642, 'Dis...</td>\n",
       "    </tr>\n",
       "    <tr>\n",
       "      <th>1</th>\n",
       "      <td>-1</td>\n",
       "      <td>[{'BallAcceleration': 0.0, 'DistanceWall': 39....</td>\n",
       "    </tr>\n",
       "    <tr>\n",
       "      <th>2</th>\n",
       "      <td>-1</td>\n",
       "      <td>[{'BallAcceleration': 124246.29375405672, 'Dis...</td>\n",
       "    </tr>\n",
       "    <tr>\n",
       "      <th>3</th>\n",
       "      <td>-1</td>\n",
       "      <td>[{'BallAcceleration': -8210.634011562943, 'Dis...</td>\n",
       "    </tr>\n",
       "    <tr>\n",
       "      <th>4</th>\n",
       "      <td>-1</td>\n",
       "      <td>[{'BallAcceleration': 1197.5360615055833, 'Dis...</td>\n",
       "    </tr>\n",
       "  </tbody>\n",
       "</table>\n",
       "</div>"
      ],
      "text/plain": [
       "  label                                        time_series\n",
       "0     6  [{'BallAcceleration': 1636.7987723122642, 'Dis...\n",
       "1    -1  [{'BallAcceleration': 0.0, 'DistanceWall': 39....\n",
       "2    -1  [{'BallAcceleration': 124246.29375405672, 'Dis...\n",
       "3    -1  [{'BallAcceleration': -8210.634011562943, 'Dis...\n",
       "4    -1  [{'BallAcceleration': 1197.5360615055833, 'Dis..."
      ]
     },
     "execution_count": 2,
     "metadata": {},
     "output_type": "execute_result"
    }
   ],
   "source": [
    "df = pd.read_json(\"data_no_bool.json\").T\n",
    "df.head()"
   ]
  },
  {
   "cell_type": "code",
   "execution_count": 3,
   "metadata": {},
   "outputs": [
    {
     "data": {
      "text/plain": [
       " 2    60\n",
       " 6    46\n",
       " 5    45\n",
       "-1    43\n",
       " 3    38\n",
       " 7    36\n",
       " 1    30\n",
       "Name: label, dtype: int64"
      ]
     },
     "execution_count": 3,
     "metadata": {},
     "output_type": "execute_result"
    }
   ],
   "source": [
    "df.label.value_counts()"
   ]
  },
  {
   "cell_type": "code",
   "execution_count": null,
   "metadata": {},
   "outputs": [],
   "source": []
  },
  {
   "cell_type": "code",
   "execution_count": null,
   "metadata": {},
   "outputs": [],
   "source": []
  },
  {
   "cell_type": "code",
   "execution_count": null,
   "metadata": {},
   "outputs": [],
   "source": []
  },
  {
   "cell_type": "markdown",
   "metadata": {},
   "source": [
    "----------"
   ]
  },
  {
   "cell_type": "code",
   "execution_count": 4,
   "metadata": {},
   "outputs": [
    {
     "data": {
      "text/html": [
       "<div>\n",
       "<style scoped>\n",
       "    .dataframe tbody tr th:only-of-type {\n",
       "        vertical-align: middle;\n",
       "    }\n",
       "\n",
       "    .dataframe tbody tr th {\n",
       "        vertical-align: top;\n",
       "    }\n",
       "\n",
       "    .dataframe thead th {\n",
       "        text-align: right;\n",
       "    }\n",
       "</style>\n",
       "<table border=\"1\" class=\"dataframe\">\n",
       "  <thead>\n",
       "    <tr style=\"text-align: right;\">\n",
       "      <th></th>\n",
       "      <th>label</th>\n",
       "      <th>time_series</th>\n",
       "    </tr>\n",
       "  </thead>\n",
       "  <tbody>\n",
       "    <tr>\n",
       "      <th>111</th>\n",
       "      <td>6</td>\n",
       "      <td>[{'BallAcceleration': 4841.49275538644, 'Dista...</td>\n",
       "    </tr>\n",
       "    <tr>\n",
       "      <th>175</th>\n",
       "      <td>6</td>\n",
       "      <td>[{'BallAcceleration': -347.5747892882355, 'Dis...</td>\n",
       "    </tr>\n",
       "    <tr>\n",
       "      <th>12</th>\n",
       "      <td>7</td>\n",
       "      <td>[{'BallAcceleration': 0.0, 'DistanceWall': 400...</td>\n",
       "    </tr>\n",
       "    <tr>\n",
       "      <th>218</th>\n",
       "      <td>1</td>\n",
       "      <td>[{'BallAcceleration': 106808.88211978199, 'Dis...</td>\n",
       "    </tr>\n",
       "    <tr>\n",
       "      <th>205</th>\n",
       "      <td>7</td>\n",
       "      <td>[{'BallAcceleration': 14189.044826174126, 'Dis...</td>\n",
       "    </tr>\n",
       "  </tbody>\n",
       "</table>\n",
       "</div>"
      ],
      "text/plain": [
       "    label                                        time_series\n",
       "111     6  [{'BallAcceleration': 4841.49275538644, 'Dista...\n",
       "175     6  [{'BallAcceleration': -347.5747892882355, 'Dis...\n",
       "12      7  [{'BallAcceleration': 0.0, 'DistanceWall': 400...\n",
       "218     1  [{'BallAcceleration': 106808.88211978199, 'Dis...\n",
       "205     7  [{'BallAcceleration': 14189.044826174126, 'Dis..."
      ]
     },
     "execution_count": 4,
     "metadata": {},
     "output_type": "execute_result"
    }
   ],
   "source": [
    "#from sklearn.utils import shuffle\n",
    "import sklearn as sk\n",
    "from sklearn.model_selection import train_test_split\n",
    "seed = 0\n",
    "\n",
    "# Shuffle the dataframe\n",
    "shuffled_df = sk.utils.shuffle(df, random_state=seed)\n",
    "shuffled_df.head()"
   ]
  },
  {
   "cell_type": "code",
   "execution_count": 5,
   "metadata": {},
   "outputs": [
    {
     "data": {
      "text/html": [
       "<div>\n",
       "<style scoped>\n",
       "    .dataframe tbody tr th:only-of-type {\n",
       "        vertical-align: middle;\n",
       "    }\n",
       "\n",
       "    .dataframe tbody tr th {\n",
       "        vertical-align: top;\n",
       "    }\n",
       "\n",
       "    .dataframe thead th {\n",
       "        text-align: right;\n",
       "    }\n",
       "</style>\n",
       "<table border=\"1\" class=\"dataframe\">\n",
       "  <thead>\n",
       "    <tr style=\"text-align: right;\">\n",
       "      <th></th>\n",
       "      <th>label</th>\n",
       "      <th>time_series</th>\n",
       "      <th>shape</th>\n",
       "    </tr>\n",
       "  </thead>\n",
       "  <tbody>\n",
       "    <tr>\n",
       "      <th>111</th>\n",
       "      <td>6</td>\n",
       "      <td>[[4841.49275538644, 3920.09, 2013.1, 164.34092...</td>\n",
       "      <td>(19, 17)</td>\n",
       "    </tr>\n",
       "    <tr>\n",
       "      <th>175</th>\n",
       "      <td>6</td>\n",
       "      <td>[[-347.5747892882355, 4002.97, 2013.0, 218.624...</td>\n",
       "      <td>(19, 17)</td>\n",
       "    </tr>\n",
       "    <tr>\n",
       "      <th>12</th>\n",
       "      <td>7</td>\n",
       "      <td>[[0.0, 4004.29, 2013.08, 193.23514638905624, 1...</td>\n",
       "      <td>(16, 17)</td>\n",
       "    </tr>\n",
       "    <tr>\n",
       "      <th>218</th>\n",
       "      <td>1</td>\n",
       "      <td>[[106808.88211978199, 13.230000000000018, 345....</td>\n",
       "      <td>(19, 17)</td>\n",
       "    </tr>\n",
       "    <tr>\n",
       "      <th>205</th>\n",
       "      <td>7</td>\n",
       "      <td>[[14189.044826174126, 3329.59, 2013.15, 153.21...</td>\n",
       "      <td>(16, 17)</td>\n",
       "    </tr>\n",
       "  </tbody>\n",
       "</table>\n",
       "</div>"
      ],
      "text/plain": [
       "    label                                        time_series     shape\n",
       "111     6  [[4841.49275538644, 3920.09, 2013.1, 164.34092...  (19, 17)\n",
       "175     6  [[-347.5747892882355, 4002.97, 2013.0, 218.624...  (19, 17)\n",
       "12      7  [[0.0, 4004.29, 2013.08, 193.23514638905624, 1...  (16, 17)\n",
       "218     1  [[106808.88211978199, 13.230000000000018, 345....  (19, 17)\n",
       "205     7  [[14189.044826174126, 3329.59, 2013.15, 153.21...  (16, 17)"
      ]
     },
     "execution_count": 5,
     "metadata": {},
     "output_type": "execute_result"
    }
   ],
   "source": [
    "from utils import extract_matrix\n",
    "# Create the matrix version\n",
    "shuffled_df.time_series = shuffled_df.time_series.apply(extract_matrix)\n",
    "shuffled_df[\"shape\"] = shuffled_df.time_series.apply(lambda x: x.shape)\n",
    "shuffled_df.head()"
   ]
  },
  {
   "cell_type": "code",
   "execution_count": 6,
   "metadata": {},
   "outputs": [],
   "source": [
    "X_train, X_test, y_train, y_test = train_test_split(shuffled_df['time_series'], shuffled_df['label'], train_size=.75, random_state=seed)"
   ]
  },
  {
   "cell_type": "code",
   "execution_count": 7,
   "metadata": {},
   "outputs": [
    {
     "data": {
      "text/plain": [
       "223"
      ]
     },
     "execution_count": 7,
     "metadata": {},
     "output_type": "execute_result"
    }
   ],
   "source": [
    "len(X_train)"
   ]
  },
  {
   "cell_type": "code",
   "execution_count": 8,
   "metadata": {},
   "outputs": [
    {
     "data": {
      "text/plain": [
       "75"
      ]
     },
     "execution_count": 8,
     "metadata": {},
     "output_type": "execute_result"
    }
   ],
   "source": [
    "len(X_test)"
   ]
  },
  {
   "cell_type": "code",
   "execution_count": 9,
   "metadata": {},
   "outputs": [
    {
     "data": {
      "text/plain": [
       " 2    0.219731\n",
       " 5    0.161435\n",
       " 6    0.161435\n",
       "-1    0.134529\n",
       " 3    0.125561\n",
       " 7    0.103139\n",
       " 1    0.094170\n",
       "Name: label, dtype: float64"
      ]
     },
     "execution_count": 9,
     "metadata": {},
     "output_type": "execute_result"
    }
   ],
   "source": [
    "a = y_train.value_counts()\n",
    "a/=np.sum(a)\n",
    "a"
   ]
  },
  {
   "cell_type": "code",
   "execution_count": 10,
   "metadata": {},
   "outputs": [
    {
     "data": {
      "text/plain": [
       " 7    0.173333\n",
       "-1    0.173333\n",
       " 2    0.146667\n",
       " 3    0.133333\n",
       " 6    0.133333\n",
       " 5    0.120000\n",
       " 1    0.120000\n",
       "Name: label, dtype: float64"
      ]
     },
     "execution_count": 10,
     "metadata": {},
     "output_type": "execute_result"
    }
   ],
   "source": [
    "a = y_test.value_counts()\n",
    "a/=np.sum(a)\n",
    "a"
   ]
  },
  {
   "cell_type": "markdown",
   "metadata": {},
   "source": [
    "# Baseline\n",
    "Use as feature vector the mean of each field of the time series"
   ]
  },
  {
   "cell_type": "code",
   "execution_count": 11,
   "metadata": {},
   "outputs": [],
   "source": [
    "X_train_mean_fv = utils.compute_mean_feature_vector(X_train)\n",
    "X_test_mean_fv = utils.compute_mean_feature_vector(X_test)"
   ]
  },
  {
   "cell_type": "code",
   "execution_count": 12,
   "metadata": {},
   "outputs": [],
   "source": [
    "matrix_X_train_mean_fv = utils.from_series_to_matrix(17, X_train_mean_fv)\n",
    "matrix_X_test_mean_fv = utils.from_series_to_matrix(17, X_test_mean_fv)"
   ]
  },
  {
   "cell_type": "code",
   "execution_count": 13,
   "metadata": {},
   "outputs": [],
   "source": [
    "prova_train = y_train.to_numpy().astype('int')\n",
    "prova_test = y_test.to_numpy().astype('int')"
   ]
  },
  {
   "cell_type": "code",
   "execution_count": 22,
   "metadata": {},
   "outputs": [
    {
     "name": "stdout",
     "output_type": "stream",
     "text": [
      "0.7866666666666666\n"
     ]
    }
   ],
   "source": [
    "from sklearn.svm import SVC\n",
    "from sklearn.metrics import accuracy_score\n",
    "\n",
    "from sklearn.preprocessing import StandardScaler\n",
    "\n",
    "SC = StandardScaler()\n",
    "SC.fit(matrix_X_train_mean_fv)\n",
    "matrix_X_train_mean_fv_scaled = SC.transform(matrix_X_train_mean_fv)\n",
    "matrix_X_test_mean_fv_scaled = SC.transform(matrix_X_test_mean_fv)\n",
    "\n",
    "svc = SVC()\n",
    "svc.fit(matrix_X_train_mean_fv_scaled, prova_train)\n",
    "\n",
    "predictions = svc.predict(matrix_X_test_mean_fv_scaled)\n",
    "\n",
    "print(accuracy_score(prova_test, predictions))"
   ]
  },
  {
   "cell_type": "code",
   "execution_count": null,
   "metadata": {},
   "outputs": [],
   "source": []
  }
 ],
 "metadata": {
  "kernelspec": {
   "display_name": "Python 3.9.12 ('data_science')",
   "language": "python",
   "name": "python3"
  },
  "language_info": {
   "codemirror_mode": {
    "name": "ipython",
    "version": 3
   },
   "file_extension": ".py",
   "mimetype": "text/x-python",
   "name": "python",
   "nbconvert_exporter": "python",
   "pygments_lexer": "ipython3",
   "version": "3.9.12"
  },
  "orig_nbformat": 4,
  "vscode": {
   "interpreter": {
    "hash": "391ddcc66a8b67209ee4ca14a5da0cf1073041a687facbd61882e6753a3822ab"
   }
  }
 },
 "nbformat": 4,
 "nbformat_minor": 2
}
