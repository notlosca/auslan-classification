{
 "cells": [
  {
   "cell_type": "markdown",
   "metadata": {},
   "source": [
    "# Dataset analysis"
   ]
  },
  {
   "cell_type": "code",
   "execution_count": 1,
   "metadata": {},
   "outputs": [],
   "source": [
    "import pandas as pd\n",
    "import numpy as np\n",
    "import seaborn as sns\n",
    "import utils"
   ]
  },
  {
   "cell_type": "code",
   "execution_count": 2,
   "metadata": {},
   "outputs": [
    {
     "data": {
      "text/html": [
       "<div>\n",
       "<style scoped>\n",
       "    .dataframe tbody tr th:only-of-type {\n",
       "        vertical-align: middle;\n",
       "    }\n",
       "\n",
       "    .dataframe tbody tr th {\n",
       "        vertical-align: top;\n",
       "    }\n",
       "\n",
       "    .dataframe thead th {\n",
       "        text-align: right;\n",
       "    }\n",
       "</style>\n",
       "<table border=\"1\" class=\"dataframe\">\n",
       "  <thead>\n",
       "    <tr style=\"text-align: right;\">\n",
       "      <th></th>\n",
       "      <th>label</th>\n",
       "      <th>time_series</th>\n",
       "    </tr>\n",
       "  </thead>\n",
       "  <tbody>\n",
       "    <tr>\n",
       "      <th>0</th>\n",
       "      <td>6</td>\n",
       "      <td>[{'BallAcceleration': 1636.7987723122642, 'Dis...</td>\n",
       "    </tr>\n",
       "    <tr>\n",
       "      <th>1</th>\n",
       "      <td>-1</td>\n",
       "      <td>[{'BallAcceleration': 0.0, 'DistanceWall': 39....</td>\n",
       "    </tr>\n",
       "    <tr>\n",
       "      <th>2</th>\n",
       "      <td>-1</td>\n",
       "      <td>[{'BallAcceleration': 124246.29375405672, 'Dis...</td>\n",
       "    </tr>\n",
       "    <tr>\n",
       "      <th>3</th>\n",
       "      <td>-1</td>\n",
       "      <td>[{'BallAcceleration': -8210.634011562943, 'Dis...</td>\n",
       "    </tr>\n",
       "    <tr>\n",
       "      <th>4</th>\n",
       "      <td>-1</td>\n",
       "      <td>[{'BallAcceleration': 1197.5360615055833, 'Dis...</td>\n",
       "    </tr>\n",
       "  </tbody>\n",
       "</table>\n",
       "</div>"
      ],
      "text/plain": [
       "  label                                        time_series\n",
       "0     6  [{'BallAcceleration': 1636.7987723122642, 'Dis...\n",
       "1    -1  [{'BallAcceleration': 0.0, 'DistanceWall': 39....\n",
       "2    -1  [{'BallAcceleration': 124246.29375405672, 'Dis...\n",
       "3    -1  [{'BallAcceleration': -8210.634011562943, 'Dis...\n",
       "4    -1  [{'BallAcceleration': 1197.5360615055833, 'Dis..."
      ]
     },
     "execution_count": 2,
     "metadata": {},
     "output_type": "execute_result"
    }
   ],
   "source": [
    "df = pd.read_json(\"data_no_bool.json\").T\n",
    "df.head()"
   ]
  },
  {
   "cell_type": "code",
   "execution_count": 3,
   "metadata": {},
   "outputs": [
    {
     "data": {
      "text/plain": [
       " 2    60\n",
       " 6    46\n",
       " 5    45\n",
       "-1    43\n",
       " 3    38\n",
       " 7    36\n",
       " 1    30\n",
       "Name: label, dtype: int64"
      ]
     },
     "execution_count": 3,
     "metadata": {},
     "output_type": "execute_result"
    }
   ],
   "source": [
    "df.label.value_counts()"
   ]
  },
  {
   "cell_type": "code",
   "execution_count": null,
   "metadata": {},
   "outputs": [],
   "source": []
  },
  {
   "cell_type": "code",
   "execution_count": null,
   "metadata": {},
   "outputs": [],
   "source": []
  },
  {
   "cell_type": "code",
   "execution_count": null,
   "metadata": {},
   "outputs": [],
   "source": []
  },
  {
   "cell_type": "markdown",
   "metadata": {},
   "source": [
    "----------"
   ]
  },
  {
   "cell_type": "code",
   "execution_count": 4,
   "metadata": {},
   "outputs": [
    {
     "data": {
      "text/html": [
       "<div>\n",
       "<style scoped>\n",
       "    .dataframe tbody tr th:only-of-type {\n",
       "        vertical-align: middle;\n",
       "    }\n",
       "\n",
       "    .dataframe tbody tr th {\n",
       "        vertical-align: top;\n",
       "    }\n",
       "\n",
       "    .dataframe thead th {\n",
       "        text-align: right;\n",
       "    }\n",
       "</style>\n",
       "<table border=\"1\" class=\"dataframe\">\n",
       "  <thead>\n",
       "    <tr style=\"text-align: right;\">\n",
       "      <th></th>\n",
       "      <th>label</th>\n",
       "      <th>time_series</th>\n",
       "    </tr>\n",
       "  </thead>\n",
       "  <tbody>\n",
       "    <tr>\n",
       "      <th>111</th>\n",
       "      <td>6</td>\n",
       "      <td>[{'BallAcceleration': 4841.49275538644, 'Dista...</td>\n",
       "    </tr>\n",
       "    <tr>\n",
       "      <th>175</th>\n",
       "      <td>6</td>\n",
       "      <td>[{'BallAcceleration': -347.5747892882355, 'Dis...</td>\n",
       "    </tr>\n",
       "    <tr>\n",
       "      <th>12</th>\n",
       "      <td>7</td>\n",
       "      <td>[{'BallAcceleration': 0.0, 'DistanceWall': 400...</td>\n",
       "    </tr>\n",
       "    <tr>\n",
       "      <th>218</th>\n",
       "      <td>1</td>\n",
       "      <td>[{'BallAcceleration': 106808.88211978199, 'Dis...</td>\n",
       "    </tr>\n",
       "    <tr>\n",
       "      <th>205</th>\n",
       "      <td>7</td>\n",
       "      <td>[{'BallAcceleration': 14189.044826174126, 'Dis...</td>\n",
       "    </tr>\n",
       "  </tbody>\n",
       "</table>\n",
       "</div>"
      ],
      "text/plain": [
       "    label                                        time_series\n",
       "111     6  [{'BallAcceleration': 4841.49275538644, 'Dista...\n",
       "175     6  [{'BallAcceleration': -347.5747892882355, 'Dis...\n",
       "12      7  [{'BallAcceleration': 0.0, 'DistanceWall': 400...\n",
       "218     1  [{'BallAcceleration': 106808.88211978199, 'Dis...\n",
       "205     7  [{'BallAcceleration': 14189.044826174126, 'Dis..."
      ]
     },
     "execution_count": 4,
     "metadata": {},
     "output_type": "execute_result"
    }
   ],
   "source": [
    "#from sklearn.utils import shuffle\n",
    "import sklearn as sk\n",
    "from sklearn.model_selection import train_test_split\n",
    "seed = 0\n",
    "\n",
    "# Shuffle the dataframe\n",
    "shuffled_df = sk.utils.shuffle(df, random_state=seed)\n",
    "shuffled_df.head()"
   ]
  },
  {
   "cell_type": "code",
   "execution_count": 5,
   "metadata": {},
   "outputs": [
    {
     "data": {
      "text/html": [
       "<div>\n",
       "<style scoped>\n",
       "    .dataframe tbody tr th:only-of-type {\n",
       "        vertical-align: middle;\n",
       "    }\n",
       "\n",
       "    .dataframe tbody tr th {\n",
       "        vertical-align: top;\n",
       "    }\n",
       "\n",
       "    .dataframe thead th {\n",
       "        text-align: right;\n",
       "    }\n",
       "</style>\n",
       "<table border=\"1\" class=\"dataframe\">\n",
       "  <thead>\n",
       "    <tr style=\"text-align: right;\">\n",
       "      <th></th>\n",
       "      <th>label</th>\n",
       "      <th>time_series</th>\n",
       "      <th>shape</th>\n",
       "    </tr>\n",
       "  </thead>\n",
       "  <tbody>\n",
       "    <tr>\n",
       "      <th>111</th>\n",
       "      <td>6</td>\n",
       "      <td>[[4841.49275538644, 3920.09, 2013.1, 164.34092...</td>\n",
       "      <td>(19, 17)</td>\n",
       "    </tr>\n",
       "    <tr>\n",
       "      <th>175</th>\n",
       "      <td>6</td>\n",
       "      <td>[[-347.5747892882355, 4002.97, 2013.0, 218.624...</td>\n",
       "      <td>(19, 17)</td>\n",
       "    </tr>\n",
       "    <tr>\n",
       "      <th>12</th>\n",
       "      <td>7</td>\n",
       "      <td>[[0.0, 4004.29, 2013.08, 193.23514638905624, 1...</td>\n",
       "      <td>(16, 17)</td>\n",
       "    </tr>\n",
       "    <tr>\n",
       "      <th>218</th>\n",
       "      <td>1</td>\n",
       "      <td>[[106808.88211978199, 13.230000000000018, 345....</td>\n",
       "      <td>(19, 17)</td>\n",
       "    </tr>\n",
       "    <tr>\n",
       "      <th>205</th>\n",
       "      <td>7</td>\n",
       "      <td>[[14189.044826174126, 3329.59, 2013.15, 153.21...</td>\n",
       "      <td>(16, 17)</td>\n",
       "    </tr>\n",
       "  </tbody>\n",
       "</table>\n",
       "</div>"
      ],
      "text/plain": [
       "    label                                        time_series     shape\n",
       "111     6  [[4841.49275538644, 3920.09, 2013.1, 164.34092...  (19, 17)\n",
       "175     6  [[-347.5747892882355, 4002.97, 2013.0, 218.624...  (19, 17)\n",
       "12      7  [[0.0, 4004.29, 2013.08, 193.23514638905624, 1...  (16, 17)\n",
       "218     1  [[106808.88211978199, 13.230000000000018, 345....  (19, 17)\n",
       "205     7  [[14189.044826174126, 3329.59, 2013.15, 153.21...  (16, 17)"
      ]
     },
     "execution_count": 5,
     "metadata": {},
     "output_type": "execute_result"
    }
   ],
   "source": [
    "from utils import extract_matrix\n",
    "# Create the matrix version\n",
    "shuffled_df.time_series = shuffled_df.time_series.apply(extract_matrix)\n",
    "shuffled_df[\"shape\"] = shuffled_df.time_series.apply(lambda x: x.shape)\n",
    "shuffled_df.head()"
   ]
  },
  {
   "cell_type": "code",
   "execution_count": 6,
   "metadata": {},
   "outputs": [],
   "source": [
    "X_train, X_test, y_train, y_test = train_test_split(shuffled_df['time_series'], shuffled_df['label'], train_size=.75, random_state=seed)"
   ]
  },
  {
   "cell_type": "code",
   "execution_count": 7,
   "metadata": {},
   "outputs": [
    {
     "data": {
      "text/plain": [
       "223"
      ]
     },
     "execution_count": 7,
     "metadata": {},
     "output_type": "execute_result"
    }
   ],
   "source": [
    "len(X_train)"
   ]
  },
  {
   "cell_type": "code",
   "execution_count": 8,
   "metadata": {},
   "outputs": [
    {
     "data": {
      "text/plain": [
       "75"
      ]
     },
     "execution_count": 8,
     "metadata": {},
     "output_type": "execute_result"
    }
   ],
   "source": [
    "len(X_test)"
   ]
  },
  {
   "cell_type": "code",
   "execution_count": 9,
   "metadata": {},
   "outputs": [
    {
     "data": {
      "text/plain": [
       " 2    0.219731\n",
       " 5    0.161435\n",
       " 6    0.161435\n",
       "-1    0.134529\n",
       " 3    0.125561\n",
       " 7    0.103139\n",
       " 1    0.094170\n",
       "Name: label, dtype: float64"
      ]
     },
     "execution_count": 9,
     "metadata": {},
     "output_type": "execute_result"
    }
   ],
   "source": [
    "a = y_train.value_counts()\n",
    "a/=np.sum(a)\n",
    "a"
   ]
  },
  {
   "cell_type": "code",
   "execution_count": 10,
   "metadata": {},
   "outputs": [
    {
     "data": {
      "text/plain": [
       " 7    0.173333\n",
       "-1    0.173333\n",
       " 2    0.146667\n",
       " 3    0.133333\n",
       " 6    0.133333\n",
       " 5    0.120000\n",
       " 1    0.120000\n",
       "Name: label, dtype: float64"
      ]
     },
     "execution_count": 10,
     "metadata": {},
     "output_type": "execute_result"
    }
   ],
   "source": [
    "a = y_test.value_counts()\n",
    "a/=np.sum(a)\n",
    "a"
   ]
  },
  {
   "cell_type": "markdown",
   "metadata": {},
   "source": [
    "# Baseline\n",
    "Use as feature vector the mean of each field of the time series"
   ]
  },
  {
   "cell_type": "code",
   "execution_count": 11,
   "metadata": {},
   "outputs": [],
   "source": [
    "X_train_mean_fv = utils.compute_mean_feature_vector(X_train)\n",
    "X_test_mean_fv = utils.compute_mean_feature_vector(X_test)"
   ]
  },
  {
   "cell_type": "code",
   "execution_count": 12,
   "metadata": {},
   "outputs": [],
   "source": [
    "matrix_X_train_mean_fv = utils.from_series_to_matrix(17, X_train_mean_fv)\n",
    "matrix_X_test_mean_fv = utils.from_series_to_matrix(17, X_test_mean_fv)"
   ]
  },
  {
   "cell_type": "code",
   "execution_count": 13,
   "metadata": {},
   "outputs": [],
   "source": [
    "prova_train = y_train.to_numpy().astype('int')\n",
    "prova_test = y_test.to_numpy().astype('int')"
   ]
  },
  {
   "cell_type": "code",
   "execution_count": 22,
   "metadata": {},
   "outputs": [
    {
     "name": "stdout",
     "output_type": "stream",
     "text": [
      "0.7866666666666666\n"
     ]
    }
   ],
   "source": [
    "from sklearn.svm import SVC\n",
    "from sklearn.metrics import accuracy_score\n",
    "\n",
    "from sklearn.preprocessing import StandardScaler\n",
    "\n",
    "SC = StandardScaler()\n",
    "SC.fit(matrix_X_train_mean_fv)\n",
    "matrix_X_train_mean_fv_scaled = SC.transform(matrix_X_train_mean_fv)\n",
    "matrix_X_test_mean_fv_scaled = SC.transform(matrix_X_test_mean_fv)\n",
    "\n",
    "svc = SVC()\n",
    "svc.fit(matrix_X_train_mean_fv_scaled, prova_train)\n",
    "\n",
    "predictions = svc.predict(matrix_X_test_mean_fv_scaled)\n",
    "\n",
    "print(accuracy_score(prova_test, predictions))"
   ]
  },
  {
   "cell_type": "code",
   "execution_count": null,
   "metadata": {},
   "outputs": [],
   "source": []
  }
 ],
 "metadata": {
  "kernelspec": {
   "display_name": "Python 3.9.12 ('data_science')",
   "language": "python",
   "name": "python3"
  },
  "language_info": {
   "codemirror_mode": {
    "name": "ipython",
    "version": 3
   },
   "file_extension": ".py",
   "mimetype": "text/x-python",
   "name": "python",
   "nbconvert_exporter": "python",
   "pygments_lexer": "ipython3",
   "version": "3.9.12"
  },
  "orig_nbformat": 4,
  "vscode": {
   "interpreter": {
    "hash": "391ddcc66a8b67209ee4ca14a5da0cf1073041a687facbd61882e6753a3822ab"
   }
  }
 },
 "nbformat": 4,
 "nbformat_minor": 2
}
