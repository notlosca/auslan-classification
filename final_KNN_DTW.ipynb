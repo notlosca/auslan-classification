{
 "cells": [
  {
   "cell_type": "code",
   "execution_count": 2,
   "metadata": {},
   "outputs": [],
   "source": [
    "import pandas as pd\n",
    "import numpy as np\n",
    "import os\n",
    "import utils\n",
    "\n",
    "features_1 = [\n",
    "    'sx_x',\n",
    "    'sx_y',\n",
    "    'sx_z',\n",
    "    'sx_roll',\n",
    "    'sx_pitch',\n",
    "    'sx_yaw',\n",
    "    'sx_thumb',\n",
    "    'sx_forefinger',\n",
    "    'sx_middle_finger',\n",
    "    'sx_ring_finger',\n",
    "    'sx_little_finger',\n",
    "    'dx_x',\n",
    "    'dx_y',\n",
    "    'dx_z',\n",
    "    'dx_roll',\n",
    "    'dx_pitch',\n",
    "    'dx_yaw',\n",
    "    'dx_thumb',\n",
    "    'dx_forefinger',\n",
    "    'dx_middle_finger',\n",
    "    'dx_ring_finger',\n",
    "    'dx_little_finger'\n",
    "    ]\n",
    "\n"
   ]
  },
  {
   "cell_type": "code",
   "execution_count": 3,
   "metadata": {},
   "outputs": [],
   "source": [
    "path = \"./tctodd/\"\n",
    "#path = \"../../Desktop/MML Project/tctodd/\"\n",
    "dirs = os.listdir(path=path)\n",
    "weeks = sorted([i for i in dirs if i != \".DS_Store\"])\n",
    "filenames = sorted(os.listdir(path+weeks[1]))\n",
    "\n",
    "data = []\n",
    "labels = dict()\n",
    "label_cnt = 0\n",
    "\n",
    "for w in weeks:\n",
    "    temp_path = path+w+\"/\"\n",
    "    filenames = sorted(os.listdir(temp_path))\n",
    "    for fn in filenames:\n",
    "        label = fn.split('.')[0][:-2]\n",
    "        \n",
    "        if label not in labels:\n",
    "            labels[label] = label_cnt\n",
    "            label_cnt += 1\n",
    "            \n",
    "        data.append({'label':labels[label], 'time_series':pd.read_csv(temp_path+fn, header=None, sep='\\t',).values})\n",
    "        "
   ]
  },
  {
   "cell_type": "code",
   "execution_count": 4,
   "metadata": {},
   "outputs": [],
   "source": [
    "df = pd.DataFrame(data, columns=['label', 'time_series'])\n",
    "seed = 0\n",
    "X = df['time_series']\n",
    "y = df['label']"
   ]
  },
  {
   "cell_type": "markdown",
   "metadata": {},
   "source": [
    "## sktime k neighbors time series with interpolated data"
   ]
  },
  {
   "cell_type": "code",
   "execution_count": 6,
   "metadata": {},
   "outputs": [
    {
     "name": "stdout",
     "output_type": "stream",
     "text": [
      "Shape of new interpolated and stacked X is (2565,)\n",
      "The new shape is (22, 60)\n",
      "Starting prediction\n",
      "Score of the plain 1-NeighborTimeSeriesClassifier without cross-validation is 0.8132295719844358\n"
     ]
    },
    {
     "data": {
      "text/plain": [
       "0"
      ]
     },
     "execution_count": 6,
     "metadata": {},
     "output_type": "execute_result"
    }
   ],
   "source": [
    "from sktime.classification.distance_based import KNeighborsTimeSeriesClassifier\n",
    "from sklearn.model_selection import train_test_split\n",
    "from sklearn.metrics import accuracy_score\n",
    "import time\n",
    "import os\n",
    "\n",
    "# Interpolation, if want to\n",
    "n_coords = 60\n",
    "X_interp = utils.interpolate_data(X, n_coords)\n",
    "X_interp_concatenated = utils.concatenate_examples(X_interp)\n",
    "\n",
    "print(f\"Shape of new interpolated and stacked X is {X_interp.shape}\")\n",
    "\n",
    "# to match KNeighborsTimeSeriesClassifier requirements, we need predictors x time instants\n",
    "X_interp_new = X_interp.apply(lambda x: x.T)\n",
    "print(\"The new shape is\", X_interp_new[0].shape)\n",
    "\n",
    "X_train, X_test, y_train, y_test = train_test_split(X_interp_new, y,\n",
    "                                                    stratify=y, \n",
    "                                                    test_size=0.1, random_state=seed)\n",
    "X_train_3d = np.stack([i for i in X_train])\n",
    "X_test_3d = np.stack([i for i in X_test])\n",
    "\n",
    "nn_dtw = KNeighborsTimeSeriesClassifier()\n",
    "\n",
    "\n",
    "t0_fit = time.time()\n",
    "nn_dtw.fit(X_train_3d, y_train)\n",
    "t1_fit = time.time() - t0_fit\n",
    "\n",
    "os.system(f'say \"Ci ha impiegato {t1_fit} secondi per fittare 1-NeighborTimeSeriesClassifier\"')\n",
    "\n",
    "print(\"Starting prediction\")\n",
    "t0_pred = time.time()\n",
    "preds = nn_dtw.predict(X_test_3d)\n",
    "t1_pred = time.time() - t0_pred\n",
    "score = accuracy_score(y_test, preds)\n",
    "os.system(f'say \"Ci ha impiegato {t1_pred} secondi per predire\"')\n",
    "\n",
    "print(f\"Score of the plain 1-NeighborTimeSeriesClassifier without cross-validation is {score}\")\n",
    "\n",
    "os.system(f'say \"Accuracy calcolata pari a {score}. Ci sono voluti {t1_fit + t1_pred} secondi per fittare e predire.\"')"
   ]
  },
  {
   "cell_type": "code",
   "execution_count": 7,
   "metadata": {},
   "outputs": [
    {
     "data": {
      "text/plain": [
       "0.8132295719844358"
      ]
     },
     "execution_count": 7,
     "metadata": {},
     "output_type": "execute_result"
    }
   ],
   "source": [
    "score"
   ]
  },
  {
   "cell_type": "markdown",
   "metadata": {},
   "source": [
    "# NO DATA INTERPOLATION"
   ]
  },
  {
   "cell_type": "markdown",
   "metadata": {},
   "source": [
    "## Implementation from scratch"
   ]
  },
  {
   "cell_type": "code",
   "execution_count": 4,
   "metadata": {},
   "outputs": [
    {
     "data": {
      "text/plain": [
       "(2992,)    2565\n",
       "Name: time_series, dtype: int64"
      ]
     },
     "execution_count": 4,
     "metadata": {},
     "output_type": "execute_result"
    }
   ],
   "source": [
    "longest_series_shape = sorted(X.apply(lambda x: x.shape), key=lambda a: -a[0])[0]\n",
    "\n",
    "flag_value = 10000\n",
    "\n",
    "new_X = X.apply(lambda x: utils.fill_return_array(longest_series_shape, x, flag_value=flag_value))\n",
    "new_X.apply(lambda x: x.shape).value_counts()"
   ]
  },
  {
   "cell_type": "code",
   "execution_count": 5,
   "metadata": {},
   "outputs": [],
   "source": [
    "from sklearn.model_selection import train_test_split\n",
    "from sklearn.neighbors import KNeighborsClassifier\n",
    "from sklearn.metrics import accuracy_score\n",
    "\n",
    "X_train, X_test, y_train, y_test = train_test_split(new_X, y,\n",
    "                                                    stratify=y, \n",
    "                                                    test_size=0.1, random_state=seed)\n",
    "\n",
    "train_list = np.array([i for i in X_train])\n",
    "test_list = np.array([i for i in X_test])"
   ]
  },
  {
   "cell_type": "code",
   "execution_count": 8,
   "metadata": {},
   "outputs": [
    {
     "name": "stdout",
     "output_type": "stream",
     "text": [
      "0.8\n"
     ]
    }
   ],
   "source": [
    "knn = KNeighborsClassifier(n_neighbors=1, metric=utils.DTW)\n",
    "\n",
    "knn.fit(train_list, y_train)\n",
    "\n",
    "preds = knn.predict(test_list)\n",
    "\n",
    "score = accuracy_score(y_test, preds)\n",
    "print(score)"
   ]
  },
  {
   "cell_type": "markdown",
   "metadata": {},
   "source": [
    "## tslearn implementation (the fastest)"
   ]
  },
  {
   "cell_type": "code",
   "execution_count": 5,
   "metadata": {},
   "outputs": [],
   "source": [
    "from tslearn.utils import to_time_series_dataset\n",
    "\n",
    "X_new = to_time_series_dataset(X)"
   ]
  },
  {
   "cell_type": "code",
   "execution_count": 6,
   "metadata": {},
   "outputs": [],
   "source": [
    "from sklearn.model_selection import train_test_split\n",
    "from sklearn.metrics import accuracy_score\n",
    "\n",
    "X_train, X_test, y_train, y_test = train_test_split(X_new, y,\n",
    "                                                    stratify=y, \n",
    "                                                    test_size=0.1, random_state=seed)"
   ]
  },
  {
   "cell_type": "code",
   "execution_count": null,
   "metadata": {},
   "outputs": [],
   "source": [
    "from tslearn.neighbors import KNeighborsTimeSeriesClassifier\n",
    "knn = KNeighborsTimeSeriesClassifier(n_neighbors=1, metric='dtw')\n",
    "knn.fit(X_train, y_train)\n",
    "print(\"predicting\")\n",
    "preds = knn.predict(X_test)\n",
    "score = accuracy_score(y_test, preds)\n",
    "print(f\"KNN (tslearn, dtw) accuracy score is {score}\")"
   ]
  }
 ],
 "metadata": {
  "kernelspec": {
   "display_name": "Python 3.9.13 ('data_science')",
   "language": "python",
   "name": "python3"
  },
  "language_info": {
   "codemirror_mode": {
    "name": "ipython",
    "version": 3
   },
   "file_extension": ".py",
   "mimetype": "text/x-python",
   "name": "python",
   "nbconvert_exporter": "python",
   "pygments_lexer": "ipython3",
   "version": "3.9.13"
  },
  "orig_nbformat": 4,
  "vscode": {
   "interpreter": {
    "hash": "391ddcc66a8b67209ee4ca14a5da0cf1073041a687facbd61882e6753a3822ab"
   }
  }
 },
 "nbformat": 4,
 "nbformat_minor": 2
}
