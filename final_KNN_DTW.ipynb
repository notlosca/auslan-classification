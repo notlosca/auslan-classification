{
 "cells": [
  {
   "cell_type": "code",
   "execution_count": null,
   "metadata": {},
   "outputs": [],
   "source": [
    "import pandas as pd\n",
    "import numpy as np\n",
    "import os\n",
    "from utils import base"
   ]
  },
  {
   "cell_type": "code",
   "execution_count": null,
   "metadata": {},
   "outputs": [],
   "source": [
    "#path = \"./tctodd/\"\n",
    "path = \"../../Desktop/MML Project/tctodd/\"\n",
    "dirs = os.listdir(path=path)\n",
    "weeks = sorted([i for i in dirs if i != \".DS_Store\"])\n",
    "filenames = sorted(os.listdir(path+weeks[1]))\n",
    "\n",
    "data = []\n",
    "labels = dict()\n",
    "label_cnt = 0\n",
    "\n",
    "for w in weeks:\n",
    "    temp_path = path+w+\"/\"\n",
    "    filenames = sorted(os.listdir(temp_path))\n",
    "    for fn in filenames:\n",
    "        label = fn.split('.')[0][:-2]\n",
    "        \n",
    "        if label not in labels:\n",
    "            labels[label] = label_cnt\n",
    "            label_cnt += 1\n",
    "            \n",
    "        data.append({'label':labels[label], 'time_series':pd.read_csv(temp_path+fn, header=None, sep='\\t',).values})\n",
    "        "
   ]
  },
  {
   "cell_type": "code",
   "execution_count": null,
   "metadata": {},
   "outputs": [],
   "source": [
    "from sklearn.model_selection import train_test_split\n",
    "from tslearn.utils import to_time_series_dataset\n",
    "\n",
    "df = pd.DataFrame(data, columns=['label', 'time_series'])\n",
    "X = df['time_series']\n",
    "y = df['label']\n",
    "X = to_time_series_dataset(X)\n",
    "seed = 0\n",
    "X_train, X_test, y_train, y_test = train_test_split(X, y,\n",
    "                                                    stratify=y, \n",
    "                                                    test_size=0.222222222222222, random_state=seed)\n",
    "X_train, X_test = X_train.reset_index(drop=True),X_test.reset_index(drop=True)\n",
    "y_train, y_test = y_train.reset_index(drop=True), y_test.reset_index(drop=True)"
   ]
  },
  {
   "cell_type": "code",
   "execution_count": null,
   "metadata": {},
   "outputs": [],
   "source": [
    "from tslearn.neighbors import KNeighborsTimeSeriesClassifier\n",
    "import sklearn as sk\n",
    "from sklearn.metrics import accuracy_score\n",
    "import itertools\n",
    "\n",
    "n_folds = 5\n",
    "skf = sk.model_selection.StratifiedKFold(n_splits=n_folds, shuffle=True, random_state=seed)\n",
    "params = [[1, 3, 5], ['uniform', 'distance']]\n",
    "params_comb = list(itertools.product(*params))\n",
    "acc_scores = np.zeros(len(params_comb))\n",
    "\n",
    "for train_index, val_index in skf.split(X_train, y_train):\n",
    "    X_train_cv = X_train.iloc[train_index]\n",
    "    y_train_cv = y_train.iloc[train_index]\n",
    "    X_val_cv = X_train.iloc[val_index]\n",
    "    y_val_cv = y_train.iloc[val_index]\n",
    "    for i, params in enumerate(params_comb):\n",
    "        knn = KNeighborsTimeSeriesClassifier(n_neighbors=params[0], metric=params[1])\n",
    "        knn.fit(X_train_cv, y_train_cv)\n",
    "        preds = knn.predict(X_val_cv)\n",
    "        res = accuracy_score(y_val_cv, preds)\n",
    "        acc_scores[i] += res\n",
    "\n",
    "acc_scores = acc_scores / n_folds\n",
    "best_idx = np.argmax(acc_scores)    \n",
    "print(f'Found best combination! {params_comb[best_idx]} w. accuracy of {acc_scores[best_idx]}.')\n",
    "best_comb = params_comb[best_idx]"
   ]
  },
  {
   "cell_type": "code",
   "execution_count": null,
   "metadata": {},
   "outputs": [],
   "source": [
    "knn = KNeighborsTimeSeriesClassifier(n_neighbors=best_comb[0], metric=best_comb[1])\n",
    "knn.fit(X_train, y_train)\n",
    "preds = knn.predict(X_test)\n",
    "res = accuracy_score(y_test, preds)\n",
    "print(f'Reached an accuracy of {res}.')"
   ]
  }
 ],
 "metadata": {
  "language_info": {
   "name": "python"
  },
  "orig_nbformat": 4
 },
 "nbformat": 4,
 "nbformat_minor": 2
}
