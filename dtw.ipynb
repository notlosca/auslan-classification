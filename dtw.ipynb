{
 "cells": [
  {
   "cell_type": "code",
   "execution_count": 5,
   "metadata": {},
   "outputs": [],
   "source": [
    "import numpy as np\n",
    "\n",
    "def euclidean_distance(x:np.array, y:np.array, return_squared:bool=False) -> float:\n",
    "    \"\"\"\n",
    "    Compute the Euclidean distance between 2 arrays: x, y\n",
    "\n",
    "    Args:\n",
    "        x (np.array): First array\n",
    "        y (np.array): Second array\n",
    "        squared (bool, optional): Whether to return the squared form or not. Defaults to False.\n",
    "\n",
    "    Returns:\n",
    "        float: The computed Euclidean distance\n",
    "    \"\"\"\n",
    "    if return_squared:\n",
    "        return np.sum(np.square(x-y))\n",
    "    return np.sqrt(np.sum(np.square(x-y)))\n",
    "\n",
    "def compute_cost_matrix(X:np.ndarray, Y:np.ndarray, f:str='squared_euclidean') -> np.ndarray:\n",
    "    \"\"\"\n",
    "    Compute the cost matrix between two time series.\n",
    "    If they differ in lengths, the matrix will be m x n, otherwise n x n.\n",
    "    The two time series must have the same number of features (predictors).\n",
    "\n",
    "    Args:\n",
    "        X (np.ndarray): First time series of the form time instants x features.\n",
    "        Y (np.ndarray): Second time series of the form time instants x features.\n",
    "\n",
    "    Returns:\n",
    "        np.ndarray: The cost matrix\n",
    "    \"\"\"\n",
    "    n = X.shape[0]\n",
    "    m = Y.shape[0]\n",
    "    C = np.zeros(shape=(n,m))\n",
    "    \n",
    "    for i in range(n):\n",
    "        for j in range(m):\n",
    "            \n",
    "            if f == 'squared_euclidean':\n",
    "                C[i,j] = euclidean_distance(X[i,:], Y[j,:], return_squared=True)\n",
    "            elif f == 'absolute_difference':\n",
    "                C[i,j] = np.abs(np.sum(X[i,:] - Y[j,:]))\n",
    "    \n",
    "    return C"
   ]
  },
  {
   "cell_type": "code",
   "execution_count": 48,
   "metadata": {},
   "outputs": [
    {
     "name": "stdout",
     "output_type": "stream",
     "text": [
      "Number of nodes: 12\n",
      "[(0, 0), (0, 1), (0, 2), (0, 3), (1, 0), (1, 1), (1, 2), (1, 3), (2, 0), (2, 1), (2, 2), (2, 3)]\n"
     ]
    },
    {
     "data": {
      "image/png": "[encoded data removed]",
      "text/plain": [
       "<Figure size 432x288 with 1 Axes>"
      ]
     },
     "metadata": {},
     "output_type": "display_data"
    }
   ],
   "source": [
    "import networkx as nx\n",
    "from typing import List, Tuple\n",
    "\n",
    "def compute_dtw(X:np.ndarray,Y:np.ndarray, show_graph:bool=False) -> Tuple[float, List[Tuple]]:\n",
    "    \"\"\"\n",
    "    It computes the DTW score between two multivariate time series X and Y\n",
    "    of the form [time_instants, num_features]\n",
    "\n",
    "    Args:\n",
    "        X (np.ndarray): First time series\n",
    "        Y (np.ndarray): Second time series\n",
    "        show_graph (bool, optional): Whether to show the graph or not. Defaults to False, \n",
    "        since graphs are very large.\n",
    "\n",
    "    Returns:\n",
    "        Tuple[float, List[Tuple]]: DTW score, shortest path. The latter is the sequence of nodes\n",
    "    \"\"\"\n",
    "    n = X.shape[0]\n",
    "    m = Y.shape[0]\n",
    "    G, cost_matrix = construct_graph(X,Y,draw=show_graph)\n",
    "    sh_path = nx.shortest_path(G, source=(0,0), target=(n-1,m-1), weight='weight')\n",
    "    DTW_score = cost_matrix[(0,0)] + nx.path_weight(G, sh_path, weight='weight')\n",
    "    # print(f\"The shortest path is {sh_path} with DTW score of {DTW_score}\")\n",
    "    return DTW_score, sh_path\n",
    "    \n",
    "def construct_graph(X:np.ndarray,Y:np.ndarray, allowed_transitions:List[Tuple]=[(0,1), (1,0), (1,1)], draw:bool=False) -> Tuple[nx.DiGraph, np.ndarray]:\n",
    "    \"\"\"\n",
    "    It constructs the graph upon which we search the path with minimum weight.\n",
    "    The graph is constructed in the form of the cost matrix C. This will be used to compute DTW score.\n",
    "    Only allowed_transitions are considered. Hence there won't be all the feasible edges.\n",
    "    Args:\n",
    "        X (np.ndarray): First time series of the form [time_instants, num_predictors].\n",
    "        Y (np.ndarray): Second time series of the form [time_instants, num_predictors].\n",
    "        allowed_transitions (List[Tuple], optional): List of feasible edges. Defaults to [(0,1), (1,0), (1,1)] to compute DTW.\n",
    "        draw (bool, optional): Whether to draw or not the graph. Defaults to False.\n",
    "\n",
    "    Returns:\n",
    "        Tuple[nx.DiGraph, np.ndarray]: The corresponding graph and the cost matrix.\n",
    "        The latter has the form [time_instants_of_X, time_instants_of_Y]\n",
    "    \"\"\"\n",
    "    \n",
    "    n = X.shape[0]\n",
    "    m = Y.shape[0]\n",
    "    \n",
    "    nodes = []\n",
    "    for i in range(n):\n",
    "        for j in range(m):\n",
    "            nodes.append( (i,j) )\n",
    "            \n",
    "    edges = compute_allowed_edges(nodes, allowed_transitions)\n",
    "    C = compute_cost_matrix(X, Y, f='squared_euclidean')\n",
    "    weighted_edges = weight_edges(edges, C)\n",
    "    \n",
    "    G = nx.DiGraph()\n",
    "    G.add_nodes_from(nodes)\n",
    "    G.add_weighted_edges_from(weighted_edges)\n",
    "    if draw:\n",
    "        pos = {i:(i[1], -i[0]) for i in G.nodes}\n",
    "        nx.draw(G, pos, with_labels=True)\n",
    "    return G, C\n",
    "    \n",
    "from itertools import combinations\n",
    "def compute_allowed_edges(nodes:List[Tuple], allowed_combinations:list=[(0,1), (1,0), (1,1)]) -> List[Tuple]:\n",
    "    \"\"\"\n",
    "    Compute allowed edges from all possible combination of 2 nodes following the allowed set of combinations.\n",
    "\n",
    "    Args:\n",
    "        nodes (List[Tuple]): List of nodes from which we compute all possible combinations.\n",
    "        allowed_combinations (list, optional): Set of allowed transitions. Defaults to [(0,1), (1,0), (1,1)].\n",
    "\n",
    "    Returns:\n",
    "        List[Tuple]: List of edges following the allowed_combinations list.\n",
    "    \"\"\"\n",
    "    combs = list(combinations(nodes, 2))\n",
    "\n",
    "    allowed_edges = []\n",
    "    illegal_edges = []\n",
    "\n",
    "    for combination in combs:\n",
    "        c0 = combination[0]\n",
    "        c1 = combination[1]\n",
    "        res = (c1[0]-c0[0], c1[1]-c0[1])\n",
    "        if res in allowed_combinations:\n",
    "            allowed_edges.append(combination)\n",
    "        else:\n",
    "            illegal_edges.append(combination)\n",
    "    return allowed_edges\n",
    "\n",
    "def weight_edges(edges:List[Tuple], cost_matrix:np.ndarray) -> List[Tuple]:\n",
    "    \"\"\"\n",
    "    Weight each edge with the corresponding transition cost from one node to another\n",
    "\n",
    "    Args:\n",
    "        edges (List[Tuple]): Set of edges.\n",
    "        cost_matrix (np.ndarray): Cost matrix C\n",
    "\n",
    "    Returns:\n",
    "        List[Tuple]: Return the set of edges with the new attribute 'weight'\n",
    "    \"\"\"\n",
    "    weighted_edges = []\n",
    "    for i in edges:\n",
    "        s = i[0] # source node\n",
    "        t = i[1] # target node\n",
    "        weighted_edges.append( (*i, cost_matrix[t]) )\n",
    "    return weighted_edges\n",
    "\n",
    "\n",
    "\n",
    "\n",
    "n = 3\n",
    "m = 4\n",
    "\n",
    "nodes = []\n",
    "for i in range(n):\n",
    "    for j in range(m):\n",
    "        nodes.append( (i,j) )\n",
    "G = nx.DiGraph()\n",
    "G.add_nodes_from(nodes)\n",
    "\n",
    "n_nodes = len(G)\n",
    "print(\"Number of nodes:\", n_nodes)\n",
    "\n",
    "# labels of nodes are couples: (row, column)\n",
    "\n",
    "print(G.nodes)\n",
    "pos = {i:(i[1], -i[0]) for i in G.nodes}\n",
    "nx.draw(G, pos, with_labels=True)"
   ]
  },
  {
   "cell_type": "code",
   "execution_count": 10,
   "metadata": {},
   "outputs": [],
   "source": [
    "from itertools import combinations\n",
    "\n",
    "combs = list(combinations(nodes, 2))\n",
    "\n",
    "allowed_combinations = [(0,1), (1,0), (1,1)]\n",
    "\n",
    "allowed_edges = []\n",
    "illegal_edges = []\n",
    "\n",
    "for combination in combs:\n",
    "    c0 = combination[0]\n",
    "    c1 = combination[1]\n",
    "    res = (c1[0]-c0[0], c1[1]-c0[1])\n",
    "    if res in allowed_combinations:\n",
    "        allowed_edges.append(combination)\n",
    "    else:\n",
    "        illegal_edges.append(combination)\n"
   ]
  },
  {
   "cell_type": "code",
   "execution_count": 11,
   "metadata": {},
   "outputs": [
    {
     "name": "stdout",
     "output_type": "stream",
     "text": [
      "((0, 0), (1, 1))\n"
     ]
    },
    {
     "data": {
      "text/plain": [
       "0.0"
      ]
     },
     "execution_count": 11,
     "metadata": {},
     "output_type": "execute_result"
    }
   ],
   "source": [
    "X = np.array([[0,1,2,3], [4,5,6,7], [8,9,10,11]])\n",
    "Y = np.array([[0,1,2,3], [4,5,6,7], [8,9,10,11], [12,13,14,15]])\n",
    "C = compute_cost_matrix(X, Y, f='squared_euclidean')\n",
    "print(allowed_edges[2])\n",
    "s = allowed_edges[2][0]\n",
    "t = allowed_edges[2][1]\n",
    "C[t]"
   ]
  },
  {
   "cell_type": "code",
   "execution_count": 12,
   "metadata": {},
   "outputs": [
    {
     "data": {
      "text/plain": [
       "array([[  0.,  64., 256., 576.],\n",
       "       [ 64.,   0.,  64., 256.],\n",
       "       [256.,  64.,   0.,  64.]])"
      ]
     },
     "execution_count": 12,
     "metadata": {},
     "output_type": "execute_result"
    }
   ],
   "source": [
    "C"
   ]
  },
  {
   "cell_type": "code",
   "execution_count": 13,
   "metadata": {},
   "outputs": [],
   "source": [
    "weighted_edges = []\n",
    "for i in allowed_edges:\n",
    "    s = i[0]\n",
    "    t = i[1]\n",
    "    weighted_edges.append( (*i, C[t]) )\n",
    "#[(i, {'weight':C[i[-1]]}) for i in allowed_edges]"
   ]
  },
  {
   "cell_type": "code",
   "execution_count": 14,
   "metadata": {},
   "outputs": [
    {
     "data": {
      "text/plain": [
       "[((0, 0), (0, 1)),\n",
       " ((0, 0), (1, 0)),\n",
       " ((0, 0), (1, 1)),\n",
       " ((0, 1), (0, 2)),\n",
       " ((0, 1), (1, 1)),\n",
       " ((0, 1), (1, 2)),\n",
       " ((0, 2), (0, 3)),\n",
       " ((0, 2), (1, 2)),\n",
       " ((0, 2), (1, 3)),\n",
       " ((0, 3), (1, 3)),\n",
       " ((1, 0), (1, 1)),\n",
       " ((1, 0), (2, 0)),\n",
       " ((1, 0), (2, 1)),\n",
       " ((1, 1), (1, 2)),\n",
       " ((1, 1), (2, 1)),\n",
       " ((1, 1), (2, 2)),\n",
       " ((1, 2), (1, 3)),\n",
       " ((1, 2), (2, 2)),\n",
       " ((1, 2), (2, 3)),\n",
       " ((1, 3), (2, 3)),\n",
       " ((2, 0), (2, 1)),\n",
       " ((2, 1), (2, 2)),\n",
       " ((2, 2), (2, 3))]"
      ]
     },
     "execution_count": 14,
     "metadata": {},
     "output_type": "execute_result"
    },
    {
     "data": {
      "image/png": "[encoded data removed]",
      "text/plain": [
       "<Figure size 432x288 with 1 Axes>"
      ]
     },
     "metadata": {},
     "output_type": "display_data"
    }
   ],
   "source": [
    "G.add_weighted_edges_from(weighted_edges)\n",
    "nx.draw(G, pos, with_labels=True)\n",
    "list(G.edges)"
   ]
  },
  {
   "cell_type": "code",
   "execution_count": 15,
   "metadata": {},
   "outputs": [
    {
     "name": "stdout",
     "output_type": "stream",
     "text": [
      "The shortest path is [(0, 0), (1, 1), (2, 2), (2, 3)] with DTW score of 64.0\n"
     ]
    }
   ],
   "source": [
    "sh_path = nx.shortest_path(G, source=(0,0), target=(n-1,m-1), weight='weight')\n",
    "DTW_score = C[(0,0)] + nx.path_weight(G, sh_path, weight='weight')\n",
    "print(f\"The shortest path is {sh_path} with DTW score of {DTW_score}\")"
   ]
  },
  {
   "cell_type": "code",
   "execution_count": 153,
   "metadata": {},
   "outputs": [
    {
     "data": {
      "text/plain": [
       "0.0"
      ]
     },
     "execution_count": 153,
     "metadata": {},
     "output_type": "execute_result"
    }
   ],
   "source": [
    "C[0][0]"
   ]
  },
  {
   "cell_type": "code",
   "execution_count": 8,
   "metadata": {},
   "outputs": [
    {
     "name": "stdout",
     "output_type": "stream",
     "text": [
      "The shortest path is [(0, 0), (1, 1), (2, 2), (2, 3)] with DTW score of 64.0\n"
     ]
    }
   ],
   "source": [
    "X = np.array([[0,1,2,3], [4,5,6,7], [8,9,10,11]])\n",
    "Y = np.array([[0,1,2,3], [4,5,6,7], [8,9,10,11], [12,13,14,15]])\n",
    "compute_dtw(X,Y)"
   ]
  },
  {
   "cell_type": "markdown",
   "metadata": {},
   "source": [
    "--------------------\n",
    "StackOverflow distance"
   ]
  },
  {
   "cell_type": "code",
   "execution_count": 2,
   "metadata": {},
   "outputs": [],
   "source": [
    "from scipy.spatial import distance\n",
    "#custom metric\n",
    "def DTW(a, b):   \n",
    "    an = a.shape[0]\n",
    "    bn = b.shape[0]\n",
    "    \n",
    "    pointwise_distance = distance.cdist(a,b, metric='sqeuclidean')\n",
    "    cumdist = np.matrix(np.ones((an+1,bn+1)) * np.inf)\n",
    "    cumdist[0,0] = 0\n",
    "\n",
    "    for ai in range(an):\n",
    "        for bi in range(bn):\n",
    "            minimum_cost = np.min([cumdist[ai, bi+1],\n",
    "                                   cumdist[ai+1, bi],\n",
    "                                   cumdist[ai, bi]])\n",
    "            cumdist[ai+1, bi+1] = pointwise_distance[ai,bi] + minimum_cost\n",
    "\n",
    "    return cumdist[an, bn]"
   ]
  },
  {
   "cell_type": "markdown",
   "metadata": {},
   "source": [
    "------------"
   ]
  },
  {
   "cell_type": "markdown",
   "metadata": {},
   "source": [
    "## Experiments"
   ]
  },
  {
   "cell_type": "code",
   "execution_count": 7,
   "metadata": {},
   "outputs": [
    {
     "data": {
      "text/plain": [
       "56"
      ]
     },
     "execution_count": 7,
     "metadata": {},
     "output_type": "execute_result"
    }
   ],
   "source": [
    "original_list = list(range(4))\n",
    "x = np.array(original_list)\n",
    "y = np.array([i*3 for i in original_list])\n",
    "euclidean_distance(x,y,True)"
   ]
  },
  {
   "cell_type": "code",
   "execution_count": 63,
   "metadata": {},
   "outputs": [
    {
     "data": {
      "text/plain": [
       "array([[  0.,  64., 256., 576.],\n",
       "       [ 64.,   0.,  64., 256.],\n",
       "       [256.,  64.,   0.,  64.]])"
      ]
     },
     "execution_count": 63,
     "metadata": {},
     "output_type": "execute_result"
    }
   ],
   "source": [
    "X = np.array([[0,1,2,3], [4,5,6,7], [8,9,10,11]])\n",
    "Y = np.array([[0,1,2,3], [4,5,6,7], [8,9,10,11], [12,13,14,15]])\n",
    "C = compute_cost_matrix(X, Y)\n",
    "C"
   ]
  },
  {
   "cell_type": "code",
   "execution_count": 13,
   "metadata": {},
   "outputs": [
    {
     "data": {
      "text/plain": [
       "256"
      ]
     },
     "execution_count": 13,
     "metadata": {},
     "output_type": "execute_result"
    }
   ],
   "source": [
    "euclidean_distance(np.array([0,1,2,3]), np.array([8,9,10,11]), True)"
   ]
  },
  {
   "cell_type": "code",
   "execution_count": 67,
   "metadata": {},
   "outputs": [
    {
     "name": "stdout",
     "output_type": "stream",
     "text": [
      "((0, 0), (1, 1))\n"
     ]
    },
    {
     "data": {
      "text/plain": [
       "0.0"
      ]
     },
     "execution_count": 67,
     "metadata": {},
     "output_type": "execute_result"
    }
   ],
   "source": [
    "X = np.array([[0,1,2,3], [4,5,6,7], [8,9,10,11]])\n",
    "Y = np.array([[0,1,2,3], [4,5,6,7], [8,9,10,11], [12,13,14,15]])\n",
    "C = compute_cost_matrix(X, Y)\n",
    "print(allowed_edges[2])\n",
    "s = allowed_edges[2][0]\n",
    "t = allowed_edges[2][1]\n",
    "C[t]"
   ]
  },
  {
   "cell_type": "markdown",
   "metadata": {},
   "source": [
    "# KNNeighbors"
   ]
  },
  {
   "cell_type": "code",
   "execution_count": 1,
   "metadata": {},
   "outputs": [],
   "source": [
    "import pandas as pd\n",
    "import numpy as np\n",
    "import os\n",
    "import utils\n",
    "import classes"
   ]
  },
  {
   "cell_type": "code",
   "execution_count": 2,
   "metadata": {},
   "outputs": [],
   "source": [
    "features_1 = [\n",
    "    'sx_x',\n",
    "    'sx_y',\n",
    "    'sx_z',\n",
    "    'sx_roll',\n",
    "    'sx_pitch',\n",
    "    'sx_yaw',\n",
    "    'sx_thumb',\n",
    "    'sx_forefinger',\n",
    "    'sx_middle_finger',\n",
    "    'sx_ring_finger',\n",
    "    'sx_little_finger',\n",
    "    'dx_x',\n",
    "    'dx_y',\n",
    "    'dx_z',\n",
    "    'dx_roll',\n",
    "    'dx_pitch',\n",
    "    'dx_yaw',\n",
    "    'dx_thumb',\n",
    "    'dx_forefinger',\n",
    "    'dx_middle_finger',\n",
    "    'dx_ring_finger',\n",
    "    'dx_little_finger'\n",
    "    ]\n",
    "\n"
   ]
  },
  {
   "cell_type": "code",
   "execution_count": 3,
   "metadata": {},
   "outputs": [],
   "source": [
    "path = \"./tctodd/\"\n",
    "#path = \"../../Desktop/MML Project/tctodd/\"\n",
    "dirs = os.listdir(path=path)\n",
    "weeks = sorted([i for i in dirs if i != \".DS_Store\"])\n",
    "filenames = sorted(os.listdir(path+weeks[1]))\n",
    "\n",
    "data = []\n",
    "labels = dict()\n",
    "label_cnt = 0\n",
    "\n",
    "for w in weeks:\n",
    "    temp_path = path+w+\"/\"\n",
    "    filenames = sorted(os.listdir(temp_path))\n",
    "    for fn in filenames:\n",
    "        label = fn.split('.')[0][:-2]\n",
    "        \n",
    "        if label not in labels:\n",
    "            labels[label] = label_cnt\n",
    "            label_cnt += 1\n",
    "            \n",
    "        data.append({'label':labels[label], 'time_series':pd.read_csv(temp_path+fn, header=None, sep='\\t',).values})\n",
    "        "
   ]
  },
  {
   "cell_type": "code",
   "execution_count": 4,
   "metadata": {},
   "outputs": [],
   "source": [
    "df = pd.DataFrame(data, columns=['label', 'time_series'])\n",
    "seed = 0\n",
    "X = df['time_series']\n",
    "y = df['label']"
   ]
  },
  {
   "cell_type": "code",
   "execution_count": 5,
   "metadata": {},
   "outputs": [
    {
     "data": {
      "text/plain": [
       "(136, 22)"
      ]
     },
     "execution_count": 5,
     "metadata": {},
     "output_type": "execute_result"
    }
   ],
   "source": [
    "longest_series_shape = sorted(X.apply(lambda x: x.shape), key=lambda a: -a[0])[0]\n",
    "longest_series_shape"
   ]
  },
  {
   "cell_type": "code",
   "execution_count": 6,
   "metadata": {},
   "outputs": [
    {
     "data": {
      "text/plain": [
       "\"from typing import Tuple\\n\\ndef fill_nan_return_array(longest_series_shape:Tuple, time_series:pd.Series):\\n    new_series = np.full(longest_series_shape, 10000, dtype='float64')\\n    new_series.ravel()[:time_series.size] = time_series.ravel()\\n    return new_series.reshape(-1)\""
      ]
     },
     "execution_count": 6,
     "metadata": {},
     "output_type": "execute_result"
    }
   ],
   "source": [
    "'''from typing import Tuple\n",
    "\n",
    "def fill_nan_return_array(longest_series_shape:Tuple, time_series:pd.Series):\n",
    "    new_series = np.full(longest_series_shape, 10000, dtype='float64')\n",
    "    new_series.ravel()[:time_series.size] = time_series.ravel()\n",
    "    return new_series.reshape(-1)'''\n"
   ]
  },
  {
   "cell_type": "code",
   "execution_count": 7,
   "metadata": {},
   "outputs": [
    {
     "data": {
      "text/plain": [
       "(2992,)    2565\n",
       "Name: time_series, dtype: int64"
      ]
     },
     "execution_count": 7,
     "metadata": {},
     "output_type": "execute_result"
    }
   ],
   "source": [
    "new_X = X.apply(lambda x: utils.fill_nan_return_array(longest_series_shape, x))\n",
    "new_X.apply(lambda x: x.shape).value_counts()"
   ]
  },
  {
   "cell_type": "code",
   "execution_count": 8,
   "metadata": {},
   "outputs": [],
   "source": [
    "from sklearn.model_selection import train_test_split\n",
    "from sklearn.neighbors import KNeighborsClassifier\n",
    "from sklearn.metrics import accuracy_score\n",
    "\n",
    "\n",
    "'''d = dict()\n",
    "\n",
    "\n",
    "for id in range(len(X)):\n",
    "    l = []\n",
    "    for i in range(X.iloc[id].shape[-1]):\n",
    "        l.append(pd.Series(X.iloc[id][:,i]))\n",
    "    d[id] = l\n",
    "\n",
    "X_df = pd.DataFrame.from_dict(d, orient='index', columns=features_1)\n",
    "\n",
    "'''\n",
    "X_train, X_test, y_train, y_test = train_test_split(new_X, y,\n",
    "                                                    stratify=y, \n",
    "                                                    test_size=0.1, random_state=seed)"
   ]
  },
  {
   "cell_type": "code",
   "execution_count": 9,
   "metadata": {},
   "outputs": [],
   "source": [
    "train_list = np.array([i for i in X_train])\n",
    "test_list = np.array([i for i in X_test])\n"
   ]
  },
  {
   "cell_type": "code",
   "execution_count": 10,
   "metadata": {},
   "outputs": [
    {
     "data": {
      "text/plain": [
       "array([    0,     0,     0, ..., 10000, 10000, 10000])"
      ]
     },
     "execution_count": 10,
     "metadata": {},
     "output_type": "execute_result"
    }
   ],
   "source": [
    "train_list[0]"
   ]
  },
  {
   "cell_type": "code",
   "execution_count": 136,
   "metadata": {},
   "outputs": [],
   "source": [
    "def restore_time_series(X:np.array, flag_value:int=10000) -> np.array:\n",
    "    \"\"\"\n",
    "    Restore the time series\n",
    "\n",
    "    Args:\n",
    "        X (np.array): _description_\n",
    "        flag_value (int, optional): _description_. Defaults to 10000.\n",
    "\n",
    "    Returns:\n",
    "        np.array: _description_\n",
    "    \"\"\"\n",
    "    idx = -1\n",
    "    for i in range(len(X)):\n",
    "        if X[i] == flag_value:\n",
    "            idx = i\n",
    "            break\n",
    "    if idx == -1:\n",
    "        return X.reshape((-1,22))    \n",
    "    \n",
    "    return X[:idx].reshape((-1,22))\n",
    "\n",
    "# DTW stack overflow/wikipedia\n",
    "from scipy.spatial import distance\n",
    "#custom metric\n",
    "def DTW(a, b):\n",
    "    \n",
    "    new_a = restore_time_series(a)\n",
    "    new_b = restore_time_series(b)\n",
    "    \n",
    "    an = new_a.shape[0]\n",
    "    bn = new_b.shape[0]\n",
    "    \n",
    "    pointwise_distance = distance.cdist(new_a, new_b, metric='sqeuclidean')\n",
    "    cumdist = np.matrix(np.ones((an+1,bn+1)) * np.inf)\n",
    "    cumdist[0,0] = 0\n",
    "\n",
    "    for ai in range(an):\n",
    "        for bi in range(bn):\n",
    "            minimum_cost = np.min([cumdist[ai, bi+1],\n",
    "                                   cumdist[ai+1, bi],\n",
    "                                   cumdist[ai, bi]])\n",
    "            cumdist[ai+1, bi+1] = pointwise_distance[ai,bi] + minimum_cost\n",
    "\n",
    "    return cumdist[an, bn]"
   ]
  },
  {
   "cell_type": "code",
   "execution_count": 11,
   "metadata": {},
   "outputs": [
    {
     "name": "stdout",
     "output_type": "stream",
     "text": [
      "0.1245136186770428\n"
     ]
    }
   ],
   "source": [
    "knn = KNeighborsClassifier(n_neighbors=1, metric=utils.DTW)\n",
    "\n",
    "knn.fit(train_list, y_train)\n",
    "\n",
    "preds = knn.predict(test_list)\n",
    "\n",
    "score = accuracy_score(y_test, preds)\n",
    "print(score)"
   ]
  },
  {
   "cell_type": "code",
   "execution_count": null,
   "metadata": {},
   "outputs": [],
   "source": []
  }
 ],
 "metadata": {
  "kernelspec": {
   "display_name": "Python 3.9.13 ('data_science')",
   "language": "python",
   "name": "python3"
  },
  "language_info": {
   "codemirror_mode": {
    "name": "ipython",
    "version": 3
   },
   "file_extension": ".py",
   "mimetype": "text/x-python",
   "name": "python",
   "nbconvert_exporter": "python",
   "pygments_lexer": "ipython3",
   "version": "3.9.13"
  },
  "orig_nbformat": 4,
  "vscode": {
   "interpreter": {
    "hash": "391ddcc66a8b67209ee4ca14a5da0cf1073041a687facbd61882e6753a3822ab"
   }
  }
 },
 "nbformat": 4,
 "nbformat_minor": 2
}
