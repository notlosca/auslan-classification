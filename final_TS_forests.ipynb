{
 "cells": [
  {
   "cell_type": "code",
   "execution_count": 1,
   "metadata": {},
   "outputs": [],
   "source": [
    "import pandas as pd\n",
    "import numpy as np\n",
    "import os\n",
    "import utils\n",
    "\n",
    "features_1 = [\n",
    "    'sx_x',\n",
    "    'sx_y',\n",
    "    'sx_z',\n",
    "    'sx_roll',\n",
    "    'sx_pitch',\n",
    "    'sx_yaw',\n",
    "    'sx_thumb',\n",
    "    'sx_forefinger',\n",
    "    'sx_middle_finger',\n",
    "    'sx_ring_finger',\n",
    "    'sx_little_finger',\n",
    "    'dx_x',\n",
    "    'dx_y',\n",
    "    'dx_z',\n",
    "    'dx_roll',\n",
    "    'dx_pitch',\n",
    "    'dx_yaw',\n",
    "    'dx_thumb',\n",
    "    'dx_forefinger',\n",
    "    'dx_middle_finger',\n",
    "    'dx_ring_finger',\n",
    "    'dx_little_finger'\n",
    "    ]\n",
    "\n"
   ]
  },
  {
   "cell_type": "code",
   "execution_count": 2,
   "metadata": {},
   "outputs": [],
   "source": [
    "path = \"./tctodd/\"\n",
    "#path = \"../../Desktop/MML Project/tctodd/\"\n",
    "dirs = os.listdir(path=path)\n",
    "weeks = sorted([i for i in dirs if i != \".DS_Store\"])\n",
    "filenames = sorted(os.listdir(path+weeks[1]))\n",
    "\n",
    "data = []\n",
    "labels = dict()\n",
    "label_cnt = 0\n",
    "\n",
    "for w in weeks:\n",
    "    temp_path = path+w+\"/\"\n",
    "    filenames = sorted(os.listdir(temp_path))\n",
    "    for fn in filenames:\n",
    "        label = fn.split('.')[0][:-2]\n",
    "        \n",
    "        if label not in labels:\n",
    "            labels[label] = label_cnt\n",
    "            label_cnt += 1\n",
    "            \n",
    "        data.append({'label':labels[label], 'time_series':pd.read_csv(temp_path+fn, header=None, sep='\\t',).values})\n",
    "        "
   ]
  },
  {
   "cell_type": "code",
   "execution_count": 3,
   "metadata": {},
   "outputs": [],
   "source": [
    "df = pd.DataFrame(data, columns=['label', 'time_series'])\n",
    "seed = 0"
   ]
  },
  {
   "cell_type": "code",
   "execution_count": 4,
   "metadata": {},
   "outputs": [
    {
     "name": "stdout",
     "output_type": "stream",
     "text": [
      "Shape of new interpolated and stacked X is (2565,)\n"
     ]
    }
   ],
   "source": [
    "X = df['time_series']\n",
    "y = df['label']\n",
    "\n",
    "n_coords = 60\n",
    "X_interp = utils.interpolate_data(X, n_coords)\n",
    "X_interp_concatenated = utils.concatenate_examples(X_interp)\n",
    "\n",
    "print(f\"Shape of new interpolated and stacked X is {X_interp.shape}\")"
   ]
  },
  {
   "cell_type": "code",
   "execution_count": 5,
   "metadata": {},
   "outputs": [
    {
     "name": "stdout",
     "output_type": "stream",
     "text": [
      "Score of the plain TimeSeriesForestClassifier without cross-validation is 0.6264591439688716\n"
     ]
    }
   ],
   "source": [
    "from sktime.classification.interval_based import TimeSeriesForestClassifier\n",
    "from sklearn.model_selection import train_test_split\n",
    "from sklearn.metrics import accuracy_score\n",
    "\n",
    "X_train, X_test, y_train, y_test = train_test_split(X_interp_concatenated, y,\n",
    "                                                    stratify=y, \n",
    "                                                    test_size=0.1, random_state=seed)\n",
    "\n",
    "ts_forest = TimeSeriesForestClassifier(random_state=seed)\n",
    "\n",
    "ts_forest.fit(X_train, y_train)\n",
    "preds = ts_forest.predict(X_test)\n",
    "score = accuracy_score(y_test, preds)\n",
    "print(f\"Score of the plain TimeSeriesForestClassifier without cross-validation is {score}\")"
   ]
  },
  {
   "cell_type": "code",
   "execution_count": null,
   "metadata": {},
   "outputs": [],
   "source": []
  }
 ],
 "metadata": {
  "kernelspec": {
   "display_name": "Python 3.9.13 ('data_science')",
   "language": "python",
   "name": "python3"
  },
  "language_info": {
   "codemirror_mode": {
    "name": "ipython",
    "version": 3
   },
   "file_extension": ".py",
   "mimetype": "text/x-python",
   "name": "python",
   "nbconvert_exporter": "python",
   "pygments_lexer": "ipython3",
   "version": "3.9.13"
  },
  "orig_nbformat": 4,
  "vscode": {
   "interpreter": {
    "hash": "391ddcc66a8b67209ee4ca14a5da0cf1073041a687facbd61882e6753a3822ab"
   }
  }
 },
 "nbformat": 4,
 "nbformat_minor": 2
}
